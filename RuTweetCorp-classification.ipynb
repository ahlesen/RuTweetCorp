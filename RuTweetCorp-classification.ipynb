{
 "cells": [
  {
   "cell_type": "code",
   "execution_count": null,
   "metadata": {},
   "outputs": [],
   "source": [
    "from google.colab import drive\n",
    "drive.mount('/content/gdrive')\n",
    "%matplotlib inline"
   ]
  },
  {
   "cell_type": "markdown",
   "metadata": {
    "colab_type": "text",
    "id": "AaWRU3qEvBXJ"
   },
   "source": [
    "## Классификации текстов набора данных RuTweetCorp на два класса эмоциональной окраски"
   ]
  },
  {
   "cell_type": "code",
   "execution_count": null,
   "metadata": {
    "colab": {
     "base_uri": "https://localhost:8080/",
     "height": 1000
    },
    "colab_type": "code",
    "id": "WRP2uJMyvuED",
    "outputId": "8925c20d-6948-42e4-d3e9-2ac8119be35b"
   },
   "outputs": [
    {
     "name": "stdout",
     "output_type": "stream",
     "text": [
      "Requirement already satisfied: scikit-learn in /usr/local/lib/python3.6/dist-packages (from -r requirements.txt (line 1)) (0.22.2.post1)\n",
      "Requirement already satisfied: spacy-udpipe in /usr/local/lib/python3.6/dist-packages (from -r requirements.txt (line 2)) (0.3.1)\n",
      "Requirement already satisfied: pymorphy2 in /usr/local/lib/python3.6/dist-packages (from -r requirements.txt (line 3)) (0.8)\n",
      "Requirement already satisfied: torch>=1.2 in /usr/local/lib/python3.6/dist-packages (from -r requirements.txt (line 4)) (1.5.1+cu101)\n",
      "Requirement already satisfied: matplotlib in /usr/local/lib/python3.6/dist-packages (from -r requirements.txt (line 5)) (3.2.2)\n",
      "Requirement already satisfied: ipymarkup in /usr/local/lib/python3.6/dist-packages (from -r requirements.txt (line 6)) (0.9.0)\n",
      "Requirement already satisfied: lxml in /usr/local/lib/python3.6/dist-packages (from -r requirements.txt (line 7)) (4.2.6)\n",
      "Requirement already satisfied: scipy in /usr/local/lib/python3.6/dist-packages (from -r requirements.txt (line 8)) (1.4.1)\n",
      "Requirement already satisfied: pandas in /usr/local/lib/python3.6/dist-packages (from -r requirements.txt (line 9)) (1.0.5)\n",
      "Requirement already satisfied: tqdm in /usr/local/lib/python3.6/dist-packages (from -r requirements.txt (line 10)) (4.41.1)\n",
      "Requirement already satisfied: youtokentome in /usr/local/lib/python3.6/dist-packages (from -r requirements.txt (line 11)) (1.0.6)\n",
      "Requirement already satisfied: seaborn in /usr/local/lib/python3.6/dist-packages (from -r requirements.txt (line 12)) (0.10.1)\n",
      "Requirement already satisfied: ipykernel in /usr/local/lib/python3.6/dist-packages (from -r requirements.txt (line 13)) (4.10.1)\n",
      "Requirement already satisfied: ipython in /usr/local/lib/python3.6/dist-packages (from -r requirements.txt (line 14)) (5.5.0)\n",
      "Requirement already satisfied: pyconll in /usr/local/lib/python3.6/dist-packages (from -r requirements.txt (line 15)) (2.2.1)\n",
      "Requirement already satisfied: numpy>=1.11.0 in /usr/local/lib/python3.6/dist-packages (from scikit-learn->-r requirements.txt (line 1)) (1.18.5)\n",
      "Requirement already satisfied: joblib>=0.11 in /usr/local/lib/python3.6/dist-packages (from scikit-learn->-r requirements.txt (line 1)) (0.16.0)\n",
      "Requirement already satisfied: ufal.udpipe>=1.2.0 in /usr/local/lib/python3.6/dist-packages (from spacy-udpipe->-r requirements.txt (line 2)) (1.2.0.3)\n",
      "Requirement already satisfied: spacy>=2.1.0 in /usr/local/lib/python3.6/dist-packages (from spacy-udpipe->-r requirements.txt (line 2)) (2.2.4)\n",
      "Requirement already satisfied: docopt>=0.6 in /usr/local/lib/python3.6/dist-packages (from pymorphy2->-r requirements.txt (line 3)) (0.6.2)\n",
      "Requirement already satisfied: dawg-python>=0.7 in /usr/local/lib/python3.6/dist-packages (from pymorphy2->-r requirements.txt (line 3)) (0.7.2)\n",
      "Requirement already satisfied: pymorphy2-dicts<3.0,>=2.4 in /usr/local/lib/python3.6/dist-packages (from pymorphy2->-r requirements.txt (line 3)) (2.4.393442.3710985)\n",
      "Requirement already satisfied: future in /usr/local/lib/python3.6/dist-packages (from torch>=1.2->-r requirements.txt (line 4)) (0.16.0)\n",
      "Requirement already satisfied: pyparsing!=2.0.4,!=2.1.2,!=2.1.6,>=2.0.1 in /usr/local/lib/python3.6/dist-packages (from matplotlib->-r requirements.txt (line 5)) (2.4.7)\n",
      "Requirement already satisfied: cycler>=0.10 in /usr/local/lib/python3.6/dist-packages (from matplotlib->-r requirements.txt (line 5)) (0.10.0)\n",
      "Requirement already satisfied: python-dateutil>=2.1 in /usr/local/lib/python3.6/dist-packages (from matplotlib->-r requirements.txt (line 5)) (2.8.1)\n",
      "Requirement already satisfied: kiwisolver>=1.0.1 in /usr/local/lib/python3.6/dist-packages (from matplotlib->-r requirements.txt (line 5)) (1.2.0)\n",
      "Requirement already satisfied: intervaltree>=3 in /usr/local/lib/python3.6/dist-packages (from ipymarkup->-r requirements.txt (line 6)) (3.0.2)\n",
      "Requirement already satisfied: pytz>=2017.2 in /usr/local/lib/python3.6/dist-packages (from pandas->-r requirements.txt (line 9)) (2018.9)\n",
      "Requirement already satisfied: Click>=7.0 in /usr/local/lib/python3.6/dist-packages (from youtokentome->-r requirements.txt (line 11)) (7.1.2)\n",
      "Requirement already satisfied: tornado>=4.0 in /usr/local/lib/python3.6/dist-packages (from ipykernel->-r requirements.txt (line 13)) (4.5.3)\n",
      "Requirement already satisfied: jupyter-client in /usr/local/lib/python3.6/dist-packages (from ipykernel->-r requirements.txt (line 13)) (5.3.5)\n",
      "Requirement already satisfied: traitlets>=4.1.0 in /usr/local/lib/python3.6/dist-packages (from ipykernel->-r requirements.txt (line 13)) (4.3.3)\n",
      "Requirement already satisfied: pexpect; sys_platform != \"win32\" in /usr/local/lib/python3.6/dist-packages (from ipython->-r requirements.txt (line 14)) (4.8.0)\n",
      "Requirement already satisfied: decorator in /usr/local/lib/python3.6/dist-packages (from ipython->-r requirements.txt (line 14)) (4.4.2)\n",
      "Requirement already satisfied: prompt-toolkit<2.0.0,>=1.0.4 in /usr/local/lib/python3.6/dist-packages (from ipython->-r requirements.txt (line 14)) (1.0.18)\n",
      "Requirement already satisfied: setuptools>=18.5 in /usr/local/lib/python3.6/dist-packages (from ipython->-r requirements.txt (line 14)) (49.1.0)\n",
      "Requirement already satisfied: pygments in /usr/local/lib/python3.6/dist-packages (from ipython->-r requirements.txt (line 14)) (2.1.3)\n",
      "Requirement already satisfied: simplegeneric>0.8 in /usr/local/lib/python3.6/dist-packages (from ipython->-r requirements.txt (line 14)) (0.8.1)\n",
      "Requirement already satisfied: pickleshare in /usr/local/lib/python3.6/dist-packages (from ipython->-r requirements.txt (line 14)) (0.7.5)\n",
      "Requirement already satisfied: requests>=2.21 in /usr/local/lib/python3.6/dist-packages (from pyconll->-r requirements.txt (line 15)) (2.23.0)\n",
      "Requirement already satisfied: wasabi<1.1.0,>=0.4.0 in /usr/local/lib/python3.6/dist-packages (from spacy>=2.1.0->spacy-udpipe->-r requirements.txt (line 2)) (0.7.0)\n",
      "Requirement already satisfied: blis<0.5.0,>=0.4.0 in /usr/local/lib/python3.6/dist-packages (from spacy>=2.1.0->spacy-udpipe->-r requirements.txt (line 2)) (0.4.1)\n",
      "Requirement already satisfied: preshed<3.1.0,>=3.0.2 in /usr/local/lib/python3.6/dist-packages (from spacy>=2.1.0->spacy-udpipe->-r requirements.txt (line 2)) (3.0.2)\n",
      "Requirement already satisfied: catalogue<1.1.0,>=0.0.7 in /usr/local/lib/python3.6/dist-packages (from spacy>=2.1.0->spacy-udpipe->-r requirements.txt (line 2)) (1.0.0)\n",
      "Requirement already satisfied: murmurhash<1.1.0,>=0.28.0 in /usr/local/lib/python3.6/dist-packages (from spacy>=2.1.0->spacy-udpipe->-r requirements.txt (line 2)) (1.0.2)\n",
      "Requirement already satisfied: srsly<1.1.0,>=1.0.2 in /usr/local/lib/python3.6/dist-packages (from spacy>=2.1.0->spacy-udpipe->-r requirements.txt (line 2)) (1.0.2)\n",
      "Requirement already satisfied: plac<1.2.0,>=0.9.6 in /usr/local/lib/python3.6/dist-packages (from spacy>=2.1.0->spacy-udpipe->-r requirements.txt (line 2)) (1.1.3)\n",
      "Requirement already satisfied: thinc==7.4.0 in /usr/local/lib/python3.6/dist-packages (from spacy>=2.1.0->spacy-udpipe->-r requirements.txt (line 2)) (7.4.0)\n",
      "Requirement already satisfied: cymem<2.1.0,>=2.0.2 in /usr/local/lib/python3.6/dist-packages (from spacy>=2.1.0->spacy-udpipe->-r requirements.txt (line 2)) (2.0.3)\n",
      "Requirement already satisfied: six in /usr/local/lib/python3.6/dist-packages (from cycler>=0.10->matplotlib->-r requirements.txt (line 5)) (1.12.0)\n",
      "Requirement already satisfied: sortedcontainers<3.0,>=2.0 in /usr/local/lib/python3.6/dist-packages (from intervaltree>=3->ipymarkup->-r requirements.txt (line 6)) (2.2.2)\n",
      "Requirement already satisfied: pyzmq>=13 in /usr/local/lib/python3.6/dist-packages (from jupyter-client->ipykernel->-r requirements.txt (line 13)) (19.0.1)\n",
      "Requirement already satisfied: jupyter-core>=4.6.0 in /usr/local/lib/python3.6/dist-packages (from jupyter-client->ipykernel->-r requirements.txt (line 13)) (4.6.3)\n",
      "Requirement already satisfied: ipython-genutils in /usr/local/lib/python3.6/dist-packages (from traitlets>=4.1.0->ipykernel->-r requirements.txt (line 13)) (0.2.0)\n",
      "Requirement already satisfied: ptyprocess>=0.5 in /usr/local/lib/python3.6/dist-packages (from pexpect; sys_platform != \"win32\"->ipython->-r requirements.txt (line 14)) (0.6.0)\n",
      "Requirement already satisfied: wcwidth in /usr/local/lib/python3.6/dist-packages (from prompt-toolkit<2.0.0,>=1.0.4->ipython->-r requirements.txt (line 14)) (0.2.5)\n",
      "Requirement already satisfied: urllib3!=1.25.0,!=1.25.1,<1.26,>=1.21.1 in /usr/local/lib/python3.6/dist-packages (from requests>=2.21->pyconll->-r requirements.txt (line 15)) (1.24.3)\n",
      "Requirement already satisfied: idna<3,>=2.5 in /usr/local/lib/python3.6/dist-packages (from requests>=2.21->pyconll->-r requirements.txt (line 15)) (2.10)\n",
      "Requirement already satisfied: certifi>=2017.4.17 in /usr/local/lib/python3.6/dist-packages (from requests>=2.21->pyconll->-r requirements.txt (line 15)) (2020.6.20)\n",
      "Requirement already satisfied: chardet<4,>=3.0.2 in /usr/local/lib/python3.6/dist-packages (from requests>=2.21->pyconll->-r requirements.txt (line 15)) (3.0.4)\n",
      "Requirement already satisfied: importlib-metadata>=0.20; python_version < \"3.8\" in /usr/local/lib/python3.6/dist-packages (from catalogue<1.1.0,>=0.0.7->spacy>=2.1.0->spacy-udpipe->-r requirements.txt (line 2)) (1.7.0)\n",
      "Requirement already satisfied: zipp>=0.5 in /usr/local/lib/python3.6/dist-packages (from importlib-metadata>=0.20; python_version < \"3.8\"->catalogue<1.1.0,>=0.0.7->spacy>=2.1.0->spacy-udpipe->-r requirements.txt (line 2)) (3.1.0)\n"
     ]
    }
   ],
   "source": [
    "!pip install -r requirements.txt"
   ]
  },
  {
   "cell_type": "code",
   "execution_count": null,
   "metadata": {
    "colab": {
     "base_uri": "https://localhost:8080/",
     "height": 391
    },
    "colab_type": "code",
    "id": "kAWZ7xBYv3rv",
    "outputId": "7324a799-bd86-478c-ddfa-cba0c0e9ee7b"
   },
   "outputs": [
    {
     "name": "stdout",
     "output_type": "stream",
     "text": [
      "Requirement already satisfied: pytorch-transformers in /usr/local/lib/python3.6/dist-packages (1.2.0)\n",
      "Requirement already satisfied: numpy in /usr/local/lib/python3.6/dist-packages (from pytorch-transformers) (1.18.5)\n",
      "Requirement already satisfied: boto3 in /usr/local/lib/python3.6/dist-packages (from pytorch-transformers) (1.14.20)\n",
      "Requirement already satisfied: requests in /usr/local/lib/python3.6/dist-packages (from pytorch-transformers) (2.23.0)\n",
      "Requirement already satisfied: torch>=1.0.0 in /usr/local/lib/python3.6/dist-packages (from pytorch-transformers) (1.5.1+cu101)\n",
      "Requirement already satisfied: sacremoses in /usr/local/lib/python3.6/dist-packages (from pytorch-transformers) (0.0.43)\n",
      "Requirement already satisfied: regex in /usr/local/lib/python3.6/dist-packages (from pytorch-transformers) (2019.12.20)\n",
      "Requirement already satisfied: sentencepiece in /usr/local/lib/python3.6/dist-packages (from pytorch-transformers) (0.1.91)\n",
      "Requirement already satisfied: tqdm in /usr/local/lib/python3.6/dist-packages (from pytorch-transformers) (4.41.1)\n",
      "Requirement already satisfied: botocore<1.18.0,>=1.17.20 in /usr/local/lib/python3.6/dist-packages (from boto3->pytorch-transformers) (1.17.20)\n",
      "Requirement already satisfied: jmespath<1.0.0,>=0.7.1 in /usr/local/lib/python3.6/dist-packages (from boto3->pytorch-transformers) (0.10.0)\n",
      "Requirement already satisfied: s3transfer<0.4.0,>=0.3.0 in /usr/local/lib/python3.6/dist-packages (from boto3->pytorch-transformers) (0.3.3)\n",
      "Requirement already satisfied: chardet<4,>=3.0.2 in /usr/local/lib/python3.6/dist-packages (from requests->pytorch-transformers) (3.0.4)\n",
      "Requirement already satisfied: idna<3,>=2.5 in /usr/local/lib/python3.6/dist-packages (from requests->pytorch-transformers) (2.10)\n",
      "Requirement already satisfied: certifi>=2017.4.17 in /usr/local/lib/python3.6/dist-packages (from requests->pytorch-transformers) (2020.6.20)\n",
      "Requirement already satisfied: urllib3!=1.25.0,!=1.25.1,<1.26,>=1.21.1 in /usr/local/lib/python3.6/dist-packages (from requests->pytorch-transformers) (1.24.3)\n",
      "Requirement already satisfied: future in /usr/local/lib/python3.6/dist-packages (from torch>=1.0.0->pytorch-transformers) (0.16.0)\n",
      "Requirement already satisfied: joblib in /usr/local/lib/python3.6/dist-packages (from sacremoses->pytorch-transformers) (0.16.0)\n",
      "Requirement already satisfied: click in /usr/local/lib/python3.6/dist-packages (from sacremoses->pytorch-transformers) (7.1.2)\n",
      "Requirement already satisfied: six in /usr/local/lib/python3.6/dist-packages (from sacremoses->pytorch-transformers) (1.12.0)\n",
      "Requirement already satisfied: python-dateutil<3.0.0,>=2.1 in /usr/local/lib/python3.6/dist-packages (from botocore<1.18.0,>=1.17.20->boto3->pytorch-transformers) (2.8.1)\n",
      "Requirement already satisfied: docutils<0.16,>=0.10 in /usr/local/lib/python3.6/dist-packages (from botocore<1.18.0,>=1.17.20->boto3->pytorch-transformers) (0.15.2)\n"
     ]
    }
   ],
   "source": [
    "!pip install pytorch-transformers"
   ]
  },
  {
   "cell_type": "code",
   "execution_count": null,
   "metadata": {
    "colab": {
     "base_uri": "https://localhost:8080/",
     "height": 51
    },
    "colab_type": "code",
    "id": "X0I9Sb27wSBb",
    "outputId": "a734cd13-a166-4adf-ae1e-a946a052258a"
   },
   "outputs": [
    {
     "name": "stdout",
     "output_type": "stream",
     "text": [
      "fatal: destination path 'fastText' already exists and is not an empty directory.\n",
      "/content/gdrive/My Drive/Отбор на работу/Платформа НТИ/solution/fastText\n"
     ]
    }
   ],
   "source": [
    "!git clone https://github.com/facebookresearch/fastText.git\n",
    "%cd fastText"
   ]
  },
  {
   "cell_type": "code",
   "execution_count": null,
   "metadata": {
    "colab": {
     "base_uri": "https://localhost:8080/",
     "height": 272
    },
    "colab_type": "code",
    "id": "8G9CLGZSwh08",
    "outputId": "ea14f5d8-0964-439b-db72-316b878ffd02"
   },
   "outputs": [
    {
     "name": "stdout",
     "output_type": "stream",
     "text": [
      "Processing /content/gdrive/My Drive/Отбор на работу/Платформа НТИ/solution/fastText\n",
      "Requirement already satisfied: pybind11>=2.2 in /usr/local/lib/python3.6/dist-packages (from fasttext==0.9.2) (2.5.0)\n",
      "Requirement already satisfied: setuptools>=0.7.0 in /usr/local/lib/python3.6/dist-packages (from fasttext==0.9.2) (49.1.0)\n",
      "Requirement already satisfied: numpy in /usr/local/lib/python3.6/dist-packages (from fasttext==0.9.2) (1.18.5)\n",
      "Building wheels for collected packages: fasttext\n",
      "  Building wheel for fasttext (setup.py) ... \u001b[?25l\u001b[?25hdone\n",
      "  Created wheel for fasttext: filename=fasttext-0.9.2-cp36-cp36m-linux_x86_64.whl size=3009879 sha256=cbdfe36c122568a2c9fdbeb247121b5f6513590f68fc81b88e7ee4d52f0fbf62\n",
      "  Stored in directory: /tmp/pip-ephem-wheel-cache-e8cofjgd/wheels/b3/71/79/c90b23d1608bd152b6af6215920b1f4e9f31f6811a03947d14\n",
      "Successfully built fasttext\n",
      "Installing collected packages: fasttext\n",
      "  Found existing installation: fasttext 0.9.2\n",
      "    Uninstalling fasttext-0.9.2:\n",
      "      Successfully uninstalled fasttext-0.9.2\n",
      "Successfully installed fasttext-0.9.2\n",
      "/content/gdrive/My Drive/Отбор на работу/Платформа НТИ/solution\n"
     ]
    }
   ],
   "source": [
    "!sudo pip install .\n",
    "%cd ../"
   ]
  },
  {
   "cell_type": "code",
   "execution_count": null,
   "metadata": {
    "colab": {},
    "colab_type": "code",
    "id": "-MTuLFgWvBXK"
   },
   "outputs": [],
   "source": [
    "import pandas as pd\n",
    "import numpy as np\n",
    "\n",
    "from sklearn.feature_extraction.text import TfidfVectorizer, CountVectorizer\n",
    "from sklearn.pipeline import Pipeline\n",
    "\n",
    "from sklearn.linear_model import LogisticRegression, SGDClassifier\n",
    "from sklearn.naive_bayes import MultinomialNB, BernoulliNB\n",
    "\n",
    "from sklearn.metrics import accuracy_score, f1_score\n",
    "from sklearn.model_selection import train_test_split, cross_val_score, GridSearchCV\n",
    "\n",
    "import torch\n",
    "\n",
    "import string\n",
    "import re\n",
    "\n",
    "from tqdm import tqdm, trange, tqdm_notebook\n",
    "\n",
    "import warnings\n",
    "warnings.filterwarnings('ignore')\n",
    "\n",
    "import random\n",
    "import pymorphy2\n",
    "\n",
    "import matplotlib.pyplot as plt\n",
    "%matplotlib inline\n"
   ]
  },
  {
   "cell_type": "code",
   "execution_count": null,
   "metadata": {
    "colab": {
     "base_uri": "https://localhost:8080/",
     "height": 34
    },
    "colab_type": "code",
    "id": "a3YdduPrv6oa",
    "outputId": "d80cce06-692f-4b2e-fec8-d455bb01dfc8"
   },
   "outputs": [
    {
     "name": "stderr",
     "output_type": "stream",
     "text": [
      "Using TensorFlow backend.\n"
     ]
    }
   ],
   "source": [
    "from torch.utils.data import TensorDataset, DataLoader, RandomSampler, SequentialSampler\n",
    "from keras.preprocessing.sequence import pad_sequences\n",
    "from sklearn.model_selection import train_test_split\n",
    "from pytorch_transformers import BertTokenizer, BertConfig\n",
    "from pytorch_transformers import AdamW, BertForSequenceClassification, WarmupLinearSchedule\n",
    "from tqdm import tqdm, trange, tqdm_notebook\n",
    "import pandas as pd\n",
    "import io\n",
    "import numpy as np\n",
    "from sklearn.metrics import accuracy_score,f1_score\n",
    "import matplotlib.pyplot as plt\n",
    "import random\n",
    "from IPython.display import clear_output"
   ]
  },
  {
   "cell_type": "code",
   "execution_count": null,
   "metadata": {
    "colab": {
     "base_uri": "https://localhost:8080/",
     "height": 34
    },
    "colab_type": "code",
    "id": "i592FeC6wBie",
    "outputId": "ba443cea-e07f-445f-e657-348ac7f4be71"
   },
   "outputs": [
    {
     "name": "stdout",
     "output_type": "stream",
     "text": [
      "Tesla P100-PCIE-16GB\n"
     ]
    }
   ],
   "source": [
    "device = torch.device(\"cuda\" if torch.cuda.is_available() else \"cpu\")\n",
    "if device == 'cpu':\n",
    "    print('cpu')\n",
    "else:\n",
    "    n_gpu = torch.cuda.device_count()\n",
    "    print(torch.cuda.get_device_name(0))"
   ]
  },
  {
   "cell_type": "markdown",
   "metadata": {
    "colab_type": "text",
    "id": "pvAhLOFLvBXP"
   },
   "source": [
    "#### Зафиксируем seed для воспроизводимости"
   ]
  },
  {
   "cell_type": "code",
   "execution_count": null,
   "metadata": {
    "colab": {},
    "colab_type": "code",
    "id": "iBTmYrAavBXP"
   },
   "outputs": [],
   "source": [
    "#фиксируем seed \n",
    "def init_random_seed(value=0):\n",
    "    random.seed(value)\n",
    "    np.random.seed(value)\n",
    "    torch.manual_seed(value)\n",
    "    torch.cuda.manual_seed(value)\n",
    "    torch.backends.cudnn.deterministic = True\n",
    "\n",
    "RANDOM_SEED = 1712\n",
    "    \n",
    "init_random_seed(value=RANDOM_SEED)"
   ]
  },
  {
   "cell_type": "markdown",
   "metadata": {
    "colab_type": "text",
    "id": "ZbbcB7xuvBXT"
   },
   "source": [
    "База данных и таблицы состоит из 12 столбцов. <br>\n",
    "\n",
    "***Описание столбцов***:\n",
    " - **id**: уникальный номер сообщения в системе twitter;\n",
    " - **date**: дата публикации сообщения (твита);\n",
    " - **name**: имя пользователя, опубликовавшего сообщение;\n",
    " - **text**:  текст сообщения (твита);\n",
    " - **type**: поле в котором в дальнейшем будет указано к кому классу относится твит (положительный, отрицательный, нейтральный);\n",
    " - **rep**: количество реплаев к данному сообщению. В настоящий момент API твиттера не отдает эту информацию;\n",
    " - **rtw**: количество ретвитов к данному сообщению (количество копирований этого сообщения другими пользователями);\n",
    " - **faw**: число сколько раз данное сообщение было добавлено в избранное другими пользователями;\n",
    " - **stcount**: число всех сообщений пользователя в сети twitter;\n",
    " - **foll**: количество фоловеров пользователя (тех людей, которые читают пользователя);\n",
    " - **frien**: количество друзей пользователя (те люди, которых читает пользователь);\n",
    " - **listcount**: количество листов-подписок в которые добавлен твиттер-пользователь."
   ]
  },
  {
   "cell_type": "code",
   "execution_count": null,
   "metadata": {
    "colab": {},
    "colab_type": "code",
    "id": "W_PZxBUNvBXU"
   },
   "outputs": [],
   "source": [
    "n_columns = ['id', 'date', 'name', 'text', 'type', 'rep', 'rtw', 'faw', 'stcount', 'foll', 'frien', 'listcount']\n",
    "data_pos = pd.read_csv('data/positive.csv', sep=';', names=n_columns)\n",
    "data_neg = pd.read_csv('data/negative.csv', sep=';', names=n_columns)"
   ]
  },
  {
   "cell_type": "code",
   "execution_count": null,
   "metadata": {
    "colab": {
     "base_uri": "https://localhost:8080/",
     "height": 204
    },
    "colab_type": "code",
    "id": "PQxkdAVqvBXZ",
    "outputId": "56597b7b-7fc1-4a6a-88f1-8cae1b9ab86b"
   },
   "outputs": [
    {
     "data": {
      "text/html": [
       "<div>\n",
       "<style scoped>\n",
       "    .dataframe tbody tr th:only-of-type {\n",
       "        vertical-align: middle;\n",
       "    }\n",
       "\n",
       "    .dataframe tbody tr th {\n",
       "        vertical-align: top;\n",
       "    }\n",
       "\n",
       "    .dataframe thead th {\n",
       "        text-align: right;\n",
       "    }\n",
       "</style>\n",
       "<table border=\"1\" class=\"dataframe\">\n",
       "  <thead>\n",
       "    <tr style=\"text-align: right;\">\n",
       "      <th></th>\n",
       "      <th>id</th>\n",
       "      <th>date</th>\n",
       "      <th>name</th>\n",
       "      <th>text</th>\n",
       "      <th>type</th>\n",
       "      <th>rep</th>\n",
       "      <th>rtw</th>\n",
       "      <th>faw</th>\n",
       "      <th>stcount</th>\n",
       "      <th>foll</th>\n",
       "      <th>frien</th>\n",
       "      <th>listcount</th>\n",
       "    </tr>\n",
       "  </thead>\n",
       "  <tbody>\n",
       "    <tr>\n",
       "      <th>0</th>\n",
       "      <td>408906692374446080</td>\n",
       "      <td>1386325927</td>\n",
       "      <td>pleease_shut_up</td>\n",
       "      <td>@first_timee хоть я и школота, но поверь, у на...</td>\n",
       "      <td>1</td>\n",
       "      <td>0</td>\n",
       "      <td>0</td>\n",
       "      <td>0</td>\n",
       "      <td>7569</td>\n",
       "      <td>62</td>\n",
       "      <td>61</td>\n",
       "      <td>0</td>\n",
       "    </tr>\n",
       "    <tr>\n",
       "      <th>1</th>\n",
       "      <td>408906692693221377</td>\n",
       "      <td>1386325927</td>\n",
       "      <td>alinakirpicheva</td>\n",
       "      <td>Да, все-таки он немного похож на него. Но мой ...</td>\n",
       "      <td>1</td>\n",
       "      <td>0</td>\n",
       "      <td>0</td>\n",
       "      <td>0</td>\n",
       "      <td>11825</td>\n",
       "      <td>59</td>\n",
       "      <td>31</td>\n",
       "      <td>2</td>\n",
       "    </tr>\n",
       "    <tr>\n",
       "      <th>2</th>\n",
       "      <td>408906695083954177</td>\n",
       "      <td>1386325927</td>\n",
       "      <td>EvgeshaRe</td>\n",
       "      <td>RT @KatiaCheh: Ну ты идиотка) я испугалась за ...</td>\n",
       "      <td>1</td>\n",
       "      <td>0</td>\n",
       "      <td>1</td>\n",
       "      <td>0</td>\n",
       "      <td>1273</td>\n",
       "      <td>26</td>\n",
       "      <td>27</td>\n",
       "      <td>0</td>\n",
       "    </tr>\n",
       "    <tr>\n",
       "      <th>3</th>\n",
       "      <td>408906695356973056</td>\n",
       "      <td>1386325927</td>\n",
       "      <td>ikonnikova_21</td>\n",
       "      <td>RT @digger2912: \"Кто то в углу сидит и погибае...</td>\n",
       "      <td>1</td>\n",
       "      <td>0</td>\n",
       "      <td>1</td>\n",
       "      <td>0</td>\n",
       "      <td>1549</td>\n",
       "      <td>19</td>\n",
       "      <td>17</td>\n",
       "      <td>0</td>\n",
       "    </tr>\n",
       "    <tr>\n",
       "      <th>4</th>\n",
       "      <td>408906761416867842</td>\n",
       "      <td>1386325943</td>\n",
       "      <td>JumpyAlex</td>\n",
       "      <td>@irina_dyshkant Вот что значит страшилка :D\\nН...</td>\n",
       "      <td>1</td>\n",
       "      <td>0</td>\n",
       "      <td>0</td>\n",
       "      <td>0</td>\n",
       "      <td>597</td>\n",
       "      <td>16</td>\n",
       "      <td>23</td>\n",
       "      <td>1</td>\n",
       "    </tr>\n",
       "  </tbody>\n",
       "</table>\n",
       "</div>"
      ],
      "text/plain": [
       "                   id        date             name  ... foll  frien  listcount\n",
       "0  408906692374446080  1386325927  pleease_shut_up  ...   62     61          0\n",
       "1  408906692693221377  1386325927  alinakirpicheva  ...   59     31          2\n",
       "2  408906695083954177  1386325927        EvgeshaRe  ...   26     27          0\n",
       "3  408906695356973056  1386325927    ikonnikova_21  ...   19     17          0\n",
       "4  408906761416867842  1386325943        JumpyAlex  ...   16     23          1\n",
       "\n",
       "[5 rows x 12 columns]"
      ]
     },
     "execution_count": 151,
     "metadata": {
      "tags": []
     },
     "output_type": "execute_result"
    }
   ],
   "source": [
    "data_pos.head()"
   ]
  },
  {
   "cell_type": "code",
   "execution_count": null,
   "metadata": {
    "colab": {
     "base_uri": "https://localhost:8080/",
     "height": 204
    },
    "colab_type": "code",
    "id": "G7CkzYOmvBXe",
    "outputId": "dcb1ce8e-fe66-4c43-f16d-ac49650672f4"
   },
   "outputs": [
    {
     "data": {
      "text/html": [
       "<div>\n",
       "<style scoped>\n",
       "    .dataframe tbody tr th:only-of-type {\n",
       "        vertical-align: middle;\n",
       "    }\n",
       "\n",
       "    .dataframe tbody tr th {\n",
       "        vertical-align: top;\n",
       "    }\n",
       "\n",
       "    .dataframe thead th {\n",
       "        text-align: right;\n",
       "    }\n",
       "</style>\n",
       "<table border=\"1\" class=\"dataframe\">\n",
       "  <thead>\n",
       "    <tr style=\"text-align: right;\">\n",
       "      <th></th>\n",
       "      <th>id</th>\n",
       "      <th>date</th>\n",
       "      <th>name</th>\n",
       "      <th>text</th>\n",
       "      <th>type</th>\n",
       "      <th>rep</th>\n",
       "      <th>rtw</th>\n",
       "      <th>faw</th>\n",
       "      <th>stcount</th>\n",
       "      <th>foll</th>\n",
       "      <th>frien</th>\n",
       "      <th>listcount</th>\n",
       "    </tr>\n",
       "  </thead>\n",
       "  <tbody>\n",
       "    <tr>\n",
       "      <th>0</th>\n",
       "      <td>408906762813579264</td>\n",
       "      <td>1386325944</td>\n",
       "      <td>dugarchikbellko</td>\n",
       "      <td>на работе был полный пиддес :| и так каждое за...</td>\n",
       "      <td>-1</td>\n",
       "      <td>0</td>\n",
       "      <td>0</td>\n",
       "      <td>0</td>\n",
       "      <td>8064</td>\n",
       "      <td>111</td>\n",
       "      <td>94</td>\n",
       "      <td>2</td>\n",
       "    </tr>\n",
       "    <tr>\n",
       "      <th>1</th>\n",
       "      <td>408906818262687744</td>\n",
       "      <td>1386325957</td>\n",
       "      <td>nugemycejela</td>\n",
       "      <td>Коллеги сидят рубятся в Urban terror, а я из-з...</td>\n",
       "      <td>-1</td>\n",
       "      <td>0</td>\n",
       "      <td>0</td>\n",
       "      <td>0</td>\n",
       "      <td>26</td>\n",
       "      <td>42</td>\n",
       "      <td>39</td>\n",
       "      <td>0</td>\n",
       "    </tr>\n",
       "    <tr>\n",
       "      <th>2</th>\n",
       "      <td>408906858515398656</td>\n",
       "      <td>1386325966</td>\n",
       "      <td>4post21</td>\n",
       "      <td>@elina_4post как говорят обещаного три года жд...</td>\n",
       "      <td>-1</td>\n",
       "      <td>0</td>\n",
       "      <td>0</td>\n",
       "      <td>0</td>\n",
       "      <td>718</td>\n",
       "      <td>49</td>\n",
       "      <td>249</td>\n",
       "      <td>0</td>\n",
       "    </tr>\n",
       "    <tr>\n",
       "      <th>3</th>\n",
       "      <td>408906914437685248</td>\n",
       "      <td>1386325980</td>\n",
       "      <td>Poliwake</td>\n",
       "      <td>Желаю хорошего полёта и удачной посадки,я буду...</td>\n",
       "      <td>-1</td>\n",
       "      <td>0</td>\n",
       "      <td>0</td>\n",
       "      <td>0</td>\n",
       "      <td>10628</td>\n",
       "      <td>207</td>\n",
       "      <td>200</td>\n",
       "      <td>0</td>\n",
       "    </tr>\n",
       "    <tr>\n",
       "      <th>4</th>\n",
       "      <td>408906914723295232</td>\n",
       "      <td>1386325980</td>\n",
       "      <td>capyvixowe</td>\n",
       "      <td>Обновил за каким-то лешим surf, теперь не рабо...</td>\n",
       "      <td>-1</td>\n",
       "      <td>0</td>\n",
       "      <td>0</td>\n",
       "      <td>0</td>\n",
       "      <td>35</td>\n",
       "      <td>17</td>\n",
       "      <td>34</td>\n",
       "      <td>0</td>\n",
       "    </tr>\n",
       "  </tbody>\n",
       "</table>\n",
       "</div>"
      ],
      "text/plain": [
       "                   id        date             name  ... foll  frien  listcount\n",
       "0  408906762813579264  1386325944  dugarchikbellko  ...  111     94          2\n",
       "1  408906818262687744  1386325957     nugemycejela  ...   42     39          0\n",
       "2  408906858515398656  1386325966          4post21  ...   49    249          0\n",
       "3  408906914437685248  1386325980         Poliwake  ...  207    200          0\n",
       "4  408906914723295232  1386325980       capyvixowe  ...   17     34          0\n",
       "\n",
       "[5 rows x 12 columns]"
      ]
     },
     "execution_count": 152,
     "metadata": {
      "tags": []
     },
     "output_type": "execute_result"
    }
   ],
   "source": [
    "data_neg.head()"
   ]
  },
  {
   "cell_type": "code",
   "execution_count": null,
   "metadata": {
    "colab": {
     "base_uri": "https://localhost:8080/",
     "height": 51
    },
    "colab_type": "code",
    "id": "bf7xWhAxvBXh",
    "outputId": "dc7d109c-8d9d-402c-ab4a-cbd8b8db1042"
   },
   "outputs": [
    {
     "name": "stdout",
     "output_type": "stream",
     "text": [
      "Количество положительных отзывов : 114911 | Процент : 0.5065863142209721\n",
      "Количество отрицательных отзывов : 111923 | Процент : 0.49341368577902783\n"
     ]
    }
   ],
   "source": [
    "print('Количество положительных отзывов :',data_pos.shape[0],'| Процент :',data_pos.shape[0]/(data_pos.shape[0]+data_neg.shape[0]))\n",
    "print('Количество отрицательных отзывов :',data_neg.shape[0],'| Процент :',data_neg.shape[0]/(data_pos.shape[0]+data_neg.shape[0]))"
   ]
  },
  {
   "cell_type": "markdown",
   "metadata": {
    "colab_type": "text",
    "id": "n6vGOoLyvBXm"
   },
   "source": [
    "Нет смысла дополнительно балансировать выборку"
   ]
  },
  {
   "cell_type": "markdown",
   "metadata": {
    "colab_type": "text",
    "id": "mpzxiaBxvBXn"
   },
   "source": [
    "###### Проверка дубликатов"
   ]
  },
  {
   "cell_type": "code",
   "execution_count": null,
   "metadata": {
    "colab": {
     "base_uri": "https://localhost:8080/",
     "height": 51
    },
    "colab_type": "code",
    "id": "tx0LPdM4vBXo",
    "outputId": "ab62824f-af70-4bb8-91a0-124c7274fc4b"
   },
   "outputs": [
    {
     "name": "stdout",
     "output_type": "stream",
     "text": [
      "110396 114911\n",
      "107044 111923\n"
     ]
    }
   ],
   "source": [
    "print(len(np.unique(data_pos['text'])),len(np.unique(data_pos['id'])))\n",
    "print(len(np.unique(data_neg['text'])),len(np.unique(data_neg['id'])))"
   ]
  },
  {
   "cell_type": "markdown",
   "metadata": {
    "colab_type": "text",
    "id": "jtd-1SCOvBXs"
   },
   "source": [
    "уберем дублирования"
   ]
  },
  {
   "cell_type": "code",
   "execution_count": null,
   "metadata": {
    "colab": {},
    "colab_type": "code",
    "id": "PHq-7SWSvBXt"
   },
   "outputs": [],
   "source": [
    "data_pos = data_pos.drop_duplicates('text',keep='first')\n",
    "data_neg = data_neg.drop_duplicates('text',keep='first')"
   ]
  },
  {
   "cell_type": "code",
   "execution_count": null,
   "metadata": {
    "colab": {},
    "colab_type": "code",
    "id": "umy41e1qvBXw"
   },
   "outputs": [],
   "source": [
    "sentences = np.concatenate((data_pos['text'].values,data_neg['text'].values))\n",
    "labels = [1] * data_pos.shape[0] + [0] * data_neg.shape[0]"
   ]
  },
  {
   "cell_type": "markdown",
   "metadata": {
    "colab_type": "text",
    "id": "gMV5wgXnvBX4"
   },
   "source": [
    "##### Посмотрим на несколько примеров твитов для понимания реализации препроцессинга"
   ]
  },
  {
   "cell_type": "code",
   "execution_count": null,
   "metadata": {
    "colab": {
     "base_uri": "https://localhost:8080/",
     "height": 1000
    },
    "colab_type": "code",
    "id": "zN1RUhrqvBX4",
    "outputId": "99fae8c8-b477-44d7-90c9-5b2f2526569b"
   },
   "outputs": [
    {
     "name": "stdout",
     "output_type": "stream",
     "text": [
      "Positive\n",
      "\n",
      "@first_timee хоть я и школота, но поверь, у нас то же самое :D общество профилирующий предмет типа)\n",
      "____________________\n",
      "Да, все-таки он немного похож на него. Но мой мальчик все равно лучше:D\n",
      "____________________\n",
      "RT @KatiaCheh: Ну ты идиотка) я испугалась за тебя!!!\n",
      "____________________\n",
      "RT @digger2912: \"Кто то в углу сидит и погибает от голода, а мы ещё 2 порции взяли, хотя уже и так жрать не хотим\" :DD http://t.co/GqG6iuE2…\n",
      "____________________\n",
      "@irina_dyshkant Вот что значит страшилка :D\n",
      "Но блин,посмотрев все части,у тебя создастся ощущение,что авторы курили что-то :D\n",
      "____________________\n",
      "ну любишь или нет? — Я не знаю кто ты бля:D http://t.co/brf9eNg1U6\n",
      "____________________\n",
      "RT @SpoonLamer: Ох,900 :D ну это конечно же @twinkleAYO . Чтобы у нее было много друзей, ведь она такая мимими &lt;3\n",
      "____________________\n",
      "RT @veregijytaqo: У тебя есть ухажёр? Нет - мои уши не кто не жрёт :D\n",
      "____________________\n",
      "Поприветствуем моего нового читателя @Alexey1789 ;)\n",
      "____________________\n",
      "Теперь у меня есть частичка Сиднея :) #Sydney #SydneyOperaHouse http://t.co/agnto3CZEi\n",
      "____________________\n",
      "Люблю маму и папу!!!!а в остальное я так...-влюбляюсь, привязываюсь))) \n",
      "____________________\n",
      "RT @dicyziqecida: Как-то я забыла, что вчера приехал из деревни наш котэня и испугалась, когда он утром пришел ко мне общаться. :) Доброе у\n",
      "____________________\n",
      "@MrsRourke_s_tit @_vivante @dyu_bryun так было задумано, да :)\n",
      "____________________\n",
      "@Kruglova_Julia_  дааааа))\n",
      "Ты... Ты... Ты и только ты...)*\n",
      "____________________\n",
      "@Alex_Shvarz :)) О, нет. Вы ведь всё равно обзоры урезаете? Просто одна версия сильно порезанная, а другая полная, только без мусора.\n",
      "____________________\n",
      "@Jyliaalex смотри там случайно в аспирантуру не попади, наука никого до добра не доводила)\n",
      "____________________\n",
      "RT @Abdullin_A_R: @LikhodedovaMary эхх, а в УГАТУ о контрольных предупреждают уже на контрольной)\n",
      "____________________\n",
      "@marinaysol а, а то подумала, что у тебя там пробежечка.)\n",
      "____________________\n",
      "@xLesherx @4EU3 зря вы с этой хуйней шутите)) я много историй наблюдал в режиме рил времени по работе с русскими которые разбивались на них\n",
      "____________________\n",
      "@Moscow_advokat Очень главное спасибо for   МЕДВЕД™ — он работал клоуном-аниматором!   :-)))\n",
      "____________________\n",
      "У нас есть прекрасная история, как сдохнуть за неделю!!)\n",
      "____________________\n",
      "@Benjamin1610 сегодня столько поводов выпить, что я уже не могу усидеть на месте)\n",
      "____________________\n",
      "@StalinGulag унылый?...наверное...вдруг его перед этим чпокнули?))))\n",
      "____________________\n",
      "RT @lumenso: @GruzdevVladimir @Sergey_Degtyrev 1) При поддержке администрации МО Белевский район сборная Белевского района по http://t.co/r…\n",
      "____________________\n",
      "Поприветствуем моего нового читателя @afyfglprwl ;)\n",
      "____________________\n",
      "Как же хооорошо валяться, но мой бедный, обколотый попец хочет на прогулку) http://t.co/XugobJeb9c\n",
      "____________________\n",
      "Хоть у кого то заебись всё) Настюх, рада за тебя пиздец) прям искренне рада)) есть все же справедливость на свете)\n",
      "____________________\n",
      "да почему мне похуй то)\n",
      "Новерное потому что еще не ночь темная) )\n",
      "____________________\n",
      "блин,хочется писать и писать))всякую хуйню пишу,но все равно хочется)\n",
      "____________________\n",
      "@JuliaLacoste_ @Kate_Craik а мне хотя бы расскажите что по чем)\n",
      "____________________\n",
      "************************************************************\n",
      "Negative\n",
      "\n",
      "@Paul_maaan Дженсэна опять забыли т.т его за человека не считают :(\n",
      "____________________\n",
      "когда мы первый раз встретились был дождь… я полюбила тебя и этот поцелуй… мы расстались, и теперь в моей душе вечный ливень((((\n",
      "____________________\n",
      "Чщпсщрщрссщрщрсшаааггввшвллидцяхьувзькдсьзцябхцьязцтчзучщуьчуьчу  скучно:(\n",
      "____________________\n",
      "А кто то на работу уже встает, а я вас заснуть не могу(\n",
      "____________________\n",
      "Утро началось с холода, не плохое начало(\n",
      "____________________\n",
      "когда наплоюсь на пидораса и маньяка похож((((((((((((\n",
      "____________________\n",
      "@ChrisDryagina @Yulya_Plokhikh_ @Safonkaa ахах, там поставят доисторические телики :(\n",
      "____________________\n",
      "почему я скучаю по Мише вообще всегда?Даж когда он рядом :(\n",
      "____________________\n",
      "все девушки мечтают о своем солнышке, а кругом одни лампочки((((((((((((\n",
      "____________________\n",
      "@darianovitskay я всю ночь не спала,засыпала минут на 20 каждый час:((\n",
      "____________________\n",
      "Хочу на тренюю...Но на хоккей буду ходить только с Нового Года((\n",
      "____________________\n",
      "Как я устала , каждый день вставать в 7 утра и идти на учебу ((\n",
      "____________________\n",
      "http://t.co/1XBDaRHabI Длинная зеленая куртка с капюшоном (\n",
      "____________________\n",
      "Вчера в электричке дяденька рисовал мой портрет ^^ А сегодня какой-то Мужчинка сидит напротив меня и пугает своим взглядом (\n",
      "____________________\n",
      "Бля, еще хренотень какая-то снилась всю ночь(\n",
      "____________________\n",
      "я хочу спааать, но надо ещё на биологию идти(\n",
      "____________________\n",
      "Мой мальчик заболел:( http://t.co/oMSLJ7Z2IX\n",
      "____________________\n",
      "@LidiyaVlasova это точно ( походу давление ((\n",
      "____________________\n",
      "RT @Russia_calls: Шлегель забанил за это((  https://t.co/jFPJckTjoi\n",
      "____________________\n",
      "@alginova96 @Betyasso в школу все таки я пошла (((\n",
      "____________________\n",
      "@ivanenko14 и у меня также, только будильник еще и не выключался.. папу разбудила (\n",
      "____________________\n",
      "Когда же я вернусь к тебе(( http://t.co/36qnCOGdXr\n",
      "____________________\n",
      "RT @qelasocadij: Скажите пожалуйста, как у человека может быть 1000 одноклассников? O_o\n",
      "____________________\n",
      "У нас физ ра на улице\n",
      "Пака линт:(\n",
      "Через 45 минут приду пхжааххв\n",
      "____________________\n",
      "Нас сегодня отказались принять в сад, типа мы плачем(( #королев пойду ругаться сейчас, по крайне мере выяснять, что за фигня\n",
      "____________________\n",
      "Но не каждый хочет что то исправлять:( http://t.co/QNODDQzuZ7\n",
      "____________________\n",
      "скучаю так :-( только @taaannyaaa вправляет мозги, но я все равно скучаю\n",
      "____________________\n",
      "Вот и в школу, в говно это идти уже надо(\n",
      "____________________\n",
      "RT @_Them__: @LisaBeroud Тауриэль, не грусти :( *обнял*\n",
      "____________________\n",
      "Такси везет меня на работу. Раздумываю приплатить, чтобы меня втащили на пятый этаж. Лифта то нет :(\n",
      "____________________\n"
     ]
    }
   ],
   "source": [
    "print('Positive\\n')\n",
    "for tweet in sentences[:30]:\n",
    "    print(tweet)\n",
    "    print(10*'__')\n",
    "print(20*'***')\n",
    "\n",
    "print('Negative\\n')   \n",
    "for tweet in sentences[-30:]:\n",
    "    print(tweet)\n",
    "    print(10*'__')"
   ]
  },
  {
   "cell_type": "markdown",
   "metadata": {
    "colab_type": "text",
    "id": "ZFjg0i5zvBX8"
   },
   "source": [
    "Можно заметить следующее:\n",
    " - очень много пунктуации связаной со смайлами - выражение эмоций (это надо учитывать)\n",
    " - во многих твитах есть:\n",
    "   - ссылки - их можно заменить на 1 общий токен, а можно оставить все с предобработкой (надо посмотреть на кол-во использования каждого уникального элемента)\n",
    "   - никнеймы других участников - можно заменить на 1 общий токен, а можно оставить все с предобработкой (надо посмотреть на кол-во использования каждого уникального элемента)\n",
    "   - уменьшить словарь и заменить неизвестные слова на UNK\n",
    "   - экспрессивная пунктуация"
   ]
  },
  {
   "cell_type": "markdown",
   "metadata": {
    "colab_type": "text",
    "id": "4jZSeB6RvBX9"
   },
   "source": [
    "##### Длина твитов в зависимости от эмоционального окраса"
   ]
  },
  {
   "cell_type": "code",
   "execution_count": null,
   "metadata": {
    "colab": {
     "base_uri": "https://localhost:8080/",
     "height": 136
    },
    "colab_type": "code",
    "id": "h4gYm5YmvBX-",
    "outputId": "482a3069-1762-4b20-9ecd-8e07553ab2dc"
   },
   "outputs": [
    {
     "name": "stdout",
     "output_type": "stream",
     "text": [
      "length of negative tweets\n",
      " min = 8 max = 189\n",
      "avg = 76.44141661372893 median = 69.0\n",
      "\n",
      "length of positive tweets\n",
      " min = 21 max = 179\n",
      "avg = 84.67268741621074 median = 78.0\n"
     ]
    }
   ],
   "source": [
    "neg_len = [len(line) for line in data_neg.text.values]\n",
    "pos_len = [len(line) for line in data_pos.text.values]\n",
    "\n",
    "print('length of negative tweets\\n','min =',np.min(neg_len),'max =',np.max(neg_len),)\n",
    "print('avg =',np.mean(neg_len),'median =',np.median(neg_len))\n",
    "print()\n",
    "print('length of positive tweets\\n','min =',np.min(pos_len),'max =',np.max(pos_len),)\n",
    "print('avg =',np.mean(pos_len),'median =',np.median(pos_len))"
   ]
  },
  {
   "cell_type": "code",
   "execution_count": null,
   "metadata": {
    "colab": {
     "base_uri": "https://localhost:8080/",
     "height": 102
    },
    "colab_type": "code",
    "id": "y12eECHnvBYB",
    "outputId": "7656920a-a8b1-4f3b-b237-40a763bf9e10"
   },
   "outputs": [
    {
     "name": "stdout",
     "output_type": "stream",
     "text": [
      "домооой  \n",
      " RT @miwubiguvone: &lt;span style=\"font-size: medium;\"&gt;&lt;br /&gt;ХОЧ Я&amp;nbsp;Й&amp;nbsp;ПРОСИВ&amp;nbsp;НЕ&amp;nbsp;ДОДАВАТИ&amp;nbsp;ЦЕЙ&amp;nbsp;ЖУРНАЛ&amp;nbsp;(&lt;/span&gt;&lt;…\n",
      "\n",
      "@anieverthen бабушка  \n",
      " @iero3110 аах я уже домой дотопал..и теперь пойду спааать...спокойной ночи любимый фрончиииик:************** &lt;3&lt;3&lt;3&lt;3&lt;3&lt;3&lt;3&lt;3&lt;3&lt;3&lt;3&lt;3&lt;3&lt;3\n"
     ]
    }
   ],
   "source": [
    "print(data_neg.text.values[np.argmin(neg_len)],'\\n',data_neg.text.values[np.argmax(neg_len)])\n",
    "print()\n",
    "print(data_pos.text.values[np.argmin(pos_len)],'\\n',data_pos.text.values[np.argmax(pos_len)])"
   ]
  },
  {
   "cell_type": "markdown",
   "metadata": {
    "colab_type": "text",
    "id": "_pMstuktvBYE"
   },
   "source": [
    "##### Препроцессинг"
   ]
  },
  {
   "cell_type": "code",
   "execution_count": null,
   "metadata": {
    "colab": {},
    "colab_type": "code",
    "id": "DF8VE8z3vBYF"
   },
   "outputs": [],
   "source": [
    "emoji_pattern = re.compile(\"[\"\n",
    "         u\"\\U0001F600-\\U0001F64F\"  # emoticons\n",
    "         u\"\\U0001F300-\\U0001F5FF\"  # symbols & pictographs\n",
    "         u\"\\U0001F680-\\U0001F6FF\"  # transport & map symbols\n",
    "         u\"\\U0001F1E0-\\U0001F1FF\"  # flags (iOS)\n",
    "         u\"\\U00002702-\\U000027B0\"\n",
    "         u\"\\U000024C2-\\U0001F251\"\n",
    "         \"]+\", flags=re.UNICODE)"
   ]
  },
  {
   "cell_type": "code",
   "execution_count": null,
   "metadata": {
    "colab": {},
    "colab_type": "code",
    "id": "J0MkQgI-vBYI"
   },
   "outputs": [],
   "source": [
    "#HappyEmoticons\n",
    "emoticons_happy = set([\n",
    "    ':-)', ':)', ';)', ':o)', ':]', ':3', ':c)', ':>', '=]', '8)', '=)', ':}',\n",
    "    ':^)', ':-D', ':D', '8-D', '8D', 'x-D', 'xD', 'X-D', 'XD', '=-D', '=D',\n",
    "    '=-3', '=3', ':-))', \":'-)\", \":')\", ':*', ':^*', '>:P', ':-P', ':P', 'X-P',\n",
    "    'x-p', 'xp', 'XP', ':-p', ':p', '=p', ':-b', ':b', '>:)', '>;)', '>:-)',\n",
    "    '<3'\n",
    "    ])\n",
    "\n",
    "# Sad Emoticons\n",
    "emoticons_sad = set([\n",
    "    ':L', ':-/', '>:/', ':S', '>:[', ':@', ':-(', ':[', ':-||', '=L', ':<',\n",
    "    ':-[', ':-<', '=\\\\', '=/', '>:(', ':(', '>.<', \":'-(\", \":'(\", ':\\\\', ':-c',\n",
    "    ':c', ':{', '>:\\\\', ';('\n",
    "    ])"
   ]
  },
  {
   "cell_type": "code",
   "execution_count": null,
   "metadata": {
    "colab": {},
    "colab_type": "code",
    "id": "lwzE5saPvBYL"
   },
   "outputs": [],
   "source": [
    "mask_sad_d = dict()\n",
    "mask_pos_d = dict()\n",
    "for num, sentence in enumerate(sentences):\n",
    "    if num == 10000:\n",
    "        break\n",
    "    \n",
    "    mask_sad = re.findall('([>:;=-]+[\\(cсCС/\\\\[L{<@]+)|([\\(.]{2,})',sentence)\n",
    "    mask_pos = re.findall('([>:;=-]+[\\)dD*pPрРbB}]+)|([\\)!]{2,})',sentence)\n",
    "\n",
    "    if len(mask_sad)>0: \n",
    "        \n",
    "        if mask_sad[0][0] == '':\n",
    "            pass            \n",
    "        elif mask_sad[0][0] in mask_sad_d:\n",
    "            mask_sad_d[mask_sad[0][0]] += 1\n",
    "        else:\n",
    "            mask_sad_d[mask_sad[0][0]] = 1\n",
    "        \n",
    "        \n",
    "        if mask_sad[0][1] == '':\n",
    "            pass            \n",
    "        elif len(mask_sad[0])>1 and mask_sad[0][1] in mask_sad_d:\n",
    "            mask_sad_d[mask_sad[0][1]] += 1\n",
    "        elif len(mask_sad[0])>1:\n",
    "            mask_sad_d[mask_sad[0][1]] = 1\n",
    "        \n",
    "        \n",
    "    elif len(mask_pos)>0: \n",
    "        \n",
    "        if mask_pos[0][0] == '':\n",
    "            pass\n",
    "        if mask_pos[0][0] in mask_pos_d:\n",
    "            mask_pos_d[mask_pos[0][0]] += 1\n",
    "        else:\n",
    "            mask_pos_d[mask_pos[0][0]] = 1\n",
    "        \n",
    "        \n",
    "        if mask_pos[0][1] == '':\n",
    "            pass        \n",
    "        elif len(mask_pos[0])>1 and mask_pos[0][1] in mask_pos_d:\n",
    "            mask_pos_d[mask_pos[0][1]] += 1\n",
    "        elif len(mask_pos[0])>1:\n",
    "            mask_pos_d[mask_pos[0][1]] = 1"
   ]
  },
  {
   "cell_type": "markdown",
   "metadata": {
    "colab_type": "text",
    "id": "GxI1pOa0vBYR"
   },
   "source": [
    "##### Примеры смайлов"
   ]
  },
  {
   "cell_type": "code",
   "execution_count": null,
   "metadata": {
    "colab": {
     "base_uri": "https://localhost:8080/",
     "height": 425
    },
    "colab_type": "code",
    "id": "3Tt4IKdSvBYS",
    "outputId": "f29c0df3-f203-4a93-ae37-a3c11edfa291",
    "scrolled": true
   },
   "outputs": [
    {
     "data": {
      "text/plain": [
       "{'-C': 1,\n",
       " '-c': 2,\n",
       " '-С': 5,\n",
       " '-с': 30,\n",
       " '..': 322,\n",
       " '...': 601,\n",
       " '....': 91,\n",
       " '.....': 20,\n",
       " '......': 12,\n",
       " '.......': 3,\n",
       " '........': 2,\n",
       " '...........': 1,\n",
       " '.............': 1,\n",
       " '..............': 1,\n",
       " ':/': 5,\n",
       " '://': 1639,\n",
       " ':@': 1,\n",
       " ':С': 3,\n",
       " ':СС': 1,\n",
       " ':с': 10,\n",
       " ':сс': 1,\n",
       " ';L': 1,\n",
       " ';с': 2,\n",
       " '=/': 1}"
      ]
     },
     "execution_count": 163,
     "metadata": {
      "tags": []
     },
     "output_type": "execute_result"
    }
   ],
   "source": [
    "mask_sad_d"
   ]
  },
  {
   "cell_type": "code",
   "execution_count": null,
   "metadata": {
    "colab": {
     "base_uri": "https://localhost:8080/",
     "height": 1000
    },
    "colab_type": "code",
    "id": "c_GCACDPvBYX",
    "outputId": "4926b2b5-f62f-4945-b0cc-73407933bc5e",
    "scrolled": true
   },
   "outputs": [
    {
     "data": {
      "text/plain": [
       "{'!!': 56,\n",
       " '!!!': 84,\n",
       " '!!!!': 21,\n",
       " '!!!!!': 5,\n",
       " '!!!!!!!': 3,\n",
       " '!!!!!!!!!': 1,\n",
       " '!!!!!!!!!!!!!!!!!!!!!!!!!!!!!!!!!!!!!!!!!!!!!!': 1,\n",
       " '!!!!!!!!!)))))': 1,\n",
       " '!!!!!))': 1,\n",
       " '!!!!!)))': 1,\n",
       " '!!!!)': 4,\n",
       " '!!!!)))': 3,\n",
       " '!!!!))))': 2,\n",
       " '!!!!)))))': 2,\n",
       " '!!!)': 4,\n",
       " '!!!))': 2,\n",
       " '!!!)))': 6,\n",
       " '!!!))))': 4,\n",
       " '!!!))))))': 1,\n",
       " '!!)': 5,\n",
       " '!!))': 4,\n",
       " '!!)))': 5,\n",
       " '!!)))))))': 1,\n",
       " '!)': 145,\n",
       " '!))': 32,\n",
       " '!)))': 31,\n",
       " '!))))': 9,\n",
       " '!)))))': 1,\n",
       " '!))))))': 1,\n",
       " '!)))))))))))))))': 1,\n",
       " ')!': 5,\n",
       " ')!)!))!': 1,\n",
       " '))': 857,\n",
       " ')))': 479,\n",
       " '))))': 110,\n",
       " ')))))': 42,\n",
       " '))))))': 13,\n",
       " ')))))))': 11,\n",
       " '))))))))': 8,\n",
       " ')))))))))': 3,\n",
       " '))))))))))': 5,\n",
       " ')))))))))))': 1,\n",
       " '))))))))))))': 1,\n",
       " ')))))))))))))': 2,\n",
       " '))))))))))))))': 1,\n",
       " ')))))))))))))))': 2,\n",
       " '))))))))))))))))))': 2,\n",
       " ')))))))))))))))))))': 2,\n",
       " '))))))))))))))))))))))': 1,\n",
       " '))))))))))))))))))))))))))': 1,\n",
       " ')))))))))))))))))))))))))))))': 1,\n",
       " '))))))))))))))))))))))))))))))': 1,\n",
       " '))))))))))))))))))))))))))))))))))))))))))))))': 1,\n",
       " ')))))))))))))))))))))))))))))))))))))))))))))))))))': 1,\n",
       " '-)': 18,\n",
       " '-)))': 2,\n",
       " '-*': 7,\n",
       " '-----*': 1,\n",
       " '-:)': 3,\n",
       " '-b': 2,\n",
       " '-Р': 3,\n",
       " '-р': 20,\n",
       " ':)': 1102,\n",
       " ':))': 78,\n",
       " ':)))': 53,\n",
       " ':))))': 14,\n",
       " ':)))))': 6,\n",
       " ':))))))))))': 1,\n",
       " ':)))))))))))': 1,\n",
       " ':)))))))))))))': 1,\n",
       " ':)))))))))))))))))))))))))': 1,\n",
       " ':))))))))))))))))))))))))))))': 1,\n",
       " ':*': 123,\n",
       " ':*)': 7,\n",
       " ':**': 16,\n",
       " ':***': 8,\n",
       " ':*****': 1,\n",
       " ':******': 1,\n",
       " ':********': 1,\n",
       " ':***************': 1,\n",
       " ':-)': 197,\n",
       " ':-))': 12,\n",
       " ':-)))': 5,\n",
       " ':-))))': 2,\n",
       " ':-)))))': 1,\n",
       " ':-*': 1,\n",
       " ':--)': 2,\n",
       " ':--))': 1,\n",
       " ':---)': 1,\n",
       " ':-----))))': 1,\n",
       " ':--------------)': 1,\n",
       " ':-D': 49,\n",
       " '::))': 1,\n",
       " '::-)': 9,\n",
       " '::::----)))))))))))': 1,\n",
       " '::::::------)))))))': 1,\n",
       " ':D': 805,\n",
       " ':D))))))))': 1,\n",
       " ':D*': 3,\n",
       " ':DD': 65,\n",
       " ':DDD': 27,\n",
       " ':DDDD': 13,\n",
       " ':DDDDD': 4,\n",
       " ':DDDDDD': 3,\n",
       " ':DDDDDDDD': 1,\n",
       " ':DDDDDDDDDDDD': 1,\n",
       " ':DDDDDDDDDDDDD': 1,\n",
       " ':DDDDDDDDDDDDDDDDDDDDDDDDDD': 1,\n",
       " ':d': 1,\n",
       " ':РР': 1,\n",
       " ';)': 221,\n",
       " ';))': 19,\n",
       " ';)))': 11,\n",
       " ';))))': 1,\n",
       " ';)))))': 1,\n",
       " ';)Р': 1,\n",
       " ';*': 3,\n",
       " ';-)': 22,\n",
       " ';:-D': 3,\n",
       " ';:D': 4,\n",
       " ';;;)))': 1,\n",
       " ';D': 3,\n",
       " ';Р': 1,\n",
       " '=)': 76,\n",
       " '=))': 7,\n",
       " '=)))': 7,\n",
       " '=))))': 5,\n",
       " '=))))))))))))))))))': 1,\n",
       " '=))))))))))))))))))))))))))))))))))))))))))))))))))))))))))))))))))))))))))))))))))))))))': 1,\n",
       " '=)))***': 1,\n",
       " '=*': 4,\n",
       " '=**': 1}"
      ]
     },
     "execution_count": 164,
     "metadata": {
      "tags": []
     },
     "output_type": "execute_result"
    }
   ],
   "source": [
    "del mask_pos_d['']\n",
    "mask_pos_d"
   ]
  },
  {
   "cell_type": "markdown",
   "metadata": {
    "colab_type": "text",
    "id": "zm_t5Z86SY5w"
   },
   "source": [
    "Учёт экспрессивной пунктуации (подряд несколько точек, восклицательных знаков), ухудшает решение примерно на 1 процент на валидации и тесте.\n",
    "\n",
    "Аналогично при учете различных emoji."
   ]
  },
  {
   "cell_type": "code",
   "execution_count": null,
   "metadata": {
    "colab": {
     "base_uri": "https://localhost:8080/",
     "height": 66,
     "referenced_widgets": [
      "12ec2171a1844f76bfdf02c0df0e92c2",
      "94c9120798314ce0bf949d0490a96047",
      "e4e080797973409b8b053e6456f31707",
      "00b1467581da4ecd8eccab2bfe694ca4",
      "b2331458f72a405cab1713a0c515719b",
      "8e6c5097c9bd45bb86bfa95d9daf28d0",
      "9df332512aa542b48f48783c3392f221",
      "4071966e3cdb4f789b866a1dabb6f0a9"
     ]
    },
    "colab_type": "code",
    "id": "bTI5nX4DvBYb",
    "outputId": "009cbcc0-ece6-4db7-a668-62de839e1b4d"
   },
   "outputs": [
    {
     "data": {
      "application/vnd.jupyter.widget-view+json": {
       "model_id": "12ec2171a1844f76bfdf02c0df0e92c2",
       "version_major": 2,
       "version_minor": 0
      },
      "text/plain": [
       "HBox(children=(FloatProgress(value=0.0, max=217440.0), HTML(value='')))"
      ]
     },
     "metadata": {
      "tags": []
     },
     "output_type": "display_data"
    },
    {
     "name": "stdout",
     "output_type": "stream",
     "text": [
      "\n"
     ]
    }
   ],
   "source": [
    "morph = pymorphy2.MorphAnalyzer()\n",
    "\n",
    "def preprocess_text(text,with_lemmatiz=False):\n",
    "    # приведение к нижнему регистру\n",
    "    text = text.lower().replace(\"ё\", \"е\")\n",
    "    # заменяем web-адреса на общий токен\n",
    "    text = re.sub('((www\\.[^\\s]+)|(https?://[^\\s]+)|(http?://[^\\s]+))', 'URL', text)\n",
    "    text = re.sub(r'http\\S+', 'URL', text)\n",
    "    # заменяем никнеймы на общий токен\n",
    "    text = re.sub('@[^\\s]+', 'USER', text)\n",
    "    # заменяем тэги на общий токен\n",
    "    text = re.sub('#[^\\s]+', 'HASHTAG', text)\n",
    "    # заменяем грустные смайлики на общий токен\n",
    "    text = re.sub('([>:;=-]+[\\(cсCС/\\\\[L{<@]+)|([\\(]{2,})', ' BADSMILE ', text)\n",
    "    # заменяем веселые/радостные смайлики на общий токен\n",
    "    text = re.sub('([>:;=-]+[\\)dD*pPрРbB]+)|([\\)]{2,})', ' POSSMILE ', text)\n",
    "    \n",
    "    # убираем пунктуацию (стоп-слова уберем засчёт ограничения частоты в TF-IDF)\n",
    "    text = re.sub('[^a-zA-Zа-яА-Я0-9]+', ' ', text)\n",
    "    \n",
    "    # убираем emoji\n",
    "    text = re.sub(emoji_pattern, '', text)\n",
    "    \n",
    "    if with_lemmatiz:\n",
    "        # лемматизация\n",
    "        text = ' '.join([morph.parse(word)[0].normal_form for word in text.split()])\n",
    "    return text.strip()\n",
    "\n",
    "data_with_lem = [preprocess_text(t,with_lemmatiz=True) for t in tqdm_notebook(sentences)]"
   ]
  },
  {
   "cell_type": "code",
   "execution_count": null,
   "metadata": {
    "colab": {},
    "colab_type": "code",
    "id": "rPKufGi2vBYf"
   },
   "outputs": [],
   "source": [
    "data = data_with_lem.copy()"
   ]
  },
  {
   "cell_type": "markdown",
   "metadata": {},
   "source": [
    "###### Примеры препроцессинга"
   ]
  },
  {
   "cell_type": "code",
   "execution_count": null,
   "metadata": {
    "colab": {
     "base_uri": "https://localhost:8080/",
     "height": 35
    },
    "colab_type": "code",
    "id": "fWcxj-RAvBYi",
    "outputId": "caa83542-1758-4933-e4c3-60f0886f23ca"
   },
   "outputs": [
    {
     "data": {
      "application/vnd.google.colaboratory.intrinsic": {
       "type": "string"
      },
      "text/plain": [
       "'Поприветствуем моего нового читателя @Alexey1789 ;)'"
      ]
     },
     "execution_count": 168,
     "metadata": {
      "tags": []
     },
     "output_type": "execute_result"
    }
   ],
   "source": [
    "key = 8\n",
    "sentences[key]"
   ]
  },
  {
   "cell_type": "code",
   "execution_count": null,
   "metadata": {
    "colab": {
     "base_uri": "https://localhost:8080/",
     "height": 35
    },
    "colab_type": "code",
    "id": "Dwl5GoJbvBYk",
    "outputId": "642217e4-aae4-4d63-b215-14b9aa698d63"
   },
   "outputs": [
    {
     "data": {
      "application/vnd.google.colaboratory.intrinsic": {
       "type": "string"
      },
      "text/plain": [
       "'поприветствовать мой новое читатель user possmile'"
      ]
     },
     "execution_count": 169,
     "metadata": {
      "tags": []
     },
     "output_type": "execute_result"
    }
   ],
   "source": [
    "data[key]"
   ]
  },
  {
   "cell_type": "code",
   "execution_count": null,
   "metadata": {
    "colab": {
     "base_uri": "https://localhost:8080/",
     "height": 714
    },
    "colab_type": "code",
    "id": "t48CJbPgvBYn",
    "outputId": "5cf100eb-81bc-4ab3-90a3-8a33e53883a3",
    "scrolled": true
   },
   "outputs": [
    {
     "name": "stdout",
     "output_type": "stream",
     "text": [
      "@first_timee хоть я и школота, но поверь, у нас то же самое :D общество профилирующий предмет типа)\n",
      "---\n",
      "user хоть я и школотый но поверь у мы то же самый possmile общество профилировать предмет тип\n",
      "________________________________________\n",
      "Да, все-таки он немного похож на него. Но мой мальчик все равно лучше:D\n",
      "---\n",
      "да весь таки он немного похожий на он но мой мальчик весь равно хороший possmile\n",
      "________________________________________\n",
      "RT @KatiaCheh: Ну ты идиотка) я испугалась за тебя!!!\n",
      "---\n",
      "rt user ну ты идиотка я испугаться за ты\n",
      "________________________________________\n",
      "RT @digger2912: \"Кто то в углу сидит и погибает от голода, а мы ещё 2 порции взяли, хотя уже и так жрать не хотим\" :DD http://t.co/GqG6iuE2…\n",
      "---\n",
      "rt user кто то в угол сидеть и погибать от голод а мы ещё 2 порция взять хотя уже и так жрать не хотеть possmile url\n",
      "________________________________________\n",
      "@irina_dyshkant Вот что значит страшилка :D\n",
      "Но блин,посмотрев все части,у тебя создастся ощущение,что авторы курили что-то :D\n",
      "---\n",
      "user вот что значит страшилка possmile но блин посмотреть весь часть у ты создаться ощущение что автор курить что то possmile\n",
      "________________________________________\n",
      "ну любишь или нет? — Я не знаю кто ты бля:D http://t.co/brf9eNg1U6\n",
      "---\n",
      "ну любить или нет я не знать кто ты бля possmile url\n",
      "________________________________________\n",
      "RT @SpoonLamer: Ох,900 :D ну это конечно же @twinkleAYO . Чтобы у нее было много друзей, ведь она такая мимими &lt;3\n",
      "---\n",
      "rt user ох 900 possmile ну это конечно же user чтобы у нея быть много друг ведь она такой мимими lt 3\n",
      "________________________________________\n",
      "RT @veregijytaqo: У тебя есть ухажёр? Нет - мои уши не кто не жрёт :D\n",
      "---\n",
      "rt user у ты есть ухажёр нет мой ухо не кто не жрать possmile\n",
      "________________________________________\n",
      "Поприветствуем моего нового читателя @Alexey1789 ;)\n",
      "---\n",
      "поприветствовать мой новое читатель user possmile\n",
      "________________________________________\n",
      "Теперь у меня есть частичка Сиднея :) #Sydney #SydneyOperaHouse http://t.co/agnto3CZEi\n",
      "---\n",
      "теперь у я есть частичка сидней possmile hashtag hashtag url\n",
      "________________________________________\n"
     ]
    }
   ],
   "source": [
    "for sent,post_sent in  zip(sentences[0:10],data[0:10]):\n",
    "    print(sent)\n",
    "    print('---')\n",
    "    print(post_sent)\n",
    "    print(20*\"__\")"
   ]
  },
  {
   "cell_type": "markdown",
   "metadata": {
    "colab_type": "text",
    "id": "tdpzWn9wvBYq"
   },
   "source": [
    "##### Сравним даёт ли улучшение замены смайлов и тэгов на общие токены "
   ]
  },
  {
   "cell_type": "code",
   "execution_count": null,
   "metadata": {
    "colab": {},
    "colab_type": "code",
    "id": "D5AOZXWEvBYr"
   },
   "outputs": [],
   "source": [
    "def preprocess_text_old(text):\n",
    "    text = text.lower().replace(\"ё\", \"е\")\n",
    "    text = re.sub('((www\\.[^\\s]+)|(https?://[^\\s]+))', 'URL', text)\n",
    "    text = re.sub('@[^\\s]+', 'USER', text)\n",
    "    text = re.sub('[^a-zA-Zа-яА-Я0-9]+', ' ', text)\n",
    "    text = re.sub(' +', ' ', text)\n",
    "    return text.strip()\n",
    "\n",
    "\n",
    "data_old = [preprocess_text_old(t) for t in sentences]"
   ]
  },
  {
   "cell_type": "code",
   "execution_count": null,
   "metadata": {
    "colab": {},
    "colab_type": "code",
    "id": "f0xPB8fqvBYt"
   },
   "outputs": [],
   "source": [
    "x_train, x_test, y_train, y_test = train_test_split(data, labels, test_size=0.2, random_state=RANDOM_SEED)"
   ]
  },
  {
   "cell_type": "code",
   "execution_count": null,
   "metadata": {
    "colab": {},
    "colab_type": "code",
    "id": "KrctwTahvBYw"
   },
   "outputs": [],
   "source": [
    "x_train_old, x_test_old, y_train_old, y_test_old = train_test_split(data_old, labels, test_size=0.2, random_state=RANDOM_SEED)"
   ]
  },
  {
   "cell_type": "code",
   "execution_count": null,
   "metadata": {
    "colab": {
     "base_uri": "https://localhost:8080/",
     "height": 34
    },
    "colab_type": "code",
    "id": "StuolwfQvBYz",
    "outputId": "2f60b3c0-7c5e-481b-c16f-5d30d9c8fd3e"
   },
   "outputs": [
    {
     "name": "stdout",
     "output_type": "stream",
     "text": [
      "173952 43488\n"
     ]
    }
   ],
   "source": [
    "print(len(x_train), len(x_test))"
   ]
  },
  {
   "cell_type": "code",
   "execution_count": null,
   "metadata": {
    "colab": {},
    "colab_type": "code",
    "id": "9qdx7GBtvBY1"
   },
   "outputs": [],
   "source": [
    "x_train, x_val, y_train, y_val = train_test_split(x_train, y_train, test_size=0.2, random_state=RANDOM_SEED)"
   ]
  },
  {
   "cell_type": "code",
   "execution_count": null,
   "metadata": {
    "colab": {},
    "colab_type": "code",
    "id": "1y44g5EVvBY5"
   },
   "outputs": [],
   "source": [
    "x_train_old, x_val_old, y_train_old, y_val_old = train_test_split(x_train_old, y_train_old, test_size=0.2, random_state=RANDOM_SEED)"
   ]
  },
  {
   "cell_type": "code",
   "execution_count": null,
   "metadata": {
    "colab": {
     "base_uri": "https://localhost:8080/",
     "height": 34
    },
    "colab_type": "code",
    "id": "vz1tHqwRvBY7",
    "outputId": "a31e9549-d968-4380-b0a6-d940faf5a527"
   },
   "outputs": [
    {
     "name": "stdout",
     "output_type": "stream",
     "text": [
      "139161 34791\n"
     ]
    }
   ],
   "source": [
    "print(len(x_train), len(x_val))"
   ]
  },
  {
   "cell_type": "markdown",
   "metadata": {
    "colab_type": "text",
    "id": "kdjDNatovBY-"
   },
   "source": [
    "### Baseline"
   ]
  },
  {
   "cell_type": "markdown",
   "metadata": {
    "colab_type": "text",
    "id": "Ciu6oa1xvBY-"
   },
   "source": [
    "###### Logistic Regression  "
   ]
  },
  {
   "cell_type": "code",
   "execution_count": null,
   "metadata": {
    "colab": {},
    "colab_type": "code",
    "id": "K32T9zKvvBY_"
   },
   "outputs": [],
   "source": [
    "cnt_vectorizer = CountVectorizer(ngram_range=(1,3))\n",
    "tf_idf_vectorizer = TfidfVectorizer(ngram_range=(1,3))\n",
    "\n",
    "cnt_vectorizer_old = CountVectorizer(ngram_range=(1,3))\n",
    "tf_idf_vectorizer_old = TfidfVectorizer(ngram_range=(1,3))"
   ]
  },
  {
   "cell_type": "code",
   "execution_count": null,
   "metadata": {
    "colab": {},
    "colab_type": "code",
    "id": "1dRfgJ3IvBZB"
   },
   "outputs": [],
   "source": [
    "X_train_tfidf = tf_idf_vectorizer.fit_transform(x_train)\n",
    "X_val_tfidf = tf_idf_vectorizer.transform(x_val)\n",
    "X_test_tfidf = tf_idf_vectorizer.transform(x_test)\n",
    "\n",
    "X_train_cv = cnt_vectorizer.fit_transform(x_train)\n",
    "X_val_cv = cnt_vectorizer.transform(x_val)\n",
    "X_test_cv = cnt_vectorizer.transform(x_test)"
   ]
  },
  {
   "cell_type": "code",
   "execution_count": null,
   "metadata": {
    "colab": {},
    "colab_type": "code",
    "id": "s9wAHgAUvBZD"
   },
   "outputs": [],
   "source": [
    "X_train_tfidf_old = tf_idf_vectorizer_old.fit_transform(x_train_old)\n",
    "X_val_tfidf_old = tf_idf_vectorizer_old.transform(x_val_old)\n",
    "X_test_tfidf_old = tf_idf_vectorizer_old.transform(x_test_old)\n",
    "\n",
    "X_train_cv_old = cnt_vectorizer_old.fit_transform(x_train_old)\n",
    "X_val_cv_old = cnt_vectorizer_old.transform(x_val_old)\n",
    "X_test_cv_old = cnt_vectorizer_old.transform(x_test_old)"
   ]
  },
  {
   "cell_type": "code",
   "execution_count": null,
   "metadata": {
    "colab": {
     "base_uri": "https://localhost:8080/",
     "height": 51
    },
    "colab_type": "code",
    "id": "jqyrKgWavBZG",
    "outputId": "ea89efe6-2e0e-4906-c151-9f975cafa60d"
   },
   "outputs": [
    {
     "name": "stdout",
     "output_type": "stream",
     "text": [
      "CPU times: user 42.1 s, sys: 22.6 s, total: 1min 4s\n",
      "Wall time: 34.8 s\n"
     ]
    }
   ],
   "source": [
    "%%time\n",
    "tfidf_model =  LogisticRegression(C=20).fit(X_train_tfidf , y_train)"
   ]
  },
  {
   "cell_type": "code",
   "execution_count": null,
   "metadata": {
    "colab": {
     "base_uri": "https://localhost:8080/",
     "height": 51
    },
    "colab_type": "code",
    "id": "xdaDvfAAvBZJ",
    "outputId": "65f2acdc-beee-4dbb-e61c-5cca2603fad2"
   },
   "outputs": [
    {
     "name": "stdout",
     "output_type": "stream",
     "text": [
      "CPU times: user 39.8 s, sys: 20.8 s, total: 1min\n",
      "Wall time: 32.8 s\n"
     ]
    }
   ],
   "source": [
    "%%time\n",
    "cv_model =  LogisticRegression(C=20).fit(X_train_cv , y_train)"
   ]
  },
  {
   "cell_type": "code",
   "execution_count": null,
   "metadata": {
    "colab": {
     "base_uri": "https://localhost:8080/",
     "height": 51
    },
    "colab_type": "code",
    "id": "3wm0Wrs-vBZL",
    "outputId": "2566ea25-485f-481e-f4c7-ecfb41e62229"
   },
   "outputs": [
    {
     "name": "stdout",
     "output_type": "stream",
     "text": [
      "CPU times: user 44.2 s, sys: 22.2 s, total: 1min 6s\n",
      "Wall time: 36.3 s\n"
     ]
    }
   ],
   "source": [
    "%%time\n",
    "tfidf_model_old =  LogisticRegression(C=20).fit(X_train_tfidf_old, y_train_old)"
   ]
  },
  {
   "cell_type": "code",
   "execution_count": null,
   "metadata": {
    "colab": {
     "base_uri": "https://localhost:8080/",
     "height": 51
    },
    "colab_type": "code",
    "id": "EiXFthicvBZO",
    "outputId": "e6acd031-e694-4fc1-ba50-b0bfef87d9e8"
   },
   "outputs": [
    {
     "name": "stdout",
     "output_type": "stream",
     "text": [
      "CPU times: user 42.5 s, sys: 21.1 s, total: 1min 3s\n",
      "Wall time: 35 s\n"
     ]
    }
   ],
   "source": [
    "%%time\n",
    "cv_model_old =  LogisticRegression(C=20).fit(X_train_cv_old , y_train_old)"
   ]
  },
  {
   "cell_type": "code",
   "execution_count": null,
   "metadata": {
    "colab": {},
    "colab_type": "code",
    "id": "qLDPl4YuvBZR"
   },
   "outputs": [],
   "source": [
    "def score_tr_dev_test(model,model_name,x_train,x_val,x_test):\n",
    "    print(\"Для модели\",model_name)\n",
    "    print(\"Train:\",f1_score(y_train, model.predict(x_train),average='macro'),'|',\"Val:\",f1_score(y_val, model.predict(x_val),average='macro'),'|',\"Test:\",f1_score(y_test, model.predict(x_test),average='macro'))\n"
   ]
  },
  {
   "cell_type": "code",
   "execution_count": null,
   "metadata": {
    "colab": {
     "base_uri": "https://localhost:8080/",
     "height": 102
    },
    "colab_type": "code",
    "id": "VYxoCN2l4my3",
    "outputId": "dcaec745-80fc-4044-be02-b983df819891"
   },
   "outputs": [
    {
     "name": "stdout",
     "output_type": "stream",
     "text": [
      "Для модели Log.Reg на TF-IDF\n",
      "Train: 0.999611868033045 | Val: 0.9044585762258559 | Test: 0.9043375406075871\n",
      "\n",
      "Для модели Log.Reg на BoW\n",
      "Train: 0.9998490602240939 | Val: 0.9046415505981233 | Test: 0.9039733019578455\n"
     ]
    }
   ],
   "source": [
    "score_tr_dev_test(tfidf_model,'Log.Reg на TF-IDF',X_train_tfidf,X_val_tfidf,X_test_tfidf)\n",
    "print()\n",
    "score_tr_dev_test(cv_model,'Log.Reg на BoW',X_train_cv,X_val_cv,X_test_cv)"
   ]
  },
  {
   "cell_type": "code",
   "execution_count": null,
   "metadata": {
    "colab": {
     "base_uri": "https://localhost:8080/",
     "height": 102
    },
    "colab_type": "code",
    "id": "Vmdh_dMB4oDO",
    "outputId": "1697ebc5-35c3-46e5-cdb2-dec643d2ceeb"
   },
   "outputs": [
    {
     "name": "stdout",
     "output_type": "stream",
     "text": [
      "Для модели Log.Reg на TF-IDF old\n",
      "Train: 0.991568776327094 | Val: 0.7524822290645785 | Test: 0.7542649019352832\n",
      "\n",
      "Для модели Log.Reg на BoW old\n",
      "Train: 0.999281234861286 | Val: 0.7500652988294763 | Test: 0.7496222876353602\n"
     ]
    }
   ],
   "source": [
    "score_tr_dev_test(tfidf_model_old,'Log.Reg на TF-IDF old',X_train_tfidf_old,X_val_tfidf_old,X_test_tfidf_old)\n",
    "print()\n",
    "score_tr_dev_test(cv_model_old,'Log.Reg на BoW old',X_train_cv_old,X_val_cv_old,X_test_cv_old)\n"
   ]
  },
  {
   "cell_type": "code",
   "execution_count": null,
   "metadata": {
    "colab": {},
    "colab_type": "code",
    "id": "kSYubBuTvBZZ"
   },
   "outputs": [],
   "source": [
    "def visualize_coefficients(classifier, feature_names, n_top_features=25):\n",
    "    # get coefficients with large absolute values \n",
    "    coef = classifier.coef_.ravel()\n",
    "    positive_coefficients = np.argsort(coef)[-n_top_features:]\n",
    "    negative_coefficients = np.argsort(coef)[:n_top_features]\n",
    "    interesting_coefficients = np.hstack([negative_coefficients, positive_coefficients])\n",
    "    # plot them\n",
    "    plt.figure(figsize=(15, 5))\n",
    "    plt.grid()\n",
    "    colors = [\"red\" if c < 0 else \"blue\" for c in coef[interesting_coefficients]]\n",
    "    plt.bar(np.arange(2 * n_top_features), coef[interesting_coefficients], color=colors)\n",
    "    feature_names = np.array(feature_names)\n",
    "    plt.xticks(np.arange(1, 1 + 2 * n_top_features), feature_names[interesting_coefficients], rotation=70, ha=\"right\")"
   ]
  },
  {
   "cell_type": "code",
   "execution_count": null,
   "metadata": {
    "colab": {
     "base_uri": "https://localhost:8080/",
     "height": 891
    },
    "colab_type": "code",
    "id": "SbWP6ETNvBZc",
    "outputId": "35e20de4-d5c3-4018-ce77-f921314b2b5c"
   },
   "outputs": [
    {
     "data": {
      "image/png": "[encoded data removed]",
      "text/plain": [
       "<Figure size 1080x360 with 1 Axes>"
      ]
     },
     "metadata": {
      "needs_background": "light",
      "tags": []
     },
     "output_type": "display_data"
    },
    {
     "data": {
      "image/png": "[encoded data removed]",
      "text/plain": [
       "<Figure size 1080x360 with 1 Axes>"
      ]
     },
     "metadata": {
      "needs_background": "light",
      "tags": []
     },
     "output_type": "display_data"
    }
   ],
   "source": [
    "visualize_coefficients(tfidf_model, tf_idf_vectorizer.get_feature_names())\n",
    "visualize_coefficients(cv_model, cnt_vectorizer.get_feature_names())"
   ]
  },
  {
   "cell_type": "markdown",
   "metadata": {
    "colab_type": "text",
    "id": "KbPAk2_mvBZf"
   },
   "source": [
    "###### Naive Bayess"
   ]
  },
  {
   "cell_type": "code",
   "execution_count": null,
   "metadata": {
    "colab": {
     "base_uri": "https://localhost:8080/",
     "height": 51
    },
    "colab_type": "code",
    "id": "E8mjxrQFvBZg",
    "outputId": "8d6d5c49-d3f4-4ab8-92c0-5589f0bce99e"
   },
   "outputs": [
    {
     "name": "stdout",
     "output_type": "stream",
     "text": [
      "CPU times: user 187 ms, sys: 2.95 ms, total: 190 ms\n",
      "Wall time: 189 ms\n"
     ]
    }
   ],
   "source": [
    "%%time\n",
    "MND = MultinomialNB(alpha=1).fit(X_train_tfidf , y_train)"
   ]
  },
  {
   "cell_type": "code",
   "execution_count": null,
   "metadata": {
    "colab": {
     "base_uri": "https://localhost:8080/",
     "height": 51
    },
    "colab_type": "code",
    "id": "xVL4pCuJvBZk",
    "outputId": "5498c3d1-de1d-46f7-981e-d2dff93d2669"
   },
   "outputs": [
    {
     "name": "stdout",
     "output_type": "stream",
     "text": [
      "CPU times: user 206 ms, sys: 3.18 ms, total: 210 ms\n",
      "Wall time: 210 ms\n"
     ]
    }
   ],
   "source": [
    "%%time\n",
    "BNB= BernoulliNB(alpha=1).fit(X_train_tfidf , y_train)"
   ]
  },
  {
   "cell_type": "code",
   "execution_count": null,
   "metadata": {
    "colab": {
     "base_uri": "https://localhost:8080/",
     "height": 204
    },
    "colab_type": "code",
    "id": "Rc3j7dNPxNst",
    "outputId": "ac31ca2a-f464-4608-ce3f-9c18aef38a40"
   },
   "outputs": [
    {
     "name": "stdout",
     "output_type": "stream",
     "text": [
      "Для модели MultinomialNB на TF-IDF\n",
      "Train: 0.9804723029105789 | Val: 0.8475782780882353 | Test: 0.8460808362193368\n",
      "\n",
      "Для модели BernoulliNB на TF-IDF\n",
      "Train: 0.9890103923626001 | Val: 0.8774394825487806 | Test: 0.8777637382989856\n",
      "\n",
      "Для модели Log.Reg на TF-IDF\n",
      "Train: 0.9991518563789901 | Val: 0.8940916338203637 | Test: 0.8957777147880494\n",
      "\n",
      "Для модели Log.Reg на BoW\n",
      "Train: 0.9998346850073411 | Val: 0.8916893612076922 | Test: 0.8942219217575517\n"
     ]
    }
   ],
   "source": [
    "score_tr_dev_test(MND,'MultinomialNB на TF-IDF',X_train_tfidf,X_val_tfidf,X_test_tfidf)\n",
    "print()\n",
    "score_tr_dev_test(BNB,'BernoulliNB на TF-IDF',X_train_tfidf,X_val_tfidf,X_test_tfidf)\n",
    "print()\n",
    "score_tr_dev_test(tfidf_model,'Log.Reg на TF-IDF',X_train_tfidf,X_val_tfidf,X_test_tfidf)\n",
    "print()\n",
    "score_tr_dev_test(cv_model,'Log.Reg на BoW',X_train_cv,X_val_cv,X_test_cv)"
   ]
  },
  {
   "cell_type": "markdown",
   "metadata": {
    "colab_type": "text",
    "id": "16Z4q-VHvBZs"
   },
   "source": [
    "**Использовал GridSearch для поиска наилучших параметров**"
   ]
  },
  {
   "cell_type": "markdown",
   "metadata": {
    "colab_type": "text",
    "id": "axCKs0KKvBZt"
   },
   "source": [
    "Возьмем как **baseline модель Log.Reg на TF-IDF**, у которой\n",
    "\n",
    "Train: 0.9996 | Val: 0.9045 | Test: 0.9043\n",
    "\n",
    "Причины, по которым рассматривал модель **Логистической регрессии и Наивный байесовский классификатор**, как базовые, тк:\n",
    " - обе модели быстро строятся и обучаются\n",
    " - есть вероятностная интерпретация выхода классификатора\n",
    " - можно проинтерпретировать веса признаков"
   ]
  },
  {
   "cell_type": "markdown",
   "metadata": {
    "colab_type": "text",
    "id": "rpMMXmj7vBZt"
   },
   "source": [
    "### fastText classification"
   ]
  },
  {
   "cell_type": "code",
   "execution_count": 1,
   "metadata": {
    "colab": {},
    "colab_type": "code",
    "id": "eqVX6yw7vBZt"
   },
   "outputs": [],
   "source": [
    "import fasttext"
   ]
  },
  {
   "cell_type": "code",
   "execution_count": null,
   "metadata": {
    "colab": {},
    "colab_type": "code",
    "id": "DMHb2v5PvBZw"
   },
   "outputs": [],
   "source": [
    "def to_ft_format(sentences, labels, file_path):\n",
    "    with open(file_path, 'w+', encoding=\"utf-8\") as f:\n",
    "        for sentence, label in zip(sentences, labels):\n",
    "            label = \"__label__\"+str(label)\n",
    "            f.write(label + \" \" + sentence + \"\\n\")"
   ]
  },
  {
   "cell_type": "code",
   "execution_count": null,
   "metadata": {
    "colab": {},
    "colab_type": "code",
    "id": "4pCdeeNivBZ0"
   },
   "outputs": [],
   "source": [
    "to_ft_format(x_train, y_train, 'data/data_lemmatize.train') #data/data_lemmatize\n",
    "to_ft_format(x_val, y_val, 'data/data_lemmatize.val')\n",
    "to_ft_format(x_test, y_test, 'data/data_lemmatize.test')\n"
   ]
  },
  {
   "cell_type": "code",
   "execution_count": null,
   "metadata": {
    "colab": {},
    "colab_type": "code",
    "id": "JCyVTAuJvBZ4"
   },
   "outputs": [],
   "source": [
    "fasttext_model = fasttext.train_supervised(input=\"data/data_lemmatize.train\", epoch=50, lr=1.0, wordNgrams=2, dim=300)"
   ]
  },
  {
   "cell_type": "code",
   "execution_count": null,
   "metadata": {
    "colab": {
     "base_uri": "https://localhost:8080/",
     "height": 51
    },
    "colab_type": "code",
    "id": "kyt9DhpBvBZ-",
    "outputId": "d5e2728b-25f9-4f00-9a0f-618673c81a5f"
   },
   "outputs": [
    {
     "name": "stdout",
     "output_type": "stream",
     "text": [
      "(34791, 0.9014400275933431, 0.9014400275933431)\n",
      "(43488, 0.9015820456217807, 0.9015820456217807)\n"
     ]
    }
   ],
   "source": [
    "print(fasttext_model.test(\"data/data_lemmatize.val\")) # epoch=50, lr=1.0, wordNgrams=2, dim=300\n",
    "print(fasttext_model.test(\"data/data_lemmatize.test\"))"
   ]
  },
  {
   "cell_type": "code",
   "execution_count": 6,
   "metadata": {
    "colab": {},
    "colab_type": "code",
    "id": "cj3axwkuvBaI"
   },
   "outputs": [
    {
     "name": "stdout",
     "output_type": "stream",
     "text": [
      "CPU times: user 3 µs, sys: 0 ns, total: 3 µs\n",
      "Wall time: 5.25 µs\n"
     ]
    }
   ],
   "source": [
    "%time\n",
    "fasttext_model = fasttext.train_supervised(input=\"data/data.train\", autotuneValidationFile='data/data_lemmatize.val')"
   ]
  },
  {
   "cell_type": "code",
   "execution_count": 7,
   "metadata": {
    "colab": {},
    "colab_type": "code",
    "id": "B_AevsQovBaL"
   },
   "outputs": [],
   "source": [
    "def f1(pr,rec):\n",
    "    return 2*pr*rec/(pr+rec)"
   ]
  },
  {
   "cell_type": "code",
   "execution_count": 8,
   "metadata": {
    "colab": {},
    "colab_type": "code",
    "id": "KqVBGX9-vBaQ",
    "outputId": "cca7c418-6369-4ba0-8f3f-fde9b13b12ee"
   },
   "outputs": [
    {
     "name": "stdout",
     "output_type": "stream",
     "text": [
      "(145173, 0.922285824499046, 0.922285824499046)\n",
      "f1 = 0.9222858244990458\n",
      "(36294, 0.9082492974045296, 0.9082492974045296)\n",
      "f1 = 0.9082492974045296\n",
      "(45367, 0.9087662838627196, 0.9087662838627196)\n",
      "f1 = 0.9087662838627196\n"
     ]
    }
   ],
   "source": [
    "ft_res_train = fasttext_model.test(\"data/data.train\") \n",
    "print(ft_res_train)  #autotuneValidationFile\n",
    "print('f1 =',f1(ft_res_train[1],ft_res_train[2]))\n",
    "\n",
    "ft_res_val = fasttext_model.test(\"data/data.val\") \n",
    "print(ft_res_val)  #autotuneValidationFile\n",
    "print('f1 =',f1(ft_res_val[1],ft_res_val[2]))\n",
    "\n",
    "ft_res_test = fasttext_model.test(\"data/data.test\") \n",
    "print(ft_res_test)\n",
    "print('f1 =',f1(ft_res_test[1],ft_res_test[2]))"
   ]
  },
  {
   "cell_type": "code",
   "execution_count": 9,
   "metadata": {
    "colab": {},
    "colab_type": "code",
    "id": "wrHpNKXqvBaX"
   },
   "outputs": [],
   "source": [
    "fasttext_model.save_model(\"fasstText_autotune.bin\")"
   ]
  },
  {
   "cell_type": "markdown",
   "metadata": {
    "colab_type": "text",
    "id": "wywRkF4WvBaZ"
   },
   "source": [
    "Как видим в итоге **fastText** работает немного лучше, чем модель **Logistic Regression на TF-IDF** векторах.\n",
    "\n",
    "Это логично, тк **fastText**:\n",
    " - учитывает локальную близость слов (чего нет в TF-IDF и BoW, где используется глобальная информация) \n",
    " - обрабатывает  OOV (out of vocabluraly) слов, что положительно влияет при использовании алгоритма на новых данных.\n"
   ]
  },
  {
   "cell_type": "markdown",
   "metadata": {
    "colab_type": "text",
    "id": "N-O2BLWZvBaa"
   },
   "source": [
    "### Fine-tuning BERT"
   ]
  },
  {
   "cell_type": "markdown",
   "metadata": {},
   "source": [
    "Модель BERT показала  "
   ]
  },
  {
   "cell_type": "markdown",
   "metadata": {
    "colab_type": "text",
    "id": "XHoXcCryxdB2"
   },
   "source": [
    "Разбиваем предложения для BERT( для них не пользуемся никакой предобработкой, кроме добавления токенов разделения предложений)"
   ]
  },
  {
   "cell_type": "code",
   "execution_count": null,
   "metadata": {
    "colab": {},
    "colab_type": "code",
    "id": "uIlMDi15Okfk"
   },
   "outputs": [],
   "source": [
    "sentences_bert = [\"[CLS] \" + sentence + \" [SEP]\" for sentence in sentences]"
   ]
  },
  {
   "cell_type": "code",
   "execution_count": null,
   "metadata": {
    "colab": {},
    "colab_type": "code",
    "id": "uYhMfU-gxkmg"
   },
   "outputs": [],
   "source": [
    "train_sentences, test_sentences, train_y, test_y = train_test_split(sentences_bert, labels, test_size=0.2,random_state=RANDOM_SEED)"
   ]
  },
  {
   "cell_type": "code",
   "execution_count": null,
   "metadata": {
    "colab": {
     "base_uri": "https://localhost:8080/",
     "height": 54
    },
    "colab_type": "code",
    "id": "tcZrKc5rvBaa",
    "outputId": "51eac9a1-fd61-4938-e5a1-4f99f6643f6e"
   },
   "outputs": [
    {
     "name": "stdout",
     "output_type": "stream",
     "text": [
      "['[CLS]', 'н', '##и', 'р', '##а', '##з', '##у', 'н', '##е', 'и', '##с', '##п', '##а', '##ч', '##ка', '##л', '##с', '##я', 'т', '##о', '##р', '##т', '##о', '##м', ')', ')', ')', 'http', ':', '/', '/', 't', '.', 'co', '/', 'j', '##y', '##ca', '##dt', '##xa', '##fb', '[SEP]']\n"
     ]
    }
   ],
   "source": [
    "from pytorch_transformers import BertTokenizer, BertConfig\n",
    "\n",
    "\n",
    "tokenizer = BertTokenizer.from_pretrained('bert-base-uncased', do_lower_case=True)\n",
    "# base -model | uncased - все слова в нижнем регистре\n",
    "tokenized_texts_train = [tokenizer.tokenize(sent) for sent in train_sentences]\n",
    "tokenized_texts_test = [tokenizer.tokenize(sent) for sent in test_sentences]\n",
    "print(tokenized_texts_train[0])"
   ]
  },
  {
   "cell_type": "code",
   "execution_count": null,
   "metadata": {
    "colab": {
     "base_uri": "https://localhost:8080/",
     "height": 731
    },
    "colab_type": "code",
    "id": "YYXkViluxddV",
    "outputId": "58972539-b5ac-4702-c813-cd2a4321bb8b"
   },
   "outputs": [
    {
     "data": {
      "text/plain": [
       "['[CLS]',\n",
       " 'н',\n",
       " '##и',\n",
       " 'р',\n",
       " '##а',\n",
       " '##з',\n",
       " '##у',\n",
       " 'н',\n",
       " '##е',\n",
       " 'и',\n",
       " '##с',\n",
       " '##п',\n",
       " '##а',\n",
       " '##ч',\n",
       " '##ка',\n",
       " '##л',\n",
       " '##с',\n",
       " '##я',\n",
       " 'т',\n",
       " '##о',\n",
       " '##р',\n",
       " '##т',\n",
       " '##о',\n",
       " '##м',\n",
       " ')',\n",
       " ')',\n",
       " ')',\n",
       " 'http',\n",
       " ':',\n",
       " '/',\n",
       " '/',\n",
       " 't',\n",
       " '.',\n",
       " 'co',\n",
       " '/',\n",
       " 'j',\n",
       " '##y',\n",
       " '##ca',\n",
       " '##dt',\n",
       " '##xa',\n",
       " '##fb',\n",
       " '[SEP]']"
      ]
     },
     "execution_count": 61,
     "metadata": {
      "tags": []
     },
     "output_type": "execute_result"
    }
   ],
   "source": [
    "tokenized_texts_train[0]"
   ]
  },
  {
   "cell_type": "markdown",
   "metadata": {
    "colab_type": "text",
    "id": "BljSkHADx9Ea"
   },
   "source": [
    "BERTу нужно предоставить специальный формат входных данных.\n",
    "\n",
    "\n",
    "- **input ids**: последовательность чисел, отождествляющих каждый токен с его номером в словаре.\n",
    "- **labels**: вектор из нулей и единиц. В нашем случае нули обозначают негативную эмоциональную окраску, единицы - положительную.\n",
    "- **segment mask**: (необязательно) последовательность нулей и единиц, которая показывает, состоит ли входной текст из одного или двух предложений. Для случая одного предложения получится вектор из одних нулей. Для двух: <length_of_sent_1> нулей и <length_of_sent_2> единиц.\n",
    "- **attention mask**: (необязательно) последовательность нулей и единиц, где единицы обозначают токены предложения, нули - паддинг."
   ]
  },
  {
   "cell_type": "markdown",
   "metadata": {
    "colab_type": "text",
    "id": "Syn4sxqryB1k"
   },
   "source": [
    "**Для начала обучим модель, которая либо обрезает часть твитов до 100 токенов, либо заполняет нулями пустые токены до длины 100.**"
   ]
  },
  {
   "cell_type": "code",
   "execution_count": null,
   "metadata": {
    "colab": {},
    "colab_type": "code",
    "id": "nh16hfyZx9a1"
   },
   "outputs": [],
   "source": [
    "input_ids = [tokenizer.convert_tokens_to_ids(x) for x in tokenized_texts_train]\n",
    "input_ids = pad_sequences(\n",
    "    input_ids,\n",
    "    maxlen=100,\n",
    "    dtype=\"long\",\n",
    "    truncating=\"post\",\n",
    "    padding=\"post\"\n",
    ")\n",
    "attention_masks = [[float(i>0) for i in seq] for seq in input_ids]"
   ]
  },
  {
   "cell_type": "code",
   "execution_count": null,
   "metadata": {
    "colab": {
     "base_uri": "https://localhost:8080/",
     "height": 34
    },
    "colab_type": "code",
    "id": "ISwDssMgyJos",
    "outputId": "2bc1cf80-6eac-46bb-9178-4f180d8e8655"
   },
   "outputs": [
    {
     "data": {
      "text/plain": [
       "149"
      ]
     },
     "execution_count": 63,
     "metadata": {
      "tags": []
     },
     "output_type": "execute_result"
    }
   ],
   "source": [
    "max([len(text) for text in tokenized_texts_train])"
   ]
  },
  {
   "cell_type": "code",
   "execution_count": null,
   "metadata": {
    "colab": {
     "base_uri": "https://localhost:8080/",
     "height": 34
    },
    "colab_type": "code",
    "id": "7D26zMgIyLzH",
    "outputId": "dcf37271-78e6-42d6-88ff-02fca64e602a"
   },
   "outputs": [
    {
     "data": {
      "text/plain": [
       "(173952, 100)"
      ]
     },
     "execution_count": 64,
     "metadata": {
      "tags": []
     },
     "output_type": "execute_result"
    }
   ],
   "source": [
    "input_ids.shape"
   ]
  },
  {
   "cell_type": "code",
   "execution_count": null,
   "metadata": {
    "colab": {},
    "colab_type": "code",
    "id": "aFbE-UHvsb7-"
   },
   "outputs": [],
   "source": [
    "train_inputs, validation_inputs, train_labels, validation_labels = train_test_split(\n",
    "    input_ids, train_y, \n",
    "    random_state=RANDOM_SEED,\n",
    "    test_size=0.2\n",
    ")\n",
    "\n",
    "train_masks, validation_masks, _, _ = train_test_split(\n",
    "    attention_masks,\n",
    "    input_ids,\n",
    "    random_state=RANDOM_SEED,\n",
    "    test_size=0.2\n",
    ")"
   ]
  },
  {
   "cell_type": "code",
   "execution_count": null,
   "metadata": {
    "colab": {},
    "colab_type": "code",
    "id": "jw5K2A5Ko1RF"
   },
   "outputs": [],
   "source": [
    "train_inputs = torch.tensor(train_inputs)\n",
    "train_labels = torch.tensor(train_labels)\n",
    "train_masks = torch.tensor(train_masks)"
   ]
  },
  {
   "cell_type": "code",
   "execution_count": null,
   "metadata": {
    "colab": {},
    "colab_type": "code",
    "id": "ojoV2jJrm_l2"
   },
   "outputs": [],
   "source": [
    "validation_inputs = torch.tensor(validation_inputs)\n",
    "validation_labels = torch.tensor(validation_labels)\n",
    "validation_masks = torch.tensor(validation_masks)"
   ]
  },
  {
   "cell_type": "code",
   "execution_count": null,
   "metadata": {
    "colab": {
     "base_uri": "https://localhost:8080/",
     "height": 34
    },
    "colab_type": "code",
    "id": "C0ipMswym_l6",
    "outputId": "149b7b4d-85f3-4b23-9ba4-46954951f3c7"
   },
   "outputs": [
    {
     "data": {
      "text/plain": [
       "(torch.Size([139161]), torch.Size([34791]))"
      ]
     },
     "execution_count": 68,
     "metadata": {
      "tags": []
     },
     "output_type": "execute_result"
    }
   ],
   "source": [
    "train_labels.shape, validation_labels.shape"
   ]
  },
  {
   "cell_type": "code",
   "execution_count": null,
   "metadata": {
    "colab": {},
    "colab_type": "code",
    "id": "GEgLpFVlo1Z-"
   },
   "outputs": [],
   "source": [
    "train_data = TensorDataset(train_inputs, train_masks, train_labels)\n",
    "train_dataloader = DataLoader(\n",
    "    train_data,\n",
    "    sampler=RandomSampler(train_data),\n",
    "    batch_size= 32\n",
    ")"
   ]
  },
  {
   "cell_type": "code",
   "execution_count": null,
   "metadata": {
    "colab": {},
    "colab_type": "code",
    "id": "nQWHyuDAm_l_"
   },
   "outputs": [],
   "source": [
    "validation_data = TensorDataset(validation_inputs, validation_masks, validation_labels)\n",
    "validation_dataloader = DataLoader(\n",
    "    validation_data,\n",
    "    sampler=SequentialSampler(validation_data),\n",
    "    batch_size= 32\n",
    ")"
   ]
  },
  {
   "cell_type": "markdown",
   "metadata": {
    "colab_type": "text",
    "id": "pNl8khAhPYju"
   },
   "source": [
    "## Обучение модели"
   ]
  },
  {
   "cell_type": "markdown",
   "metadata": {
    "colab_type": "text",
    "id": "t81JxVRsm_mC"
   },
   "source": [
    "Загружаем [BertForSequenceClassification](https://github.com/huggingface/pytorch-pretrained-BERT/blob/master/pytorch_pretrained_bert/modeling.py#L1129):"
   ]
  },
  {
   "cell_type": "code",
   "execution_count": null,
   "metadata": {
    "colab": {},
    "colab_type": "code",
    "id": "djqlmwWBm_mD"
   },
   "outputs": [],
   "source": [
    "from pytorch_transformers import AdamW, BertForSequenceClassification"
   ]
  },
  {
   "cell_type": "code",
   "execution_count": null,
   "metadata": {
    "colab": {
     "base_uri": "https://localhost:8080/",
     "height": 1000
    },
    "colab_type": "code",
    "id": "gFsCTp_mporB",
    "outputId": "96d7d4ba-e6cb-4744-8e65-3fef09e695b7"
   },
   "outputs": [
    {
     "name": "stderr",
     "output_type": "stream",
     "text": [
      "100%|██████████| 433/433 [00:00<00:00, 168801.34B/s]\n",
      "100%|██████████| 440473133/440473133 [00:11<00:00, 38341924.63B/s]\n"
     ]
    },
    {
     "data": {
      "text/plain": [
       "BertForSequenceClassification(\n",
       "  (bert): BertModel(\n",
       "    (embeddings): BertEmbeddings(\n",
       "      (word_embeddings): Embedding(30522, 768, padding_idx=0)\n",
       "      (position_embeddings): Embedding(512, 768)\n",
       "      (token_type_embeddings): Embedding(2, 768)\n",
       "      (LayerNorm): LayerNorm((768,), eps=1e-12, elementwise_affine=True)\n",
       "      (dropout): Dropout(p=0.1, inplace=False)\n",
       "    )\n",
       "    (encoder): BertEncoder(\n",
       "      (layer): ModuleList(\n",
       "        (0): BertLayer(\n",
       "          (attention): BertAttention(\n",
       "            (self): BertSelfAttention(\n",
       "              (query): Linear(in_features=768, out_features=768, bias=True)\n",
       "              (key): Linear(in_features=768, out_features=768, bias=True)\n",
       "              (value): Linear(in_features=768, out_features=768, bias=True)\n",
       "              (dropout): Dropout(p=0.1, inplace=False)\n",
       "            )\n",
       "            (output): BertSelfOutput(\n",
       "              (dense): Linear(in_features=768, out_features=768, bias=True)\n",
       "              (LayerNorm): LayerNorm((768,), eps=1e-12, elementwise_affine=True)\n",
       "              (dropout): Dropout(p=0.1, inplace=False)\n",
       "            )\n",
       "          )\n",
       "          (intermediate): BertIntermediate(\n",
       "            (dense): Linear(in_features=768, out_features=3072, bias=True)\n",
       "          )\n",
       "          (output): BertOutput(\n",
       "            (dense): Linear(in_features=3072, out_features=768, bias=True)\n",
       "            (LayerNorm): LayerNorm((768,), eps=1e-12, elementwise_affine=True)\n",
       "            (dropout): Dropout(p=0.1, inplace=False)\n",
       "          )\n",
       "        )\n",
       "        (1): BertLayer(\n",
       "          (attention): BertAttention(\n",
       "            (self): BertSelfAttention(\n",
       "              (query): Linear(in_features=768, out_features=768, bias=True)\n",
       "              (key): Linear(in_features=768, out_features=768, bias=True)\n",
       "              (value): Linear(in_features=768, out_features=768, bias=True)\n",
       "              (dropout): Dropout(p=0.1, inplace=False)\n",
       "            )\n",
       "            (output): BertSelfOutput(\n",
       "              (dense): Linear(in_features=768, out_features=768, bias=True)\n",
       "              (LayerNorm): LayerNorm((768,), eps=1e-12, elementwise_affine=True)\n",
       "              (dropout): Dropout(p=0.1, inplace=False)\n",
       "            )\n",
       "          )\n",
       "          (intermediate): BertIntermediate(\n",
       "            (dense): Linear(in_features=768, out_features=3072, bias=True)\n",
       "          )\n",
       "          (output): BertOutput(\n",
       "            (dense): Linear(in_features=3072, out_features=768, bias=True)\n",
       "            (LayerNorm): LayerNorm((768,), eps=1e-12, elementwise_affine=True)\n",
       "            (dropout): Dropout(p=0.1, inplace=False)\n",
       "          )\n",
       "        )\n",
       "        (2): BertLayer(\n",
       "          (attention): BertAttention(\n",
       "            (self): BertSelfAttention(\n",
       "              (query): Linear(in_features=768, out_features=768, bias=True)\n",
       "              (key): Linear(in_features=768, out_features=768, bias=True)\n",
       "              (value): Linear(in_features=768, out_features=768, bias=True)\n",
       "              (dropout): Dropout(p=0.1, inplace=False)\n",
       "            )\n",
       "            (output): BertSelfOutput(\n",
       "              (dense): Linear(in_features=768, out_features=768, bias=True)\n",
       "              (LayerNorm): LayerNorm((768,), eps=1e-12, elementwise_affine=True)\n",
       "              (dropout): Dropout(p=0.1, inplace=False)\n",
       "            )\n",
       "          )\n",
       "          (intermediate): BertIntermediate(\n",
       "            (dense): Linear(in_features=768, out_features=3072, bias=True)\n",
       "          )\n",
       "          (output): BertOutput(\n",
       "            (dense): Linear(in_features=3072, out_features=768, bias=True)\n",
       "            (LayerNorm): LayerNorm((768,), eps=1e-12, elementwise_affine=True)\n",
       "            (dropout): Dropout(p=0.1, inplace=False)\n",
       "          )\n",
       "        )\n",
       "        (3): BertLayer(\n",
       "          (attention): BertAttention(\n",
       "            (self): BertSelfAttention(\n",
       "              (query): Linear(in_features=768, out_features=768, bias=True)\n",
       "              (key): Linear(in_features=768, out_features=768, bias=True)\n",
       "              (value): Linear(in_features=768, out_features=768, bias=True)\n",
       "              (dropout): Dropout(p=0.1, inplace=False)\n",
       "            )\n",
       "            (output): BertSelfOutput(\n",
       "              (dense): Linear(in_features=768, out_features=768, bias=True)\n",
       "              (LayerNorm): LayerNorm((768,), eps=1e-12, elementwise_affine=True)\n",
       "              (dropout): Dropout(p=0.1, inplace=False)\n",
       "            )\n",
       "          )\n",
       "          (intermediate): BertIntermediate(\n",
       "            (dense): Linear(in_features=768, out_features=3072, bias=True)\n",
       "          )\n",
       "          (output): BertOutput(\n",
       "            (dense): Linear(in_features=3072, out_features=768, bias=True)\n",
       "            (LayerNorm): LayerNorm((768,), eps=1e-12, elementwise_affine=True)\n",
       "            (dropout): Dropout(p=0.1, inplace=False)\n",
       "          )\n",
       "        )\n",
       "        (4): BertLayer(\n",
       "          (attention): BertAttention(\n",
       "            (self): BertSelfAttention(\n",
       "              (query): Linear(in_features=768, out_features=768, bias=True)\n",
       "              (key): Linear(in_features=768, out_features=768, bias=True)\n",
       "              (value): Linear(in_features=768, out_features=768, bias=True)\n",
       "              (dropout): Dropout(p=0.1, inplace=False)\n",
       "            )\n",
       "            (output): BertSelfOutput(\n",
       "              (dense): Linear(in_features=768, out_features=768, bias=True)\n",
       "              (LayerNorm): LayerNorm((768,), eps=1e-12, elementwise_affine=True)\n",
       "              (dropout): Dropout(p=0.1, inplace=False)\n",
       "            )\n",
       "          )\n",
       "          (intermediate): BertIntermediate(\n",
       "            (dense): Linear(in_features=768, out_features=3072, bias=True)\n",
       "          )\n",
       "          (output): BertOutput(\n",
       "            (dense): Linear(in_features=3072, out_features=768, bias=True)\n",
       "            (LayerNorm): LayerNorm((768,), eps=1e-12, elementwise_affine=True)\n",
       "            (dropout): Dropout(p=0.1, inplace=False)\n",
       "          )\n",
       "        )\n",
       "        (5): BertLayer(\n",
       "          (attention): BertAttention(\n",
       "            (self): BertSelfAttention(\n",
       "              (query): Linear(in_features=768, out_features=768, bias=True)\n",
       "              (key): Linear(in_features=768, out_features=768, bias=True)\n",
       "              (value): Linear(in_features=768, out_features=768, bias=True)\n",
       "              (dropout): Dropout(p=0.1, inplace=False)\n",
       "            )\n",
       "            (output): BertSelfOutput(\n",
       "              (dense): Linear(in_features=768, out_features=768, bias=True)\n",
       "              (LayerNorm): LayerNorm((768,), eps=1e-12, elementwise_affine=True)\n",
       "              (dropout): Dropout(p=0.1, inplace=False)\n",
       "            )\n",
       "          )\n",
       "          (intermediate): BertIntermediate(\n",
       "            (dense): Linear(in_features=768, out_features=3072, bias=True)\n",
       "          )\n",
       "          (output): BertOutput(\n",
       "            (dense): Linear(in_features=3072, out_features=768, bias=True)\n",
       "            (LayerNorm): LayerNorm((768,), eps=1e-12, elementwise_affine=True)\n",
       "            (dropout): Dropout(p=0.1, inplace=False)\n",
       "          )\n",
       "        )\n",
       "        (6): BertLayer(\n",
       "          (attention): BertAttention(\n",
       "            (self): BertSelfAttention(\n",
       "              (query): Linear(in_features=768, out_features=768, bias=True)\n",
       "              (key): Linear(in_features=768, out_features=768, bias=True)\n",
       "              (value): Linear(in_features=768, out_features=768, bias=True)\n",
       "              (dropout): Dropout(p=0.1, inplace=False)\n",
       "            )\n",
       "            (output): BertSelfOutput(\n",
       "              (dense): Linear(in_features=768, out_features=768, bias=True)\n",
       "              (LayerNorm): LayerNorm((768,), eps=1e-12, elementwise_affine=True)\n",
       "              (dropout): Dropout(p=0.1, inplace=False)\n",
       "            )\n",
       "          )\n",
       "          (intermediate): BertIntermediate(\n",
       "            (dense): Linear(in_features=768, out_features=3072, bias=True)\n",
       "          )\n",
       "          (output): BertOutput(\n",
       "            (dense): Linear(in_features=3072, out_features=768, bias=True)\n",
       "            (LayerNorm): LayerNorm((768,), eps=1e-12, elementwise_affine=True)\n",
       "            (dropout): Dropout(p=0.1, inplace=False)\n",
       "          )\n",
       "        )\n",
       "        (7): BertLayer(\n",
       "          (attention): BertAttention(\n",
       "            (self): BertSelfAttention(\n",
       "              (query): Linear(in_features=768, out_features=768, bias=True)\n",
       "              (key): Linear(in_features=768, out_features=768, bias=True)\n",
       "              (value): Linear(in_features=768, out_features=768, bias=True)\n",
       "              (dropout): Dropout(p=0.1, inplace=False)\n",
       "            )\n",
       "            (output): BertSelfOutput(\n",
       "              (dense): Linear(in_features=768, out_features=768, bias=True)\n",
       "              (LayerNorm): LayerNorm((768,), eps=1e-12, elementwise_affine=True)\n",
       "              (dropout): Dropout(p=0.1, inplace=False)\n",
       "            )\n",
       "          )\n",
       "          (intermediate): BertIntermediate(\n",
       "            (dense): Linear(in_features=768, out_features=3072, bias=True)\n",
       "          )\n",
       "          (output): BertOutput(\n",
       "            (dense): Linear(in_features=3072, out_features=768, bias=True)\n",
       "            (LayerNorm): LayerNorm((768,), eps=1e-12, elementwise_affine=True)\n",
       "            (dropout): Dropout(p=0.1, inplace=False)\n",
       "          )\n",
       "        )\n",
       "        (8): BertLayer(\n",
       "          (attention): BertAttention(\n",
       "            (self): BertSelfAttention(\n",
       "              (query): Linear(in_features=768, out_features=768, bias=True)\n",
       "              (key): Linear(in_features=768, out_features=768, bias=True)\n",
       "              (value): Linear(in_features=768, out_features=768, bias=True)\n",
       "              (dropout): Dropout(p=0.1, inplace=False)\n",
       "            )\n",
       "            (output): BertSelfOutput(\n",
       "              (dense): Linear(in_features=768, out_features=768, bias=True)\n",
       "              (LayerNorm): LayerNorm((768,), eps=1e-12, elementwise_affine=True)\n",
       "              (dropout): Dropout(p=0.1, inplace=False)\n",
       "            )\n",
       "          )\n",
       "          (intermediate): BertIntermediate(\n",
       "            (dense): Linear(in_features=768, out_features=3072, bias=True)\n",
       "          )\n",
       "          (output): BertOutput(\n",
       "            (dense): Linear(in_features=3072, out_features=768, bias=True)\n",
       "            (LayerNorm): LayerNorm((768,), eps=1e-12, elementwise_affine=True)\n",
       "            (dropout): Dropout(p=0.1, inplace=False)\n",
       "          )\n",
       "        )\n",
       "        (9): BertLayer(\n",
       "          (attention): BertAttention(\n",
       "            (self): BertSelfAttention(\n",
       "              (query): Linear(in_features=768, out_features=768, bias=True)\n",
       "              (key): Linear(in_features=768, out_features=768, bias=True)\n",
       "              (value): Linear(in_features=768, out_features=768, bias=True)\n",
       "              (dropout): Dropout(p=0.1, inplace=False)\n",
       "            )\n",
       "            (output): BertSelfOutput(\n",
       "              (dense): Linear(in_features=768, out_features=768, bias=True)\n",
       "              (LayerNorm): LayerNorm((768,), eps=1e-12, elementwise_affine=True)\n",
       "              (dropout): Dropout(p=0.1, inplace=False)\n",
       "            )\n",
       "          )\n",
       "          (intermediate): BertIntermediate(\n",
       "            (dense): Linear(in_features=768, out_features=3072, bias=True)\n",
       "          )\n",
       "          (output): BertOutput(\n",
       "            (dense): Linear(in_features=3072, out_features=768, bias=True)\n",
       "            (LayerNorm): LayerNorm((768,), eps=1e-12, elementwise_affine=True)\n",
       "            (dropout): Dropout(p=0.1, inplace=False)\n",
       "          )\n",
       "        )\n",
       "        (10): BertLayer(\n",
       "          (attention): BertAttention(\n",
       "            (self): BertSelfAttention(\n",
       "              (query): Linear(in_features=768, out_features=768, bias=True)\n",
       "              (key): Linear(in_features=768, out_features=768, bias=True)\n",
       "              (value): Linear(in_features=768, out_features=768, bias=True)\n",
       "              (dropout): Dropout(p=0.1, inplace=False)\n",
       "            )\n",
       "            (output): BertSelfOutput(\n",
       "              (dense): Linear(in_features=768, out_features=768, bias=True)\n",
       "              (LayerNorm): LayerNorm((768,), eps=1e-12, elementwise_affine=True)\n",
       "              (dropout): Dropout(p=0.1, inplace=False)\n",
       "            )\n",
       "          )\n",
       "          (intermediate): BertIntermediate(\n",
       "            (dense): Linear(in_features=768, out_features=3072, bias=True)\n",
       "          )\n",
       "          (output): BertOutput(\n",
       "            (dense): Linear(in_features=3072, out_features=768, bias=True)\n",
       "            (LayerNorm): LayerNorm((768,), eps=1e-12, elementwise_affine=True)\n",
       "            (dropout): Dropout(p=0.1, inplace=False)\n",
       "          )\n",
       "        )\n",
       "        (11): BertLayer(\n",
       "          (attention): BertAttention(\n",
       "            (self): BertSelfAttention(\n",
       "              (query): Linear(in_features=768, out_features=768, bias=True)\n",
       "              (key): Linear(in_features=768, out_features=768, bias=True)\n",
       "              (value): Linear(in_features=768, out_features=768, bias=True)\n",
       "              (dropout): Dropout(p=0.1, inplace=False)\n",
       "            )\n",
       "            (output): BertSelfOutput(\n",
       "              (dense): Linear(in_features=768, out_features=768, bias=True)\n",
       "              (LayerNorm): LayerNorm((768,), eps=1e-12, elementwise_affine=True)\n",
       "              (dropout): Dropout(p=0.1, inplace=False)\n",
       "            )\n",
       "          )\n",
       "          (intermediate): BertIntermediate(\n",
       "            (dense): Linear(in_features=768, out_features=3072, bias=True)\n",
       "          )\n",
       "          (output): BertOutput(\n",
       "            (dense): Linear(in_features=3072, out_features=768, bias=True)\n",
       "            (LayerNorm): LayerNorm((768,), eps=1e-12, elementwise_affine=True)\n",
       "            (dropout): Dropout(p=0.1, inplace=False)\n",
       "          )\n",
       "        )\n",
       "      )\n",
       "    )\n",
       "    (pooler): BertPooler(\n",
       "      (dense): Linear(in_features=768, out_features=768, bias=True)\n",
       "      (activation): Tanh()\n",
       "    )\n",
       "  )\n",
       "  (dropout): Dropout(p=0.1, inplace=False)\n",
       "  (classifier): Linear(in_features=768, out_features=2, bias=True)\n",
       ")"
      ]
     },
     "execution_count": 72,
     "metadata": {
      "tags": []
     },
     "output_type": "execute_result"
    }
   ],
   "source": [
    "model = BertForSequenceClassification.from_pretrained(\"bert-base-uncased\", num_labels=2)\n",
    "model.cuda()"
   ]
  },
  {
   "cell_type": "code",
   "execution_count": null,
   "metadata": {
    "colab": {},
    "colab_type": "code",
    "id": "6k6K0l2Nb9VH"
   },
   "outputs": [],
   "source": [
    "param_optimizer = list(model.named_parameters())\n",
    "no_decay = ['bias', 'gamma', 'beta']\n",
    "optimizer_grouped_parameters = [\n",
    "    {'params': [p for n, p in param_optimizer if not any(nd in n for nd in no_decay)],\n",
    "     'weight_decay_rate': 0.01},\n",
    "    {'params': [p for n, p in param_optimizer if any(nd in n for nd in no_decay)],\n",
    "     'weight_decay_rate': 0.0}\n",
    "]\n",
    "\n",
    "optimizer = AdamW(optimizer_grouped_parameters, lr=2e-5)\n",
    "\n",
    "max_grad_norm_clipping = 1"
   ]
  },
  {
   "cell_type": "code",
   "execution_count": null,
   "metadata": {
    "colab": {
     "base_uri": "https://localhost:8080/",
     "height": 34
    },
    "colab_type": "code",
    "id": "LCoO4px8uSHB",
    "outputId": "89d66c79-7da9-4c89-c0e6-8b1c979a0361"
   },
   "outputs": [
    {
     "data": {
      "text/plain": [
       "4349"
      ]
     },
     "execution_count": 74,
     "metadata": {
      "tags": []
     },
     "output_type": "execute_result"
    }
   ],
   "source": [
    "len(train_dataloader)"
   ]
  },
  {
   "cell_type": "code",
   "execution_count": null,
   "metadata": {
    "colab": {},
    "colab_type": "code",
    "id": "C8V2j3z3QV5X"
   },
   "outputs": [],
   "source": [
    "def train(model, train_dataloader, optimizer, EPOCH_AMOUNT, with_clipping=False,max_grad_norm_clipping=1):\n",
    "    # Будем сохранять loss во время обучения\n",
    "    # и рисовать график в режиме реального времени\n",
    "    train_loss_set = []\n",
    "    train_loss = 0\n",
    "\n",
    "\n",
    "    # Обучение\n",
    "    # Переводим модель в training mode\n",
    "    model.train()\n",
    "\n",
    "    for _ in range(EPOCH_AMOUNT):\n",
    "      for step, batch in enumerate(train_dataloader):\n",
    "          # добавляем батч для вычисления на GPU\n",
    "          batch = tuple(t.to(device) for t in batch)\n",
    "          # Распаковываем данные из dataloader\n",
    "          b_input_ids, b_input_mask, b_labels = batch\n",
    "          \n",
    "          # если не сделать .zero_grad(), градиенты будут накапливаться\n",
    "          optimizer.zero_grad()\n",
    "          \n",
    "          # Forward pass\n",
    "          loss = model(b_input_ids, token_type_ids=None, attention_mask=b_input_mask, labels=b_labels)\n",
    "\n",
    "          train_loss_set.append(loss[0].item())  \n",
    "          \n",
    "          # Backward pass\n",
    "          loss[0].backward()\n",
    "\n",
    "          if with_clipping:\n",
    "              # Gradient clipping is not in AdamW anymore (so you can use amp without issue)\n",
    "              torch.nn.utils.clip_grad_norm_(model.parameters(), max_grad_norm_clipping)\n",
    "          \n",
    "          # Обновляем параметры и делаем шаг используя посчитанные градиенты\n",
    "          optimizer.step()\n",
    "\n",
    "          # Обновляем loss\n",
    "          train_loss += loss[0].item()\n",
    "          \n",
    "          # Рисуем график\n",
    "          clear_output(True)\n",
    "          plt.figure(figsize=(12, 6))\n",
    "          plt.plot(train_loss_set)\n",
    "          plt.title(\"Training loss\")\n",
    "          plt.xlabel(\"Batch\")\n",
    "          plt.ylabel(\"Loss\")\n",
    "          plt.grid()\n",
    "          plt.show()\n",
    "          \n",
    "      print(\"Loss на обучающей выборке: {0:.5f}\".format(train_loss / len(train_dataloader)))\n",
    "    "
   ]
  },
  {
   "cell_type": "code",
   "execution_count": null,
   "metadata": {
    "colab": {},
    "colab_type": "code",
    "id": "1JpuGLb2QYnF"
   },
   "outputs": [],
   "source": [
    "def test(model, dataloader, name_dtlder='Test'):\n",
    "    # Валидация\n",
    "    # Переводим модель в evaluation mode\n",
    "    model.eval()\n",
    "    test_preds, test_labels = [], []\n",
    "\n",
    "    for batch in tqdm_notebook(dataloader):\n",
    "        # добавляем батч для вычисления на GPU\n",
    "        batch = tuple(t.to(device) for t in batch)\n",
    "        \n",
    "        # Распаковываем данные из dataloader\n",
    "        b_input_ids, b_input_mask, b_labels = batch\n",
    "        \n",
    "        # При использовании .no_grad() модель не будет считать и хранить градиенты.\n",
    "        # Это ускорит процесс предсказания меток для тестовых данных.\n",
    "        with torch.no_grad():\n",
    "            logits = model(b_input_ids, token_type_ids=None, attention_mask=b_input_mask)\n",
    "\n",
    "        # Перемещаем logits и метки классов на CPU для дальнейшей работы\n",
    "        logits = logits[0].detach().cpu().numpy()\n",
    "        label_ids = b_labels.to('cpu').numpy()\n",
    "\n",
    "        # Сохраняем предсказанные классы и ground truth\n",
    "        batch_preds = np.argmax(logits, axis=1)\n",
    "\n",
    "        if len(label_ids.shape) == 1:\n",
    "           batch_labels = label_ids  \n",
    "        else:\n",
    "            batch_labels = np.concatenate(label_ids)\n",
    "        test_preds.extend(batch_preds)\n",
    "        test_labels.extend(batch_labels)\n",
    "        batch_preds = np.argmax(logits, axis=1) \n",
    "\n",
    "    \n",
    "    acc_score = accuracy_score(test_labels, test_preds)\n",
    "    print('Процент правильных предсказаний на {0} выборке составил:  f1 = {1:.2f}%'.format(name_dtlder, f1_score(test_labels, test_preds, average='macro') * 100\n",
    "    ))\n",
    "\n",
    "    return test_preds, test_labels"
   ]
  },
  {
   "cell_type": "code",
   "execution_count": null,
   "metadata": {
    "colab": {
     "base_uri": "https://localhost:8080/",
     "height": 421
    },
    "colab_type": "code",
    "id": "Ze0gpY-UQpDB",
    "outputId": "f6cafe12-1a65-4b7b-b98d-8a444da7d9cd"
   },
   "outputs": [
    {
     "data": {
      "image/png": "[encoded data removed]",
      "text/plain": [
       "<Figure size 864x432 with 1 Axes>"
      ]
     },
     "metadata": {
      "needs_background": "light",
      "tags": []
     },
     "output_type": "display_data"
    },
    {
     "name": "stdout",
     "output_type": "stream",
     "text": [
      "Loss на обучающей выборке: 0.03663\n"
     ]
    }
   ],
   "source": [
    "train(model, train_dataloader, optimizer, 1)"
   ]
  },
  {
   "cell_type": "markdown",
   "metadata": {
    "colab_type": "text",
    "id": "RKfpMHMYQ-Ra"
   },
   "source": []
  },
  {
   "cell_type": "code",
   "execution_count": null,
   "metadata": {
    "colab": {
     "base_uri": "https://localhost:8080/",
     "height": 83,
     "referenced_widgets": [
      "5f7f914a5f1a40baa883184c222d805b",
      "c690ac17024d4798954db2d194c234b0",
      "de90527c5752434ead6d9132f284e5ce",
      "2e8a29c92a3f48748d2f834b15db7436",
      "8523266a09fc4740aa8ad241dfebf73f",
      "1b5102caac994643b82175ffc2fb36d3",
      "6c25fa929c6c485eaf2e73711ce7bb27",
      "df3d074378db49858c5d0bc7a5d635a9"
     ]
    },
    "colab_type": "code",
    "id": "2qKfpykYQ2MP",
    "outputId": "ced06c98-3988-42a2-ea4c-18034e56f808"
   },
   "outputs": [
    {
     "data": {
      "application/vnd.jupyter.widget-view+json": {
       "model_id": "5f7f914a5f1a40baa883184c222d805b",
       "version_major": 2,
       "version_minor": 0
      },
      "text/plain": [
       "HBox(children=(FloatProgress(value=0.0, max=1088.0), HTML(value='')))"
      ]
     },
     "metadata": {
      "tags": []
     },
     "output_type": "display_data"
    },
    {
     "name": "stdout",
     "output_type": "stream",
     "text": [
      "\n",
      "Процент правильных предсказаний на VAl выборке составил:  f1 = 98.16%\n"
     ]
    }
   ],
   "source": [
    "val_preds, val_labels = test(model, validation_dataloader, name_dtlder='VAl')"
   ]
  },
  {
   "cell_type": "code",
   "execution_count": null,
   "metadata": {
    "colab": {},
    "colab_type": "code",
    "id": "lDj8unWTQ5-5"
   },
   "outputs": [],
   "source": [
    " val_labels = np.array(val_labels)\n",
    " val_preds = np.array(val_preds)"
   ]
  },
  {
   "cell_type": "code",
   "execution_count": null,
   "metadata": {
    "colab": {
     "base_uri": "https://localhost:8080/",
     "height": 34
    },
    "colab_type": "code",
    "id": "McsT1Dp9Q9EM",
    "outputId": "444ca512-6359-44e5-8171-580033643739"
   },
   "outputs": [
    {
     "name": "stdout",
     "output_type": "stream",
     "text": [
      "Неправильных предсказаний: 640/34791\n"
     ]
    }
   ],
   "source": [
    "print('Неправильных предсказаний: {0}/{1}'.format(\n",
    "    sum(val_labels != val_preds),\n",
    "    len(val_labels)\n",
    "))"
   ]
  },
  {
   "cell_type": "code",
   "execution_count": null,
   "metadata": {
    "colab": {},
    "colab_type": "code",
    "id": "jHqYxr9Oylqr"
   },
   "outputs": [],
   "source": [
    "# model_save_name = 'BERT-1epoch_new.ckpt'\n",
    "model_save_name = 'BERT-1epoch_100.ckpt'\n",
    "path = f'/content/gdrive/My Drive/Отбор на работу/Платформа НТИ/solution{model_save_name}'"
   ]
  },
  {
   "cell_type": "code",
   "execution_count": null,
   "metadata": {
    "colab": {},
    "colab_type": "code",
    "id": "MLnHzIRjclvX"
   },
   "outputs": [],
   "source": [
    "torch.save(model.state_dict(), path)\n",
    "# model.load_state_dict(torch.load(path))"
   ]
  },
  {
   "cell_type": "code",
   "execution_count": null,
   "metadata": {
    "colab": {},
    "colab_type": "code",
    "id": "vw7qo8TNTa2Q"
   },
   "outputs": [],
   "source": [
    "del fasttext_model"
   ]
  },
  {
   "cell_type": "code",
   "execution_count": null,
   "metadata": {
    "colab": {},
    "colab_type": "code",
    "id": "pxf9gPaDcC8K"
   },
   "outputs": [],
   "source": [
    "del X_train_tfidf,X_val_tfidf,X_test_tfidf, X_train_cv,X_val_cv,X_test_cv\n",
    "del x_train_old, x_val_old, y_train_old, y_val_old, x_test_old, y_test_old\n",
    "del tfidf_model, cv_model, tfidf_model_old, cv_model_old"
   ]
  },
  {
   "cell_type": "markdown",
   "metadata": {
    "colab_type": "text",
    "id": "mkyubuJSOzg3"
   },
   "source": [
    "# Оценка качества на отложенной выборке"
   ]
  },
  {
   "cell_type": "code",
   "execution_count": null,
   "metadata": {
    "colab": {},
    "colab_type": "code",
    "id": "mAN0LZBOOPVh"
   },
   "outputs": [],
   "source": [
    "input_ids = [tokenizer.convert_tokens_to_ids(x) for x in tokenized_texts_test]\n",
    "\n",
    "input_ids = pad_sequences(\n",
    "    input_ids,\n",
    "    maxlen=100,\n",
    "    dtype=\"long\",\n",
    "    truncating=\"post\",\n",
    "    padding=\"post\"\n",
    ")"
   ]
  },
  {
   "cell_type": "code",
   "execution_count": null,
   "metadata": {
    "colab": {},
    "colab_type": "code",
    "id": "3MVdc7WJm_mW"
   },
   "outputs": [],
   "source": [
    "attention_masks = [[float(i>0) for i in seq] for seq in input_ids]\n",
    "\n",
    "test_inputs = torch.tensor(input_ids)\n",
    "test_masks = torch.tensor(attention_masks)\n",
    "test_labels = torch.tensor(test_y)\n",
    "\n",
    "test_data = TensorDataset(\n",
    "    test_inputs,\n",
    "    test_masks,\n",
    "    test_labels\n",
    ")\n",
    "\n",
    "test_dataloader = DataLoader(\n",
    "    test_data, \n",
    "    sampler=SequentialSampler(test_data),\n",
    "    batch_size=32\n",
    ")"
   ]
  },
  {
   "cell_type": "code",
   "execution_count": null,
   "metadata": {
    "colab": {
     "base_uri": "https://localhost:8080/",
     "height": 51
    },
    "colab_type": "code",
    "id": "2TlnudW7Nf0_",
    "outputId": "c50fa720-1d40-446a-d8a0-dc0f40c06a20"
   },
   "outputs": [
    {
     "name": "stdout",
     "output_type": "stream",
     "text": [
      "1359\n"
     ]
    },
    {
     "data": {
      "text/plain": [
       "torch.Size([43488, 100])"
      ]
     },
     "execution_count": 114,
     "metadata": {
      "tags": []
     },
     "output_type": "execute_result"
    }
   ],
   "source": [
    "print(len(test_dataloader))\n",
    "test_inputs.shape"
   ]
  },
  {
   "cell_type": "code",
   "execution_count": null,
   "metadata": {
    "colab": {
     "base_uri": "https://localhost:8080/",
     "height": 83,
     "referenced_widgets": [
      "34a841b83b3d4c869afa06801a69ad66",
      "4d89339e0bbe450bacce0607ee78bca2",
      "d3068e33642346a698fd9772279f0a55",
      "0e9e402015c34cfa82a9239bc218bd7b",
      "2743dd1b5bd34476bc37b056b110c547",
      "aeb3c006e81b40a78e3d4bad323af09e",
      "c5b8692a2c64476c8f16ee5c17360345",
      "4374e52110e549ef958d9807de1ee996"
     ]
    },
    "colab_type": "code",
    "id": "qXS_v8CwSGfT",
    "outputId": "cd76d0df-a0b7-4b7f-e48a-4ce0b388c8fd"
   },
   "outputs": [
    {
     "data": {
      "application/vnd.jupyter.widget-view+json": {
       "model_id": "34a841b83b3d4c869afa06801a69ad66",
       "version_major": 2,
       "version_minor": 0
      },
      "text/plain": [
       "HBox(children=(FloatProgress(value=0.0, max=1359.0), HTML(value='')))"
      ]
     },
     "metadata": {
      "tags": []
     },
     "output_type": "display_data"
    },
    {
     "name": "stdout",
     "output_type": "stream",
     "text": [
      "\n",
      "Процент правильных предсказаний на Test выборке составил:  f1 = 98.04%\n"
     ]
    }
   ],
   "source": [
    "test_preds, test_labels = test(model, test_dataloader, name_dtlder='Test')"
   ]
  },
  {
   "cell_type": "code",
   "execution_count": null,
   "metadata": {
    "colab": {},
    "colab_type": "code",
    "id": "LYAhJ84ER8bS"
   },
   "outputs": [],
   "source": [
    " test_labels = np.array(test_labels)\n",
    " test_preds = np.array(test_preds)"
   ]
  },
  {
   "cell_type": "code",
   "execution_count": null,
   "metadata": {
    "colab": {
     "base_uri": "https://localhost:8080/",
     "height": 34
    },
    "colab_type": "code",
    "id": "w02RsKOER9C0",
    "outputId": "402c7d7d-e89d-4ce3-f549-3f8a64df7b3d"
   },
   "outputs": [
    {
     "name": "stdout",
     "output_type": "stream",
     "text": [
      "Неправильных предсказаний: 853/43488\n"
     ]
    }
   ],
   "source": [
    "print('Неправильных предсказаний: {0}/{1}'.format(\n",
    "    sum(test_labels != test_preds),\n",
    "    len(test_labels)\n",
    "))"
   ]
  },
  {
   "cell_type": "code",
   "execution_count": null,
   "metadata": {
    "colab": {
     "base_uri": "https://localhost:8080/",
     "height": 425
    },
    "colab_type": "code",
    "id": "tq2DSdzCR_r5",
    "outputId": "7802e555-2318-47b5-88f8-007bcda99cc5"
   },
   "outputs": [
    {
     "name": "stdout",
     "output_type": "stream",
     "text": [
      "порядковый номер 3 | [CLS] После таких выходных нужна неделя реабилитации. Алкоголь - зло, как ни крути. Отныне встречи со старыми друзьям исключают крепкие напитки) [SEP] | True = 1 | Pred 0\n",
      "----------------------------------------------------------------------\n",
      "порядковый номер 5 | [CLS] Google ... ажилд оролцоход ганцхан шалгуур бий - Ямар нэгэн ажил хариуцаж, ажлаа хугацаанд нь хариуцлагатай хийж дуусгадаг байх :) [SEP] | True = 1 | Pred 0\n",
      "----------------------------------------------------------------------\n",
      "порядковый номер 52 | [CLS] Спавшая 4 часа после пар планировала приехать домой и отдохнуть часик-2. Но такая погода!лучше пойду гули-гули на полчасика:) кто со мной? [SEP] | True = 1 | Pred 0\n",
      "----------------------------------------------------------------------\n",
      "порядковый номер 152 | [CLS] Ололо, на Первом канале рассказывают, как избирать \"старшего по подъезду\" и лишать его должности, если он не справляется) [SEP] | True = 1 | Pred 0\n",
      "----------------------------------------------------------------------\n",
      "порядковый номер 215 | [CLS] Блин не жизнь, а сказка. В шк полнедели не ходила, выспалась. Папа денег уйму дал, ходи покупай что хочешь. С друзьями все отлично. Раааай!) [SEP] | True = 1 | Pred 0\n",
      "----------------------------------------------------------------------\n",
      "порядковый номер 240 | [CLS] на улице просто божественная погода, а у меня двухчасовой перерыв , пойду поплаваю и снова пойду жемчуга собирать под Армстронга) [SEP] | True = 1 | Pred 0\n",
      "----------------------------------------------------------------------\n",
      "порядковый номер 297 | [CLS] @KnjazevAn @azbti  мы рождаемся без кругозора, а приобретаем и расширяем его благодаря разговорам, спорам, обсуждениям...но спорить не буду) [SEP] | True = 1 | Pred 0\n",
      "----------------------------------------------------------------------\n",
      "порядковый номер 417 | [CLS] Милый, любимый, желанный, нежный, ласковый, заботливый, мужественный... Все это один человек... Спасибо за то,что ты у меня есть!)* [SEP] | True = 1 | Pred 0\n",
      "----------------------------------------------------------------------\n",
      "порядковый номер 446 | [CLS] \"Простим угрюмство! Разве это\n",
      "Сокрытый двигатель его?\n",
      "Он весь - дитя добра и света,\n",
      "Он весь - свободы торжество!\"\n",
      "Любимый Александр Блок :) [SEP] | True = 1 | Pred 0\n",
      "----------------------------------------------------------------------\n",
      "порядковый номер 484 | [CLS] Вечером обстоятельно обсудив во сколько идем в универ и как важно попасть на лабы, въебли с Темой обе пары. Вот идиоты %) [SEP] | True = 1 | Pred 0\n",
      "----------------------------------------------------------------------\n"
     ]
    }
   ],
   "source": [
    "for num,key in enumerate(np.where(test_labels != test_preds)[0]): \n",
    "  if num == 10:\n",
    "      break\n",
    "  print(f'порядковый номер {key} | {test_sentences[key]} | True = {test_labels[key]} | Pred {test_preds[key]}')\n",
    "  print(10*'-------')"
   ]
  },
  {
   "cell_type": "markdown",
   "metadata": {
    "colab_type": "text",
    "id": "luMMGxpqS7aa"
   },
   "source": [
    "Выводы:\n",
    " - BERT сразу выдаеёт (после 1 эпохи fine-tuning) хорошее качество\n",
    "\n",
    "Это происходит, тк BERT токенизирует слова с помощью BPE и часть важной информации, которая помогает трансформеру хорошо повысить качество, не отбрасывается во время препроцессинга (как было в предыдущих моделях). Также эмбеддинги BERTа не только учитывают локальную близость, но и контекст в котором слово подразумевается."
   ]
  },
  {
   "cell_type": "markdown",
   "metadata": {
    "colab_type": "text",
    "id": "nov8esMsTBqg"
   },
   "source": [
    "**Теперь будем использовать максимальное кол-во токенов в \n",
    "эмбеддинге BERT равное максимальное длине слова в данных.**"
   ]
  },
  {
   "cell_type": "code",
   "execution_count": null,
   "metadata": {
    "colab": {},
    "colab_type": "code",
    "id": "o7_70hvpeaY5"
   },
   "outputs": [],
   "source": [
    "input_ids = [tokenizer.convert_tokens_to_ids(x) for x in tokenized_texts_train]\n",
    "input_ids = pad_sequences(\n",
    "    input_ids,\n",
    "    # maxlen=100,\n",
    "    dtype=\"long\",\n",
    "    truncating=\"post\",\n",
    "    padding=\"post\"\n",
    ")\n",
    "attention_masks = [[float(i>0) for i in seq] for seq in input_ids]"
   ]
  },
  {
   "cell_type": "code",
   "execution_count": null,
   "metadata": {
    "colab": {
     "base_uri": "https://localhost:8080/",
     "height": 34
    },
    "colab_type": "code",
    "id": "x0sc4gvpeaY_",
    "outputId": "56256239-7757-4877-da06-6603ef796cca"
   },
   "outputs": [
    {
     "data": {
      "text/plain": [
       "149"
      ]
     },
     "execution_count": 122,
     "metadata": {
      "tags": []
     },
     "output_type": "execute_result"
    }
   ],
   "source": [
    "max([len(text) for text in tokenized_texts_train])"
   ]
  },
  {
   "cell_type": "code",
   "execution_count": null,
   "metadata": {
    "colab": {
     "base_uri": "https://localhost:8080/",
     "height": 34
    },
    "colab_type": "code",
    "id": "pQvqhcaAeaZE",
    "outputId": "953bab84-c39b-4a58-8994-ae3a900b58ab"
   },
   "outputs": [
    {
     "data": {
      "text/plain": [
       "(173952, 149)"
      ]
     },
     "execution_count": 123,
     "metadata": {
      "tags": []
     },
     "output_type": "execute_result"
    }
   ],
   "source": [
    "input_ids.shape"
   ]
  },
  {
   "cell_type": "code",
   "execution_count": null,
   "metadata": {
    "colab": {},
    "colab_type": "code",
    "id": "PMU_Muv2eaZH"
   },
   "outputs": [],
   "source": [
    "train_inputs, validation_inputs, train_labels, validation_labels = train_test_split(\n",
    "    input_ids, train_y, \n",
    "    random_state=RANDOM_SEED,\n",
    "    test_size=0.2\n",
    ")\n",
    "\n",
    "train_masks, validation_masks, _, _ = train_test_split(\n",
    "    attention_masks,\n",
    "    input_ids,\n",
    "    random_state=RANDOM_SEED,\n",
    "    test_size=0.2\n",
    ")"
   ]
  },
  {
   "cell_type": "code",
   "execution_count": null,
   "metadata": {
    "colab": {},
    "colab_type": "code",
    "id": "Bm4CTca9eaZK"
   },
   "outputs": [],
   "source": [
    "train_inputs = torch.tensor(train_inputs)\n",
    "train_labels = torch.tensor(train_labels)\n",
    "train_masks = torch.tensor(train_masks)"
   ]
  },
  {
   "cell_type": "code",
   "execution_count": null,
   "metadata": {
    "colab": {},
    "colab_type": "code",
    "id": "Cu0JSA-_eaZP"
   },
   "outputs": [],
   "source": [
    "validation_inputs = torch.tensor(validation_inputs)\n",
    "validation_labels = torch.tensor(validation_labels)\n",
    "validation_masks = torch.tensor(validation_masks)"
   ]
  },
  {
   "cell_type": "code",
   "execution_count": null,
   "metadata": {
    "colab": {
     "base_uri": "https://localhost:8080/",
     "height": 34
    },
    "colab_type": "code",
    "id": "1Bzd--opeaZR",
    "outputId": "4d94ea4b-350c-46e8-c07c-c8409e613c6b"
   },
   "outputs": [
    {
     "data": {
      "text/plain": [
       "(torch.Size([139161]), torch.Size([34791]))"
      ]
     },
     "execution_count": 127,
     "metadata": {
      "tags": []
     },
     "output_type": "execute_result"
    }
   ],
   "source": [
    "train_labels.shape, validation_labels.shape"
   ]
  },
  {
   "cell_type": "code",
   "execution_count": null,
   "metadata": {
    "colab": {},
    "colab_type": "code",
    "id": "5LP6COb2eaZT"
   },
   "outputs": [],
   "source": [
    "train_data = TensorDataset(train_inputs, train_masks, train_labels)\n",
    "train_dataloader = DataLoader(\n",
    "    train_data,\n",
    "    sampler=RandomSampler(train_data),\n",
    "    batch_size= 16\n",
    ")"
   ]
  },
  {
   "cell_type": "code",
   "execution_count": null,
   "metadata": {
    "colab": {},
    "colab_type": "code",
    "id": "uwOLjSg4eaZW"
   },
   "outputs": [],
   "source": [
    "validation_data = TensorDataset(validation_inputs, validation_masks, validation_labels)\n",
    "validation_dataloader = DataLoader(\n",
    "    validation_data,\n",
    "    sampler=SequentialSampler(validation_data),\n",
    "    batch_size= 16\n",
    ")"
   ]
  },
  {
   "cell_type": "markdown",
   "metadata": {
    "colab_type": "text",
    "id": "otSIRNyweaZY"
   },
   "source": [
    "## Обучение модели"
   ]
  },
  {
   "cell_type": "markdown",
   "metadata": {
    "colab_type": "text",
    "id": "FSo-ZfVZeaZZ"
   },
   "source": [
    "Загружаем [BertForSequenceClassification](https://github.com/huggingface/pytorch-pretrained-BERT/blob/master/pytorch_pretrained_bert/modeling.py#L1129):"
   ]
  },
  {
   "cell_type": "code",
   "execution_count": null,
   "metadata": {
    "colab": {},
    "colab_type": "code",
    "id": "bo98i5XWeaZZ"
   },
   "outputs": [],
   "source": [
    "from pytorch_transformers import AdamW, BertForSequenceClassification"
   ]
  },
  {
   "cell_type": "code",
   "execution_count": null,
   "metadata": {
    "colab": {
     "base_uri": "https://localhost:8080/",
     "height": 1000
    },
    "colab_type": "code",
    "id": "vbloziKDeaZb",
    "outputId": "f001a736-947c-45e6-97a3-8aa134f737c4"
   },
   "outputs": [
    {
     "data": {
      "text/plain": [
       "BertForSequenceClassification(\n",
       "  (bert): BertModel(\n",
       "    (embeddings): BertEmbeddings(\n",
       "      (word_embeddings): Embedding(30522, 768, padding_idx=0)\n",
       "      (position_embeddings): Embedding(512, 768)\n",
       "      (token_type_embeddings): Embedding(2, 768)\n",
       "      (LayerNorm): LayerNorm((768,), eps=1e-12, elementwise_affine=True)\n",
       "      (dropout): Dropout(p=0.1, inplace=False)\n",
       "    )\n",
       "    (encoder): BertEncoder(\n",
       "      (layer): ModuleList(\n",
       "        (0): BertLayer(\n",
       "          (attention): BertAttention(\n",
       "            (self): BertSelfAttention(\n",
       "              (query): Linear(in_features=768, out_features=768, bias=True)\n",
       "              (key): Linear(in_features=768, out_features=768, bias=True)\n",
       "              (value): Linear(in_features=768, out_features=768, bias=True)\n",
       "              (dropout): Dropout(p=0.1, inplace=False)\n",
       "            )\n",
       "            (output): BertSelfOutput(\n",
       "              (dense): Linear(in_features=768, out_features=768, bias=True)\n",
       "              (LayerNorm): LayerNorm((768,), eps=1e-12, elementwise_affine=True)\n",
       "              (dropout): Dropout(p=0.1, inplace=False)\n",
       "            )\n",
       "          )\n",
       "          (intermediate): BertIntermediate(\n",
       "            (dense): Linear(in_features=768, out_features=3072, bias=True)\n",
       "          )\n",
       "          (output): BertOutput(\n",
       "            (dense): Linear(in_features=3072, out_features=768, bias=True)\n",
       "            (LayerNorm): LayerNorm((768,), eps=1e-12, elementwise_affine=True)\n",
       "            (dropout): Dropout(p=0.1, inplace=False)\n",
       "          )\n",
       "        )\n",
       "        (1): BertLayer(\n",
       "          (attention): BertAttention(\n",
       "            (self): BertSelfAttention(\n",
       "              (query): Linear(in_features=768, out_features=768, bias=True)\n",
       "              (key): Linear(in_features=768, out_features=768, bias=True)\n",
       "              (value): Linear(in_features=768, out_features=768, bias=True)\n",
       "              (dropout): Dropout(p=0.1, inplace=False)\n",
       "            )\n",
       "            (output): BertSelfOutput(\n",
       "              (dense): Linear(in_features=768, out_features=768, bias=True)\n",
       "              (LayerNorm): LayerNorm((768,), eps=1e-12, elementwise_affine=True)\n",
       "              (dropout): Dropout(p=0.1, inplace=False)\n",
       "            )\n",
       "          )\n",
       "          (intermediate): BertIntermediate(\n",
       "            (dense): Linear(in_features=768, out_features=3072, bias=True)\n",
       "          )\n",
       "          (output): BertOutput(\n",
       "            (dense): Linear(in_features=3072, out_features=768, bias=True)\n",
       "            (LayerNorm): LayerNorm((768,), eps=1e-12, elementwise_affine=True)\n",
       "            (dropout): Dropout(p=0.1, inplace=False)\n",
       "          )\n",
       "        )\n",
       "        (2): BertLayer(\n",
       "          (attention): BertAttention(\n",
       "            (self): BertSelfAttention(\n",
       "              (query): Linear(in_features=768, out_features=768, bias=True)\n",
       "              (key): Linear(in_features=768, out_features=768, bias=True)\n",
       "              (value): Linear(in_features=768, out_features=768, bias=True)\n",
       "              (dropout): Dropout(p=0.1, inplace=False)\n",
       "            )\n",
       "            (output): BertSelfOutput(\n",
       "              (dense): Linear(in_features=768, out_features=768, bias=True)\n",
       "              (LayerNorm): LayerNorm((768,), eps=1e-12, elementwise_affine=True)\n",
       "              (dropout): Dropout(p=0.1, inplace=False)\n",
       "            )\n",
       "          )\n",
       "          (intermediate): BertIntermediate(\n",
       "            (dense): Linear(in_features=768, out_features=3072, bias=True)\n",
       "          )\n",
       "          (output): BertOutput(\n",
       "            (dense): Linear(in_features=3072, out_features=768, bias=True)\n",
       "            (LayerNorm): LayerNorm((768,), eps=1e-12, elementwise_affine=True)\n",
       "            (dropout): Dropout(p=0.1, inplace=False)\n",
       "          )\n",
       "        )\n",
       "        (3): BertLayer(\n",
       "          (attention): BertAttention(\n",
       "            (self): BertSelfAttention(\n",
       "              (query): Linear(in_features=768, out_features=768, bias=True)\n",
       "              (key): Linear(in_features=768, out_features=768, bias=True)\n",
       "              (value): Linear(in_features=768, out_features=768, bias=True)\n",
       "              (dropout): Dropout(p=0.1, inplace=False)\n",
       "            )\n",
       "            (output): BertSelfOutput(\n",
       "              (dense): Linear(in_features=768, out_features=768, bias=True)\n",
       "              (LayerNorm): LayerNorm((768,), eps=1e-12, elementwise_affine=True)\n",
       "              (dropout): Dropout(p=0.1, inplace=False)\n",
       "            )\n",
       "          )\n",
       "          (intermediate): BertIntermediate(\n",
       "            (dense): Linear(in_features=768, out_features=3072, bias=True)\n",
       "          )\n",
       "          (output): BertOutput(\n",
       "            (dense): Linear(in_features=3072, out_features=768, bias=True)\n",
       "            (LayerNorm): LayerNorm((768,), eps=1e-12, elementwise_affine=True)\n",
       "            (dropout): Dropout(p=0.1, inplace=False)\n",
       "          )\n",
       "        )\n",
       "        (4): BertLayer(\n",
       "          (attention): BertAttention(\n",
       "            (self): BertSelfAttention(\n",
       "              (query): Linear(in_features=768, out_features=768, bias=True)\n",
       "              (key): Linear(in_features=768, out_features=768, bias=True)\n",
       "              (value): Linear(in_features=768, out_features=768, bias=True)\n",
       "              (dropout): Dropout(p=0.1, inplace=False)\n",
       "            )\n",
       "            (output): BertSelfOutput(\n",
       "              (dense): Linear(in_features=768, out_features=768, bias=True)\n",
       "              (LayerNorm): LayerNorm((768,), eps=1e-12, elementwise_affine=True)\n",
       "              (dropout): Dropout(p=0.1, inplace=False)\n",
       "            )\n",
       "          )\n",
       "          (intermediate): BertIntermediate(\n",
       "            (dense): Linear(in_features=768, out_features=3072, bias=True)\n",
       "          )\n",
       "          (output): BertOutput(\n",
       "            (dense): Linear(in_features=3072, out_features=768, bias=True)\n",
       "            (LayerNorm): LayerNorm((768,), eps=1e-12, elementwise_affine=True)\n",
       "            (dropout): Dropout(p=0.1, inplace=False)\n",
       "          )\n",
       "        )\n",
       "        (5): BertLayer(\n",
       "          (attention): BertAttention(\n",
       "            (self): BertSelfAttention(\n",
       "              (query): Linear(in_features=768, out_features=768, bias=True)\n",
       "              (key): Linear(in_features=768, out_features=768, bias=True)\n",
       "              (value): Linear(in_features=768, out_features=768, bias=True)\n",
       "              (dropout): Dropout(p=0.1, inplace=False)\n",
       "            )\n",
       "            (output): BertSelfOutput(\n",
       "              (dense): Linear(in_features=768, out_features=768, bias=True)\n",
       "              (LayerNorm): LayerNorm((768,), eps=1e-12, elementwise_affine=True)\n",
       "              (dropout): Dropout(p=0.1, inplace=False)\n",
       "            )\n",
       "          )\n",
       "          (intermediate): BertIntermediate(\n",
       "            (dense): Linear(in_features=768, out_features=3072, bias=True)\n",
       "          )\n",
       "          (output): BertOutput(\n",
       "            (dense): Linear(in_features=3072, out_features=768, bias=True)\n",
       "            (LayerNorm): LayerNorm((768,), eps=1e-12, elementwise_affine=True)\n",
       "            (dropout): Dropout(p=0.1, inplace=False)\n",
       "          )\n",
       "        )\n",
       "        (6): BertLayer(\n",
       "          (attention): BertAttention(\n",
       "            (self): BertSelfAttention(\n",
       "              (query): Linear(in_features=768, out_features=768, bias=True)\n",
       "              (key): Linear(in_features=768, out_features=768, bias=True)\n",
       "              (value): Linear(in_features=768, out_features=768, bias=True)\n",
       "              (dropout): Dropout(p=0.1, inplace=False)\n",
       "            )\n",
       "            (output): BertSelfOutput(\n",
       "              (dense): Linear(in_features=768, out_features=768, bias=True)\n",
       "              (LayerNorm): LayerNorm((768,), eps=1e-12, elementwise_affine=True)\n",
       "              (dropout): Dropout(p=0.1, inplace=False)\n",
       "            )\n",
       "          )\n",
       "          (intermediate): BertIntermediate(\n",
       "            (dense): Linear(in_features=768, out_features=3072, bias=True)\n",
       "          )\n",
       "          (output): BertOutput(\n",
       "            (dense): Linear(in_features=3072, out_features=768, bias=True)\n",
       "            (LayerNorm): LayerNorm((768,), eps=1e-12, elementwise_affine=True)\n",
       "            (dropout): Dropout(p=0.1, inplace=False)\n",
       "          )\n",
       "        )\n",
       "        (7): BertLayer(\n",
       "          (attention): BertAttention(\n",
       "            (self): BertSelfAttention(\n",
       "              (query): Linear(in_features=768, out_features=768, bias=True)\n",
       "              (key): Linear(in_features=768, out_features=768, bias=True)\n",
       "              (value): Linear(in_features=768, out_features=768, bias=True)\n",
       "              (dropout): Dropout(p=0.1, inplace=False)\n",
       "            )\n",
       "            (output): BertSelfOutput(\n",
       "              (dense): Linear(in_features=768, out_features=768, bias=True)\n",
       "              (LayerNorm): LayerNorm((768,), eps=1e-12, elementwise_affine=True)\n",
       "              (dropout): Dropout(p=0.1, inplace=False)\n",
       "            )\n",
       "          )\n",
       "          (intermediate): BertIntermediate(\n",
       "            (dense): Linear(in_features=768, out_features=3072, bias=True)\n",
       "          )\n",
       "          (output): BertOutput(\n",
       "            (dense): Linear(in_features=3072, out_features=768, bias=True)\n",
       "            (LayerNorm): LayerNorm((768,), eps=1e-12, elementwise_affine=True)\n",
       "            (dropout): Dropout(p=0.1, inplace=False)\n",
       "          )\n",
       "        )\n",
       "        (8): BertLayer(\n",
       "          (attention): BertAttention(\n",
       "            (self): BertSelfAttention(\n",
       "              (query): Linear(in_features=768, out_features=768, bias=True)\n",
       "              (key): Linear(in_features=768, out_features=768, bias=True)\n",
       "              (value): Linear(in_features=768, out_features=768, bias=True)\n",
       "              (dropout): Dropout(p=0.1, inplace=False)\n",
       "            )\n",
       "            (output): BertSelfOutput(\n",
       "              (dense): Linear(in_features=768, out_features=768, bias=True)\n",
       "              (LayerNorm): LayerNorm((768,), eps=1e-12, elementwise_affine=True)\n",
       "              (dropout): Dropout(p=0.1, inplace=False)\n",
       "            )\n",
       "          )\n",
       "          (intermediate): BertIntermediate(\n",
       "            (dense): Linear(in_features=768, out_features=3072, bias=True)\n",
       "          )\n",
       "          (output): BertOutput(\n",
       "            (dense): Linear(in_features=3072, out_features=768, bias=True)\n",
       "            (LayerNorm): LayerNorm((768,), eps=1e-12, elementwise_affine=True)\n",
       "            (dropout): Dropout(p=0.1, inplace=False)\n",
       "          )\n",
       "        )\n",
       "        (9): BertLayer(\n",
       "          (attention): BertAttention(\n",
       "            (self): BertSelfAttention(\n",
       "              (query): Linear(in_features=768, out_features=768, bias=True)\n",
       "              (key): Linear(in_features=768, out_features=768, bias=True)\n",
       "              (value): Linear(in_features=768, out_features=768, bias=True)\n",
       "              (dropout): Dropout(p=0.1, inplace=False)\n",
       "            )\n",
       "            (output): BertSelfOutput(\n",
       "              (dense): Linear(in_features=768, out_features=768, bias=True)\n",
       "              (LayerNorm): LayerNorm((768,), eps=1e-12, elementwise_affine=True)\n",
       "              (dropout): Dropout(p=0.1, inplace=False)\n",
       "            )\n",
       "          )\n",
       "          (intermediate): BertIntermediate(\n",
       "            (dense): Linear(in_features=768, out_features=3072, bias=True)\n",
       "          )\n",
       "          (output): BertOutput(\n",
       "            (dense): Linear(in_features=3072, out_features=768, bias=True)\n",
       "            (LayerNorm): LayerNorm((768,), eps=1e-12, elementwise_affine=True)\n",
       "            (dropout): Dropout(p=0.1, inplace=False)\n",
       "          )\n",
       "        )\n",
       "        (10): BertLayer(\n",
       "          (attention): BertAttention(\n",
       "            (self): BertSelfAttention(\n",
       "              (query): Linear(in_features=768, out_features=768, bias=True)\n",
       "              (key): Linear(in_features=768, out_features=768, bias=True)\n",
       "              (value): Linear(in_features=768, out_features=768, bias=True)\n",
       "              (dropout): Dropout(p=0.1, inplace=False)\n",
       "            )\n",
       "            (output): BertSelfOutput(\n",
       "              (dense): Linear(in_features=768, out_features=768, bias=True)\n",
       "              (LayerNorm): LayerNorm((768,), eps=1e-12, elementwise_affine=True)\n",
       "              (dropout): Dropout(p=0.1, inplace=False)\n",
       "            )\n",
       "          )\n",
       "          (intermediate): BertIntermediate(\n",
       "            (dense): Linear(in_features=768, out_features=3072, bias=True)\n",
       "          )\n",
       "          (output): BertOutput(\n",
       "            (dense): Linear(in_features=3072, out_features=768, bias=True)\n",
       "            (LayerNorm): LayerNorm((768,), eps=1e-12, elementwise_affine=True)\n",
       "            (dropout): Dropout(p=0.1, inplace=False)\n",
       "          )\n",
       "        )\n",
       "        (11): BertLayer(\n",
       "          (attention): BertAttention(\n",
       "            (self): BertSelfAttention(\n",
       "              (query): Linear(in_features=768, out_features=768, bias=True)\n",
       "              (key): Linear(in_features=768, out_features=768, bias=True)\n",
       "              (value): Linear(in_features=768, out_features=768, bias=True)\n",
       "              (dropout): Dropout(p=0.1, inplace=False)\n",
       "            )\n",
       "            (output): BertSelfOutput(\n",
       "              (dense): Linear(in_features=768, out_features=768, bias=True)\n",
       "              (LayerNorm): LayerNorm((768,), eps=1e-12, elementwise_affine=True)\n",
       "              (dropout): Dropout(p=0.1, inplace=False)\n",
       "            )\n",
       "          )\n",
       "          (intermediate): BertIntermediate(\n",
       "            (dense): Linear(in_features=768, out_features=3072, bias=True)\n",
       "          )\n",
       "          (output): BertOutput(\n",
       "            (dense): Linear(in_features=3072, out_features=768, bias=True)\n",
       "            (LayerNorm): LayerNorm((768,), eps=1e-12, elementwise_affine=True)\n",
       "            (dropout): Dropout(p=0.1, inplace=False)\n",
       "          )\n",
       "        )\n",
       "      )\n",
       "    )\n",
       "    (pooler): BertPooler(\n",
       "      (dense): Linear(in_features=768, out_features=768, bias=True)\n",
       "      (activation): Tanh()\n",
       "    )\n",
       "  )\n",
       "  (dropout): Dropout(p=0.1, inplace=False)\n",
       "  (classifier): Linear(in_features=768, out_features=2, bias=True)\n",
       ")"
      ]
     },
     "execution_count": 132,
     "metadata": {
      "tags": []
     },
     "output_type": "execute_result"
    }
   ],
   "source": [
    "model = BertForSequenceClassification.from_pretrained(\"bert-base-uncased\", num_labels=2)\n",
    "model.cuda()"
   ]
  },
  {
   "cell_type": "code",
   "execution_count": null,
   "metadata": {
    "colab": {},
    "colab_type": "code",
    "id": "o0aAuLLJeaZe"
   },
   "outputs": [],
   "source": [
    "param_optimizer = list(model.named_parameters())\n",
    "no_decay = ['bias', 'gamma', 'beta']\n",
    "optimizer_grouped_parameters = [\n",
    "    {'params': [p for n, p in param_optimizer if not any(nd in n for nd in no_decay)],\n",
    "     'weight_decay_rate': 0.01},\n",
    "    {'params': [p for n, p in param_optimizer if any(nd in n for nd in no_decay)],\n",
    "     'weight_decay_rate': 0.0}\n",
    "]\n",
    "\n",
    "optimizer = AdamW(optimizer_grouped_parameters, lr=2e-5)\n",
    "\n",
    "max_grad_norm_clipping = 1"
   ]
  },
  {
   "cell_type": "code",
   "execution_count": null,
   "metadata": {
    "colab": {
     "base_uri": "https://localhost:8080/",
     "height": 34
    },
    "colab_type": "code",
    "id": "-vItkg4neaZg",
    "outputId": "1ce05213-9e00-45ea-8070-297a6d9d5d55"
   },
   "outputs": [
    {
     "data": {
      "text/plain": [
       "8698"
      ]
     },
     "execution_count": 134,
     "metadata": {
      "tags": []
     },
     "output_type": "execute_result"
    }
   ],
   "source": [
    "len(train_dataloader)"
   ]
  },
  {
   "cell_type": "code",
   "execution_count": null,
   "metadata": {
    "colab": {
     "base_uri": "https://localhost:8080/",
     "height": 421
    },
    "colab_type": "code",
    "id": "qcv2fR-IeUpW",
    "outputId": "da24a559-1c2d-41fa-91f5-bcbebf968ce0"
   },
   "outputs": [
    {
     "data": {
      "image/png": "[encoded data removed]",
      "text/plain": [
       "<Figure size 864x432 with 1 Axes>"
      ]
     },
     "metadata": {
      "needs_background": "light",
      "tags": []
     },
     "output_type": "display_data"
    },
    {
     "name": "stdout",
     "output_type": "stream",
     "text": [
      "Loss на обучающей выборке: 0.00567\n"
     ]
    }
   ],
   "source": [
    "train(model, train_dataloader, optimizer, 1)"
   ]
  },
  {
   "cell_type": "code",
   "execution_count": null,
   "metadata": {
    "colab": {
     "base_uri": "https://localhost:8080/",
     "height": 83,
     "referenced_widgets": [
      "79ebdca70edd4da3b1389042ad657ffe",
      "e0746eb1e91a450d8495a226ecf3d9a5",
      "45f9c378db154ae6a28f92c11ab3a7a0",
      "2041c2e58bab40fc8eedc55176f18c9d",
      "aa576a8c166948fdbfa4cffe29324856",
      "9a87107018ef47449e3bdb0e3e3cae5b",
      "1fa41d887b6d4106ae8ab83721170fa9",
      "45cb04e276af4bdda6c05f385a4fc91d"
     ]
    },
    "colab_type": "code",
    "id": "BD9N21SLeUpk",
    "outputId": "07c71c32-2256-4af1-f9ab-45c3c6098e61"
   },
   "outputs": [
    {
     "data": {
      "application/vnd.jupyter.widget-view+json": {
       "model_id": "79ebdca70edd4da3b1389042ad657ffe",
       "version_major": 2,
       "version_minor": 0
      },
      "text/plain": [
       "HBox(children=(FloatProgress(value=0.0, max=2175.0), HTML(value='')))"
      ]
     },
     "metadata": {
      "tags": []
     },
     "output_type": "display_data"
    },
    {
     "name": "stdout",
     "output_type": "stream",
     "text": [
      "\n",
      "Процент правильных предсказаний на VAl выборке составил:  f1 = 99.93%\n"
     ]
    }
   ],
   "source": [
    "val_preds, val_labels = test(model, validation_dataloader, name_dtlder='VAl')"
   ]
  },
  {
   "cell_type": "code",
   "execution_count": null,
   "metadata": {
    "colab": {},
    "colab_type": "code",
    "id": "OaIZazYaeUpo"
   },
   "outputs": [],
   "source": [
    "val_labels = np.array(val_labels)\n",
    "val_preds = np.array(val_preds)"
   ]
  },
  {
   "cell_type": "code",
   "execution_count": null,
   "metadata": {
    "colab": {
     "base_uri": "https://localhost:8080/",
     "height": 34
    },
    "colab_type": "code",
    "id": "8-BbSWlceUpr",
    "outputId": "59911eff-ef40-4f94-d06c-b4f1fe2a6112"
   },
   "outputs": [
    {
     "name": "stdout",
     "output_type": "stream",
     "text": [
      "Неправильных предсказаний: 25/34791\n"
     ]
    }
   ],
   "source": [
    "print('Неправильных предсказаний: {0}/{1}'.format(\n",
    "    sum(val_labels != val_preds),\n",
    "    len(val_labels)\n",
    "))"
   ]
  },
  {
   "cell_type": "code",
   "execution_count": null,
   "metadata": {
    "colab": {},
    "colab_type": "code",
    "id": "Lq4kiD09eUpt"
   },
   "outputs": [],
   "source": [
    "# model_save_name = 'BERT-1epoch_new.ckpt'\n",
    "model_save_name = 'BERT-1epoch_max.ckpt'\n",
    "path = f'/content/gdrive/My Drive/Отбор на работу/Платформа НТИ/solution{model_save_name}'"
   ]
  },
  {
   "cell_type": "code",
   "execution_count": null,
   "metadata": {
    "colab": {},
    "colab_type": "code",
    "id": "4o_fGiAheUpx"
   },
   "outputs": [],
   "source": [
    "torch.save(model.state_dict(), path)\n",
    "# model.load_state_dict(torch.load(path))"
   ]
  },
  {
   "cell_type": "markdown",
   "metadata": {
    "colab_type": "text",
    "id": "_pZ3kTizeUp2"
   },
   "source": [
    "# Оценка качества на отложенной выборке"
   ]
  },
  {
   "cell_type": "code",
   "execution_count": null,
   "metadata": {
    "colab": {},
    "colab_type": "code",
    "id": "43b_w4xBeUp3"
   },
   "outputs": [],
   "source": [
    "input_ids = [tokenizer.convert_tokens_to_ids(x) for x in tokenized_texts_test]\n",
    "\n",
    "input_ids = pad_sequences(\n",
    "    input_ids,\n",
    "    # maxlen=100,\n",
    "    dtype=\"long\",\n",
    "    truncating=\"post\",\n",
    "    padding=\"post\"\n",
    ")"
   ]
  },
  {
   "cell_type": "code",
   "execution_count": null,
   "metadata": {
    "colab": {},
    "colab_type": "code",
    "id": "Ti_1reMHeUp5"
   },
   "outputs": [],
   "source": [
    "attention_masks = [[float(i>0) for i in seq] for seq in input_ids]\n",
    "\n",
    "test_inputs = torch.tensor(input_ids)\n",
    "test_masks = torch.tensor(attention_masks)\n",
    "test_labels = torch.tensor(test_y)\n",
    "\n",
    "test_data = TensorDataset(\n",
    "    test_inputs,\n",
    "    test_masks,\n",
    "    test_labels\n",
    ")\n",
    "\n",
    "test_dataloader = DataLoader(\n",
    "    test_data, \n",
    "    sampler=SequentialSampler(test_data),\n",
    "    batch_size=16\n",
    ")"
   ]
  },
  {
   "cell_type": "code",
   "execution_count": null,
   "metadata": {
    "colab": {
     "base_uri": "https://localhost:8080/",
     "height": 51
    },
    "colab_type": "code",
    "id": "HVGVmXNeeUp6",
    "outputId": "966f17ae-183c-4b42-9d26-c71dcff027a1"
   },
   "outputs": [
    {
     "name": "stdout",
     "output_type": "stream",
     "text": [
      "2718\n"
     ]
    },
    {
     "data": {
      "text/plain": [
       "torch.Size([43488, 134])"
      ]
     },
     "execution_count": 143,
     "metadata": {
      "tags": []
     },
     "output_type": "execute_result"
    }
   ],
   "source": [
    "print(len(test_dataloader))\n",
    "test_inputs.shape"
   ]
  },
  {
   "cell_type": "code",
   "execution_count": null,
   "metadata": {
    "colab": {
     "base_uri": "https://localhost:8080/",
     "height": 83,
     "referenced_widgets": [
      "40c5fe95f08647959a69e6cf51f1d666",
      "8496803c12d343faa0b7d3d94f3e71fc",
      "60c9ec3900324d0ea30504ec54670611",
      "6c3d5e157f374d56ac8eca6acf4c48ab",
      "cb4ee20958f04f49baa193c52e4dd73d",
      "6064b0b35b274112bb473cff29b05492",
      "f7028c1a55fe47138c9db2c365c54e62",
      "99ab5d942fc849c7ae6b37b8d12961b8"
     ]
    },
    "colab_type": "code",
    "id": "pAL0SeeseUp9",
    "outputId": "e6efa886-e658-492c-e69a-7b58fbebc754"
   },
   "outputs": [
    {
     "data": {
      "application/vnd.jupyter.widget-view+json": {
       "model_id": "40c5fe95f08647959a69e6cf51f1d666",
       "version_major": 2,
       "version_minor": 0
      },
      "text/plain": [
       "HBox(children=(FloatProgress(value=0.0, max=2718.0), HTML(value='')))"
      ]
     },
     "metadata": {
      "tags": []
     },
     "output_type": "display_data"
    },
    {
     "name": "stdout",
     "output_type": "stream",
     "text": [
      "\n",
      "Процент правильных предсказаний на Test выборке составил:  f1 = 99.95%\n"
     ]
    }
   ],
   "source": [
    "test_preds, test_labels = test(model, test_dataloader, name_dtlder='Test')"
   ]
  },
  {
   "cell_type": "code",
   "execution_count": null,
   "metadata": {
    "colab": {},
    "colab_type": "code",
    "id": "EvZWkgCveUp-"
   },
   "outputs": [],
   "source": [
    "test_labels = np.array(test_labels)\n",
    "test_preds = np.array(test_preds)"
   ]
  },
  {
   "cell_type": "code",
   "execution_count": null,
   "metadata": {
    "colab": {
     "base_uri": "https://localhost:8080/",
     "height": 34
    },
    "colab_type": "code",
    "id": "6dU34itheUqA",
    "outputId": "75e03436-9a7c-48bd-9959-7b1c08c900b5"
   },
   "outputs": [
    {
     "name": "stdout",
     "output_type": "stream",
     "text": [
      "Неправильных предсказаний: 20/43488\n"
     ]
    }
   ],
   "source": [
    "print('Неправильных предсказаний: {0}/{1}'.format(\n",
    "    sum(test_labels != test_preds),\n",
    "    len(test_labels)\n",
    "))"
   ]
  },
  {
   "cell_type": "code",
   "execution_count": null,
   "metadata": {
    "colab": {
     "base_uri": "https://localhost:8080/",
     "height": 935
    },
    "colab_type": "code",
    "id": "76SnsqgUeUqC",
    "outputId": "51b9d2a1-7338-4c96-bcf9-bd8b41759eee"
   },
   "outputs": [
    {
     "name": "stdout",
     "output_type": "stream",
     "text": [
      "порядковый номер 1395 | [CLS] RT @Horanso_on: @Stylinso_on именно для тибя #ПредновогодниеОбнимашки бро дай пятюню ^_° [SEP] | True = 0 | Pred 1\n",
      "----------------------------------------------------------------------\n",
      "порядковый номер 6940 | [CLS] RT @cokosapopuli: кстати,   , я ж обещал тогда рассказать про утекающую память в fcgi. так вот Object::Destroyer прекрасно расправляется со [SEP] | True = 1 | Pred 0\n",
      "----------------------------------------------------------------------\n",
      "порядковый номер 10504 | [CLS] RT @_Ko_oT_: Как же мне сегодняшний день понравился *000* [SEP] | True = 0 | Pred 1\n",
      "----------------------------------------------------------------------\n",
      "порядковый номер 11556 | [CLS] @Mo_OnMery мне немного Аято нравится и Раито ^^ [SEP] | True = 0 | Pred 1\n",
      "----------------------------------------------------------------------\n",
      "порядковый номер 15094 | [CLS] RT @sho_oni: А я так смотрю, Мыле нравится моя подборочка ^^ [SEP] | True = 0 | Pred 1\n",
      "----------------------------------------------------------------------\n",
      "порядковый номер 15291 | [CLS] @Bianchicko @I_Know88 о_О воу! всю жисть считала, что ретвиты с моей страницы - абсолютно бесполезная штука. смотри, как хочешь, лизонька!^^ [SEP] | True = 0 | Pred 1\n",
      "----------------------------------------------------------------------\n",
      "порядковый номер 15916 | [CLS] RT @plo_otnik: леньленьленьленьленьленьленьленьленьленьеленьленьленьленьленьленьленьленьленьленьленьленьленьленьленьленьеленьленьленьленьле… [SEP] | True = 0 | Pred 1\n",
      "----------------------------------------------------------------------\n",
      "порядковый номер 16617 | [CLS] RT @myaw_shshsh: С наступающим Новым годиком тебя, милая @plo_otnik :3\n",
      "Надеюсь в этом году с тобой будет происходить только хорошее^^ http:… [SEP] | True = 0 | Pred 1\n",
      "----------------------------------------------------------------------\n",
      "порядковый номер 18446 | [CLS] Смотрю Лунтика:|| все блин такие наивные как группка в доску пьяных девок  :S [SEP] | True = 0 | Pred 1\n",
      "----------------------------------------------------------------------\n",
      "порядковый номер 25759 | [CLS] @mamO_Oru вангую для тебя с:\n",
      "-карие\n",
      "-черные\n",
      "-аниме\n",
      "-15-16\n",
      "ОБОЖАЮ АНИМЕ*_*\n",
      "*ПОТЕКЛИ СЛЮНИ*\n",
      "^^ [SEP] | True = 0 | Pred 1\n",
      "----------------------------------------------------------------------\n",
      "порядковый номер 27169 | [CLS] @ThammieM Поздравляю, мы раскусили тайный фетиш Мота =D Хм... Я сейчас жестоко ступлю, но всё же... А Леонардо он хто по национальности? о_О [SEP] | True = 0 | Pred 1\n",
      "----------------------------------------------------------------------\n",
      "порядковый номер 27676 | [CLS] RT @taylothmom: Я уже везде всем рассказал лол \n",
      "Спасибо, @AlekseevaO_o за такой подарочек:з \n",
      "Люблю*** http://t.co/kDZkfiXFWH [SEP] | True = 0 | Pred 1\n",
      "----------------------------------------------------------------------\n",
      "порядковый номер 28084 | [CLS] Епааать...ахах...@Mariko_Olesya сделала мой день! Лучшие пожелания на свадьбу! Люблю тебя* [SEP] | True = 0 | Pred 1\n",
      "----------------------------------------------------------------------\n",
      "порядковый номер 29328 | [CLS] RT @h_attack_xx: @sweet_564_boy @Slash_mittens @vivalya_ @UEsengalieva @_IraRomanova_ @spok_O_O благодарю ^__^ [SEP] | True = 0 | Pred 1\n",
      "----------------------------------------------------------------------\n",
      "порядковый номер 35708 | [CLS] ну что за *лядство? неделю по крупицам восстанавливал свой icq контакт лист, и тут http://t.co/skyQgjqfZr лягла :-/ [SEP] | True = 0 | Pred 1\n",
      "----------------------------------------------------------------------\n",
      "порядковый номер 35966 | [CLS] RT @angelllCasss: @BrianMolko_off магии в новый год для няшки ^-^ [SEP] | True = 0 | Pred 1\n",
      "----------------------------------------------------------------------\n",
      "порядковый номер 36732 | [CLS] @Rina_Rainier O_O  что это там за фотки , и я такие хочу ;D [SEP] | True = 0 | Pred 1\n",
      "----------------------------------------------------------------------\n",
      "порядковый номер 39772 | [CLS] RT @BlueOk5591: @Do_Or_Die_xxx хехе\n",
      "Тебе тоже удачно встретить ^.^ [SEP] | True = 0 | Pred 1\n",
      "----------------------------------------------------------------------\n",
      "порядковый номер 40299 | [CLS] RT @Yulia_iksi: Вангую o_O \n",
      "1.Цвет трусов.\n",
      "2.Будующая профессия :^^\n",
      "#RU_FF #FF_RU [SEP] | True = 0 | Pred 1\n",
      "----------------------------------------------------------------------\n",
      "порядковый номер 41979 | [CLS] RT @Yoshkaskatgen32: :-D RT @ledi28099: У Вас понизилась работоспособность? Вам помогут таблетки \"Пропиздон\"! Спрашивайте у начальства [SEP] | True = 1 | Pred 0\n",
      "----------------------------------------------------------------------\n"
     ]
    }
   ],
   "source": [
    "for num,key in enumerate(np.where(test_labels != test_preds)[0]): \n",
    "    if num == 30:\n",
    "        break\n",
    "    print(f'порядковый номер {key} | {test_sentences[key]} | True = {test_labels[key]} | Pred {test_preds[key]}')\n",
    "    print(10*'-------')"
   ]
  },
  {
   "cell_type": "markdown",
   "metadata": {
    "colab_type": "text",
    "id": "iR_szc-Nx52F"
   },
   "source": [
    "В итоге, наилучшем образом работает BERT с Fine-tuning. <br>\n",
    "**Train: 99.99%| VAl: 99.93% | test: 99.95%**\n",
    "\n",
    "Увеличение максимальной длины всей последовательности позволило модели оценивать весь текст твита и делать предсказание наилучшим образом. Однако каким образом назначить максимальную длину зависит от располагаемой GPU и времени ожидания."
   ]
  },
  {
   "cell_type": "code",
   "execution_count": null,
   "metadata": {},
   "outputs": [],
   "source": []
  }
 ],
 "metadata": {
  "accelerator": "GPU",
  "colab": {
   "collapsed_sections": [],
   "name": "Тестовое задание DS (классификация).ipynb",
   "provenance": []
  },
  "kernelspec": {
   "display_name": "Python 3",
   "language": "python",
   "name": "python3"
  },
  "language_info": {
   "codemirror_mode": {
    "name": "ipython",
    "version": 3
   },
   "file_extension": ".py",
   "mimetype": "text/x-python",
   "name": "python",
   "nbconvert_exporter": "python",
   "pygments_lexer": "ipython3",
   "version": "3.7.4"
  },
  "widgets": {
   "application/vnd.jupyter.widget-state+json": {
    "00b1467581da4ecd8eccab2bfe694ca4": {
     "model_module": "@jupyter-widgets/controls",
     "model_name": "HTMLModel",
     "state": {
      "_dom_classes": [],
      "_model_module": "@jupyter-widgets/controls",
      "_model_module_version": "1.5.0",
      "_model_name": "HTMLModel",
      "_view_count": null,
      "_view_module": "@jupyter-widgets/controls",
      "_view_module_version": "1.5.0",
      "_view_name": "HTMLView",
      "description": "",
      "description_tooltip": null,
      "layout": "IPY_MODEL_4071966e3cdb4f789b866a1dabb6f0a9",
      "placeholder": "​",
      "style": "IPY_MODEL_9df332512aa542b48f48783c3392f221",
      "value": " 217440/217440 [07:53&lt;00:00, 459.59it/s]"
     }
    },
    "0e9e402015c34cfa82a9239bc218bd7b": {
     "model_module": "@jupyter-widgets/controls",
     "model_name": "HTMLModel",
     "state": {
      "_dom_classes": [],
      "_model_module": "@jupyter-widgets/controls",
      "_model_module_version": "1.5.0",
      "_model_name": "HTMLModel",
      "_view_count": null,
      "_view_module": "@jupyter-widgets/controls",
      "_view_module_version": "1.5.0",
      "_view_name": "HTMLView",
      "description": "",
      "description_tooltip": null,
      "layout": "IPY_MODEL_4374e52110e549ef958d9807de1ee996",
      "placeholder": "​",
      "style": "IPY_MODEL_c5b8692a2c64476c8f16ee5c17360345",
      "value": " 1359/1359 [08:00&lt;00:00,  2.83it/s]"
     }
    },
    "12ec2171a1844f76bfdf02c0df0e92c2": {
     "model_module": "@jupyter-widgets/controls",
     "model_name": "HBoxModel",
     "state": {
      "_dom_classes": [],
      "_model_module": "@jupyter-widgets/controls",
      "_model_module_version": "1.5.0",
      "_model_name": "HBoxModel",
      "_view_count": null,
      "_view_module": "@jupyter-widgets/controls",
      "_view_module_version": "1.5.0",
      "_view_name": "HBoxView",
      "box_style": "",
      "children": [
       "IPY_MODEL_e4e080797973409b8b053e6456f31707",
       "IPY_MODEL_00b1467581da4ecd8eccab2bfe694ca4"
      ],
      "layout": "IPY_MODEL_94c9120798314ce0bf949d0490a96047"
     }
    },
    "1b5102caac994643b82175ffc2fb36d3": {
     "model_module": "@jupyter-widgets/base",
     "model_name": "LayoutModel",
     "state": {
      "_model_module": "@jupyter-widgets/base",
      "_model_module_version": "1.2.0",
      "_model_name": "LayoutModel",
      "_view_count": null,
      "_view_module": "@jupyter-widgets/base",
      "_view_module_version": "1.2.0",
      "_view_name": "LayoutView",
      "align_content": null,
      "align_items": null,
      "align_self": null,
      "border": null,
      "bottom": null,
      "display": null,
      "flex": null,
      "flex_flow": null,
      "grid_area": null,
      "grid_auto_columns": null,
      "grid_auto_flow": null,
      "grid_auto_rows": null,
      "grid_column": null,
      "grid_gap": null,
      "grid_row": null,
      "grid_template_areas": null,
      "grid_template_columns": null,
      "grid_template_rows": null,
      "height": null,
      "justify_content": null,
      "justify_items": null,
      "left": null,
      "margin": null,
      "max_height": null,
      "max_width": null,
      "min_height": null,
      "min_width": null,
      "object_fit": null,
      "object_position": null,
      "order": null,
      "overflow": null,
      "overflow_x": null,
      "overflow_y": null,
      "padding": null,
      "right": null,
      "top": null,
      "visibility": null,
      "width": null
     }
    },
    "1fa41d887b6d4106ae8ab83721170fa9": {
     "model_module": "@jupyter-widgets/controls",
     "model_name": "DescriptionStyleModel",
     "state": {
      "_model_module": "@jupyter-widgets/controls",
      "_model_module_version": "1.5.0",
      "_model_name": "DescriptionStyleModel",
      "_view_count": null,
      "_view_module": "@jupyter-widgets/base",
      "_view_module_version": "1.2.0",
      "_view_name": "StyleView",
      "description_width": ""
     }
    },
    "2041c2e58bab40fc8eedc55176f18c9d": {
     "model_module": "@jupyter-widgets/controls",
     "model_name": "HTMLModel",
     "state": {
      "_dom_classes": [],
      "_model_module": "@jupyter-widgets/controls",
      "_model_module_version": "1.5.0",
      "_model_name": "HTMLModel",
      "_view_count": null,
      "_view_module": "@jupyter-widgets/controls",
      "_view_module_version": "1.5.0",
      "_view_name": "HTMLView",
      "description": "",
      "description_tooltip": null,
      "layout": "IPY_MODEL_45cb04e276af4bdda6c05f385a4fc91d",
      "placeholder": "​",
      "style": "IPY_MODEL_1fa41d887b6d4106ae8ab83721170fa9",
      "value": " 2175/2175 [08:58&lt;00:00,  4.04it/s]"
     }
    },
    "2743dd1b5bd34476bc37b056b110c547": {
     "model_module": "@jupyter-widgets/controls",
     "model_name": "ProgressStyleModel",
     "state": {
      "_model_module": "@jupyter-widgets/controls",
      "_model_module_version": "1.5.0",
      "_model_name": "ProgressStyleModel",
      "_view_count": null,
      "_view_module": "@jupyter-widgets/base",
      "_view_module_version": "1.2.0",
      "_view_name": "StyleView",
      "bar_color": null,
      "description_width": "initial"
     }
    },
    "2e8a29c92a3f48748d2f834b15db7436": {
     "model_module": "@jupyter-widgets/controls",
     "model_name": "HTMLModel",
     "state": {
      "_dom_classes": [],
      "_model_module": "@jupyter-widgets/controls",
      "_model_module_version": "1.5.0",
      "_model_name": "HTMLModel",
      "_view_count": null,
      "_view_module": "@jupyter-widgets/controls",
      "_view_module_version": "1.5.0",
      "_view_name": "HTMLView",
      "description": "",
      "description_tooltip": null,
      "layout": "IPY_MODEL_df3d074378db49858c5d0bc7a5d635a9",
      "placeholder": "​",
      "style": "IPY_MODEL_6c25fa929c6c485eaf2e73711ce7bb27",
      "value": " 1088/1088 [02:07&lt;00:00,  8.54it/s]"
     }
    },
    "34a841b83b3d4c869afa06801a69ad66": {
     "model_module": "@jupyter-widgets/controls",
     "model_name": "HBoxModel",
     "state": {
      "_dom_classes": [],
      "_model_module": "@jupyter-widgets/controls",
      "_model_module_version": "1.5.0",
      "_model_name": "HBoxModel",
      "_view_count": null,
      "_view_module": "@jupyter-widgets/controls",
      "_view_module_version": "1.5.0",
      "_view_name": "HBoxView",
      "box_style": "",
      "children": [
       "IPY_MODEL_d3068e33642346a698fd9772279f0a55",
       "IPY_MODEL_0e9e402015c34cfa82a9239bc218bd7b"
      ],
      "layout": "IPY_MODEL_4d89339e0bbe450bacce0607ee78bca2"
     }
    },
    "4071966e3cdb4f789b866a1dabb6f0a9": {
     "model_module": "@jupyter-widgets/base",
     "model_name": "LayoutModel",
     "state": {
      "_model_module": "@jupyter-widgets/base",
      "_model_module_version": "1.2.0",
      "_model_name": "LayoutModel",
      "_view_count": null,
      "_view_module": "@jupyter-widgets/base",
      "_view_module_version": "1.2.0",
      "_view_name": "LayoutView",
      "align_content": null,
      "align_items": null,
      "align_self": null,
      "border": null,
      "bottom": null,
      "display": null,
      "flex": null,
      "flex_flow": null,
      "grid_area": null,
      "grid_auto_columns": null,
      "grid_auto_flow": null,
      "grid_auto_rows": null,
      "grid_column": null,
      "grid_gap": null,
      "grid_row": null,
      "grid_template_areas": null,
      "grid_template_columns": null,
      "grid_template_rows": null,
      "height": null,
      "justify_content": null,
      "justify_items": null,
      "left": null,
      "margin": null,
      "max_height": null,
      "max_width": null,
      "min_height": null,
      "min_width": null,
      "object_fit": null,
      "object_position": null,
      "order": null,
      "overflow": null,
      "overflow_x": null,
      "overflow_y": null,
      "padding": null,
      "right": null,
      "top": null,
      "visibility": null,
      "width": null
     }
    },
    "40c5fe95f08647959a69e6cf51f1d666": {
     "model_module": "@jupyter-widgets/controls",
     "model_name": "HBoxModel",
     "state": {
      "_dom_classes": [],
      "_model_module": "@jupyter-widgets/controls",
      "_model_module_version": "1.5.0",
      "_model_name": "HBoxModel",
      "_view_count": null,
      "_view_module": "@jupyter-widgets/controls",
      "_view_module_version": "1.5.0",
      "_view_name": "HBoxView",
      "box_style": "",
      "children": [
       "IPY_MODEL_60c9ec3900324d0ea30504ec54670611",
       "IPY_MODEL_6c3d5e157f374d56ac8eca6acf4c48ab"
      ],
      "layout": "IPY_MODEL_8496803c12d343faa0b7d3d94f3e71fc"
     }
    },
    "4374e52110e549ef958d9807de1ee996": {
     "model_module": "@jupyter-widgets/base",
     "model_name": "LayoutModel",
     "state": {
      "_model_module": "@jupyter-widgets/base",
      "_model_module_version": "1.2.0",
      "_model_name": "LayoutModel",
      "_view_count": null,
      "_view_module": "@jupyter-widgets/base",
      "_view_module_version": "1.2.0",
      "_view_name": "LayoutView",
      "align_content": null,
      "align_items": null,
      "align_self": null,
      "border": null,
      "bottom": null,
      "display": null,
      "flex": null,
      "flex_flow": null,
      "grid_area": null,
      "grid_auto_columns": null,
      "grid_auto_flow": null,
      "grid_auto_rows": null,
      "grid_column": null,
      "grid_gap": null,
      "grid_row": null,
      "grid_template_areas": null,
      "grid_template_columns": null,
      "grid_template_rows": null,
      "height": null,
      "justify_content": null,
      "justify_items": null,
      "left": null,
      "margin": null,
      "max_height": null,
      "max_width": null,
      "min_height": null,
      "min_width": null,
      "object_fit": null,
      "object_position": null,
      "order": null,
      "overflow": null,
      "overflow_x": null,
      "overflow_y": null,
      "padding": null,
      "right": null,
      "top": null,
      "visibility": null,
      "width": null
     }
    },
    "45cb04e276af4bdda6c05f385a4fc91d": {
     "model_module": "@jupyter-widgets/base",
     "model_name": "LayoutModel",
     "state": {
      "_model_module": "@jupyter-widgets/base",
      "_model_module_version": "1.2.0",
      "_model_name": "LayoutModel",
      "_view_count": null,
      "_view_module": "@jupyter-widgets/base",
      "_view_module_version": "1.2.0",
      "_view_name": "LayoutView",
      "align_content": null,
      "align_items": null,
      "align_self": null,
      "border": null,
      "bottom": null,
      "display": null,
      "flex": null,
      "flex_flow": null,
      "grid_area": null,
      "grid_auto_columns": null,
      "grid_auto_flow": null,
      "grid_auto_rows": null,
      "grid_column": null,
      "grid_gap": null,
      "grid_row": null,
      "grid_template_areas": null,
      "grid_template_columns": null,
      "grid_template_rows": null,
      "height": null,
      "justify_content": null,
      "justify_items": null,
      "left": null,
      "margin": null,
      "max_height": null,
      "max_width": null,
      "min_height": null,
      "min_width": null,
      "object_fit": null,
      "object_position": null,
      "order": null,
      "overflow": null,
      "overflow_x": null,
      "overflow_y": null,
      "padding": null,
      "right": null,
      "top": null,
      "visibility": null,
      "width": null
     }
    },
    "45f9c378db154ae6a28f92c11ab3a7a0": {
     "model_module": "@jupyter-widgets/controls",
     "model_name": "FloatProgressModel",
     "state": {
      "_dom_classes": [],
      "_model_module": "@jupyter-widgets/controls",
      "_model_module_version": "1.5.0",
      "_model_name": "FloatProgressModel",
      "_view_count": null,
      "_view_module": "@jupyter-widgets/controls",
      "_view_module_version": "1.5.0",
      "_view_name": "ProgressView",
      "bar_style": "success",
      "description": "100%",
      "description_tooltip": null,
      "layout": "IPY_MODEL_9a87107018ef47449e3bdb0e3e3cae5b",
      "max": 2175,
      "min": 0,
      "orientation": "horizontal",
      "style": "IPY_MODEL_aa576a8c166948fdbfa4cffe29324856",
      "value": 2175
     }
    },
    "4d89339e0bbe450bacce0607ee78bca2": {
     "model_module": "@jupyter-widgets/base",
     "model_name": "LayoutModel",
     "state": {
      "_model_module": "@jupyter-widgets/base",
      "_model_module_version": "1.2.0",
      "_model_name": "LayoutModel",
      "_view_count": null,
      "_view_module": "@jupyter-widgets/base",
      "_view_module_version": "1.2.0",
      "_view_name": "LayoutView",
      "align_content": null,
      "align_items": null,
      "align_self": null,
      "border": null,
      "bottom": null,
      "display": null,
      "flex": null,
      "flex_flow": null,
      "grid_area": null,
      "grid_auto_columns": null,
      "grid_auto_flow": null,
      "grid_auto_rows": null,
      "grid_column": null,
      "grid_gap": null,
      "grid_row": null,
      "grid_template_areas": null,
      "grid_template_columns": null,
      "grid_template_rows": null,
      "height": null,
      "justify_content": null,
      "justify_items": null,
      "left": null,
      "margin": null,
      "max_height": null,
      "max_width": null,
      "min_height": null,
      "min_width": null,
      "object_fit": null,
      "object_position": null,
      "order": null,
      "overflow": null,
      "overflow_x": null,
      "overflow_y": null,
      "padding": null,
      "right": null,
      "top": null,
      "visibility": null,
      "width": null
     }
    },
    "5f7f914a5f1a40baa883184c222d805b": {
     "model_module": "@jupyter-widgets/controls",
     "model_name": "HBoxModel",
     "state": {
      "_dom_classes": [],
      "_model_module": "@jupyter-widgets/controls",
      "_model_module_version": "1.5.0",
      "_model_name": "HBoxModel",
      "_view_count": null,
      "_view_module": "@jupyter-widgets/controls",
      "_view_module_version": "1.5.0",
      "_view_name": "HBoxView",
      "box_style": "",
      "children": [
       "IPY_MODEL_de90527c5752434ead6d9132f284e5ce",
       "IPY_MODEL_2e8a29c92a3f48748d2f834b15db7436"
      ],
      "layout": "IPY_MODEL_c690ac17024d4798954db2d194c234b0"
     }
    },
    "6064b0b35b274112bb473cff29b05492": {
     "model_module": "@jupyter-widgets/base",
     "model_name": "LayoutModel",
     "state": {
      "_model_module": "@jupyter-widgets/base",
      "_model_module_version": "1.2.0",
      "_model_name": "LayoutModel",
      "_view_count": null,
      "_view_module": "@jupyter-widgets/base",
      "_view_module_version": "1.2.0",
      "_view_name": "LayoutView",
      "align_content": null,
      "align_items": null,
      "align_self": null,
      "border": null,
      "bottom": null,
      "display": null,
      "flex": null,
      "flex_flow": null,
      "grid_area": null,
      "grid_auto_columns": null,
      "grid_auto_flow": null,
      "grid_auto_rows": null,
      "grid_column": null,
      "grid_gap": null,
      "grid_row": null,
      "grid_template_areas": null,
      "grid_template_columns": null,
      "grid_template_rows": null,
      "height": null,
      "justify_content": null,
      "justify_items": null,
      "left": null,
      "margin": null,
      "max_height": null,
      "max_width": null,
      "min_height": null,
      "min_width": null,
      "object_fit": null,
      "object_position": null,
      "order": null,
      "overflow": null,
      "overflow_x": null,
      "overflow_y": null,
      "padding": null,
      "right": null,
      "top": null,
      "visibility": null,
      "width": null
     }
    },
    "60c9ec3900324d0ea30504ec54670611": {
     "model_module": "@jupyter-widgets/controls",
     "model_name": "FloatProgressModel",
     "state": {
      "_dom_classes": [],
      "_model_module": "@jupyter-widgets/controls",
      "_model_module_version": "1.5.0",
      "_model_name": "FloatProgressModel",
      "_view_count": null,
      "_view_module": "@jupyter-widgets/controls",
      "_view_module_version": "1.5.0",
      "_view_name": "ProgressView",
      "bar_style": "success",
      "description": "100%",
      "description_tooltip": null,
      "layout": "IPY_MODEL_6064b0b35b274112bb473cff29b05492",
      "max": 2718,
      "min": 0,
      "orientation": "horizontal",
      "style": "IPY_MODEL_cb4ee20958f04f49baa193c52e4dd73d",
      "value": 2718
     }
    },
    "6c25fa929c6c485eaf2e73711ce7bb27": {
     "model_module": "@jupyter-widgets/controls",
     "model_name": "DescriptionStyleModel",
     "state": {
      "_model_module": "@jupyter-widgets/controls",
      "_model_module_version": "1.5.0",
      "_model_name": "DescriptionStyleModel",
      "_view_count": null,
      "_view_module": "@jupyter-widgets/base",
      "_view_module_version": "1.2.0",
      "_view_name": "StyleView",
      "description_width": ""
     }
    },
    "6c3d5e157f374d56ac8eca6acf4c48ab": {
     "model_module": "@jupyter-widgets/controls",
     "model_name": "HTMLModel",
     "state": {
      "_dom_classes": [],
      "_model_module": "@jupyter-widgets/controls",
      "_model_module_version": "1.5.0",
      "_model_name": "HTMLModel",
      "_view_count": null,
      "_view_module": "@jupyter-widgets/controls",
      "_view_module_version": "1.5.0",
      "_view_name": "HTMLView",
      "description": "",
      "description_tooltip": null,
      "layout": "IPY_MODEL_99ab5d942fc849c7ae6b37b8d12961b8",
      "placeholder": "​",
      "style": "IPY_MODEL_f7028c1a55fe47138c9db2c365c54e62",
      "value": " 2718/2718 [35:41&lt;00:00,  1.27it/s]"
     }
    },
    "79ebdca70edd4da3b1389042ad657ffe": {
     "model_module": "@jupyter-widgets/controls",
     "model_name": "HBoxModel",
     "state": {
      "_dom_classes": [],
      "_model_module": "@jupyter-widgets/controls",
      "_model_module_version": "1.5.0",
      "_model_name": "HBoxModel",
      "_view_count": null,
      "_view_module": "@jupyter-widgets/controls",
      "_view_module_version": "1.5.0",
      "_view_name": "HBoxView",
      "box_style": "",
      "children": [
       "IPY_MODEL_45f9c378db154ae6a28f92c11ab3a7a0",
       "IPY_MODEL_2041c2e58bab40fc8eedc55176f18c9d"
      ],
      "layout": "IPY_MODEL_e0746eb1e91a450d8495a226ecf3d9a5"
     }
    },
    "8496803c12d343faa0b7d3d94f3e71fc": {
     "model_module": "@jupyter-widgets/base",
     "model_name": "LayoutModel",
     "state": {
      "_model_module": "@jupyter-widgets/base",
      "_model_module_version": "1.2.0",
      "_model_name": "LayoutModel",
      "_view_count": null,
      "_view_module": "@jupyter-widgets/base",
      "_view_module_version": "1.2.0",
      "_view_name": "LayoutView",
      "align_content": null,
      "align_items": null,
      "align_self": null,
      "border": null,
      "bottom": null,
      "display": null,
      "flex": null,
      "flex_flow": null,
      "grid_area": null,
      "grid_auto_columns": null,
      "grid_auto_flow": null,
      "grid_auto_rows": null,
      "grid_column": null,
      "grid_gap": null,
      "grid_row": null,
      "grid_template_areas": null,
      "grid_template_columns": null,
      "grid_template_rows": null,
      "height": null,
      "justify_content": null,
      "justify_items": null,
      "left": null,
      "margin": null,
      "max_height": null,
      "max_width": null,
      "min_height": null,
      "min_width": null,
      "object_fit": null,
      "object_position": null,
      "order": null,
      "overflow": null,
      "overflow_x": null,
      "overflow_y": null,
      "padding": null,
      "right": null,
      "top": null,
      "visibility": null,
      "width": null
     }
    },
    "8523266a09fc4740aa8ad241dfebf73f": {
     "model_module": "@jupyter-widgets/controls",
     "model_name": "ProgressStyleModel",
     "state": {
      "_model_module": "@jupyter-widgets/controls",
      "_model_module_version": "1.5.0",
      "_model_name": "ProgressStyleModel",
      "_view_count": null,
      "_view_module": "@jupyter-widgets/base",
      "_view_module_version": "1.2.0",
      "_view_name": "StyleView",
      "bar_color": null,
      "description_width": "initial"
     }
    },
    "8e6c5097c9bd45bb86bfa95d9daf28d0": {
     "model_module": "@jupyter-widgets/base",
     "model_name": "LayoutModel",
     "state": {
      "_model_module": "@jupyter-widgets/base",
      "_model_module_version": "1.2.0",
      "_model_name": "LayoutModel",
      "_view_count": null,
      "_view_module": "@jupyter-widgets/base",
      "_view_module_version": "1.2.0",
      "_view_name": "LayoutView",
      "align_content": null,
      "align_items": null,
      "align_self": null,
      "border": null,
      "bottom": null,
      "display": null,
      "flex": null,
      "flex_flow": null,
      "grid_area": null,
      "grid_auto_columns": null,
      "grid_auto_flow": null,
      "grid_auto_rows": null,
      "grid_column": null,
      "grid_gap": null,
      "grid_row": null,
      "grid_template_areas": null,
      "grid_template_columns": null,
      "grid_template_rows": null,
      "height": null,
      "justify_content": null,
      "justify_items": null,
      "left": null,
      "margin": null,
      "max_height": null,
      "max_width": null,
      "min_height": null,
      "min_width": null,
      "object_fit": null,
      "object_position": null,
      "order": null,
      "overflow": null,
      "overflow_x": null,
      "overflow_y": null,
      "padding": null,
      "right": null,
      "top": null,
      "visibility": null,
      "width": null
     }
    },
    "94c9120798314ce0bf949d0490a96047": {
     "model_module": "@jupyter-widgets/base",
     "model_name": "LayoutModel",
     "state": {
      "_model_module": "@jupyter-widgets/base",
      "_model_module_version": "1.2.0",
      "_model_name": "LayoutModel",
      "_view_count": null,
      "_view_module": "@jupyter-widgets/base",
      "_view_module_version": "1.2.0",
      "_view_name": "LayoutView",
      "align_content": null,
      "align_items": null,
      "align_self": null,
      "border": null,
      "bottom": null,
      "display": null,
      "flex": null,
      "flex_flow": null,
      "grid_area": null,
      "grid_auto_columns": null,
      "grid_auto_flow": null,
      "grid_auto_rows": null,
      "grid_column": null,
      "grid_gap": null,
      "grid_row": null,
      "grid_template_areas": null,
      "grid_template_columns": null,
      "grid_template_rows": null,
      "height": null,
      "justify_content": null,
      "justify_items": null,
      "left": null,
      "margin": null,
      "max_height": null,
      "max_width": null,
      "min_height": null,
      "min_width": null,
      "object_fit": null,
      "object_position": null,
      "order": null,
      "overflow": null,
      "overflow_x": null,
      "overflow_y": null,
      "padding": null,
      "right": null,
      "top": null,
      "visibility": null,
      "width": null
     }
    },
    "99ab5d942fc849c7ae6b37b8d12961b8": {
     "model_module": "@jupyter-widgets/base",
     "model_name": "LayoutModel",
     "state": {
      "_model_module": "@jupyter-widgets/base",
      "_model_module_version": "1.2.0",
      "_model_name": "LayoutModel",
      "_view_count": null,
      "_view_module": "@jupyter-widgets/base",
      "_view_module_version": "1.2.0",
      "_view_name": "LayoutView",
      "align_content": null,
      "align_items": null,
      "align_self": null,
      "border": null,
      "bottom": null,
      "display": null,
      "flex": null,
      "flex_flow": null,
      "grid_area": null,
      "grid_auto_columns": null,
      "grid_auto_flow": null,
      "grid_auto_rows": null,
      "grid_column": null,
      "grid_gap": null,
      "grid_row": null,
      "grid_template_areas": null,
      "grid_template_columns": null,
      "grid_template_rows": null,
      "height": null,
      "justify_content": null,
      "justify_items": null,
      "left": null,
      "margin": null,
      "max_height": null,
      "max_width": null,
      "min_height": null,
      "min_width": null,
      "object_fit": null,
      "object_position": null,
      "order": null,
      "overflow": null,
      "overflow_x": null,
      "overflow_y": null,
      "padding": null,
      "right": null,
      "top": null,
      "visibility": null,
      "width": null
     }
    },
    "9a87107018ef47449e3bdb0e3e3cae5b": {
     "model_module": "@jupyter-widgets/base",
     "model_name": "LayoutModel",
     "state": {
      "_model_module": "@jupyter-widgets/base",
      "_model_module_version": "1.2.0",
      "_model_name": "LayoutModel",
      "_view_count": null,
      "_view_module": "@jupyter-widgets/base",
      "_view_module_version": "1.2.0",
      "_view_name": "LayoutView",
      "align_content": null,
      "align_items": null,
      "align_self": null,
      "border": null,
      "bottom": null,
      "display": null,
      "flex": null,
      "flex_flow": null,
      "grid_area": null,
      "grid_auto_columns": null,
      "grid_auto_flow": null,
      "grid_auto_rows": null,
      "grid_column": null,
      "grid_gap": null,
      "grid_row": null,
      "grid_template_areas": null,
      "grid_template_columns": null,
      "grid_template_rows": null,
      "height": null,
      "justify_content": null,
      "justify_items": null,
      "left": null,
      "margin": null,
      "max_height": null,
      "max_width": null,
      "min_height": null,
      "min_width": null,
      "object_fit": null,
      "object_position": null,
      "order": null,
      "overflow": null,
      "overflow_x": null,
      "overflow_y": null,
      "padding": null,
      "right": null,
      "top": null,
      "visibility": null,
      "width": null
     }
    },
    "9df332512aa542b48f48783c3392f221": {
     "model_module": "@jupyter-widgets/controls",
     "model_name": "DescriptionStyleModel",
     "state": {
      "_model_module": "@jupyter-widgets/controls",
      "_model_module_version": "1.5.0",
      "_model_name": "DescriptionStyleModel",
      "_view_count": null,
      "_view_module": "@jupyter-widgets/base",
      "_view_module_version": "1.2.0",
      "_view_name": "StyleView",
      "description_width": ""
     }
    },
    "aa576a8c166948fdbfa4cffe29324856": {
     "model_module": "@jupyter-widgets/controls",
     "model_name": "ProgressStyleModel",
     "state": {
      "_model_module": "@jupyter-widgets/controls",
      "_model_module_version": "1.5.0",
      "_model_name": "ProgressStyleModel",
      "_view_count": null,
      "_view_module": "@jupyter-widgets/base",
      "_view_module_version": "1.2.0",
      "_view_name": "StyleView",
      "bar_color": null,
      "description_width": "initial"
     }
    },
    "aeb3c006e81b40a78e3d4bad323af09e": {
     "model_module": "@jupyter-widgets/base",
     "model_name": "LayoutModel",
     "state": {
      "_model_module": "@jupyter-widgets/base",
      "_model_module_version": "1.2.0",
      "_model_name": "LayoutModel",
      "_view_count": null,
      "_view_module": "@jupyter-widgets/base",
      "_view_module_version": "1.2.0",
      "_view_name": "LayoutView",
      "align_content": null,
      "align_items": null,
      "align_self": null,
      "border": null,
      "bottom": null,
      "display": null,
      "flex": null,
      "flex_flow": null,
      "grid_area": null,
      "grid_auto_columns": null,
      "grid_auto_flow": null,
      "grid_auto_rows": null,
      "grid_column": null,
      "grid_gap": null,
      "grid_row": null,
      "grid_template_areas": null,
      "grid_template_columns": null,
      "grid_template_rows": null,
      "height": null,
      "justify_content": null,
      "justify_items": null,
      "left": null,
      "margin": null,
      "max_height": null,
      "max_width": null,
      "min_height": null,
      "min_width": null,
      "object_fit": null,
      "object_position": null,
      "order": null,
      "overflow": null,
      "overflow_x": null,
      "overflow_y": null,
      "padding": null,
      "right": null,
      "top": null,
      "visibility": null,
      "width": null
     }
    },
    "b2331458f72a405cab1713a0c515719b": {
     "model_module": "@jupyter-widgets/controls",
     "model_name": "ProgressStyleModel",
     "state": {
      "_model_module": "@jupyter-widgets/controls",
      "_model_module_version": "1.5.0",
      "_model_name": "ProgressStyleModel",
      "_view_count": null,
      "_view_module": "@jupyter-widgets/base",
      "_view_module_version": "1.2.0",
      "_view_name": "StyleView",
      "bar_color": null,
      "description_width": "initial"
     }
    },
    "c5b8692a2c64476c8f16ee5c17360345": {
     "model_module": "@jupyter-widgets/controls",
     "model_name": "DescriptionStyleModel",
     "state": {
      "_model_module": "@jupyter-widgets/controls",
      "_model_module_version": "1.5.0",
      "_model_name": "DescriptionStyleModel",
      "_view_count": null,
      "_view_module": "@jupyter-widgets/base",
      "_view_module_version": "1.2.0",
      "_view_name": "StyleView",
      "description_width": ""
     }
    },
    "c690ac17024d4798954db2d194c234b0": {
     "model_module": "@jupyter-widgets/base",
     "model_name": "LayoutModel",
     "state": {
      "_model_module": "@jupyter-widgets/base",
      "_model_module_version": "1.2.0",
      "_model_name": "LayoutModel",
      "_view_count": null,
      "_view_module": "@jupyter-widgets/base",
      "_view_module_version": "1.2.0",
      "_view_name": "LayoutView",
      "align_content": null,
      "align_items": null,
      "align_self": null,
      "border": null,
      "bottom": null,
      "display": null,
      "flex": null,
      "flex_flow": null,
      "grid_area": null,
      "grid_auto_columns": null,
      "grid_auto_flow": null,
      "grid_auto_rows": null,
      "grid_column": null,
      "grid_gap": null,
      "grid_row": null,
      "grid_template_areas": null,
      "grid_template_columns": null,
      "grid_template_rows": null,
      "height": null,
      "justify_content": null,
      "justify_items": null,
      "left": null,
      "margin": null,
      "max_height": null,
      "max_width": null,
      "min_height": null,
      "min_width": null,
      "object_fit": null,
      "object_position": null,
      "order": null,
      "overflow": null,
      "overflow_x": null,
      "overflow_y": null,
      "padding": null,
      "right": null,
      "top": null,
      "visibility": null,
      "width": null
     }
    },
    "cb4ee20958f04f49baa193c52e4dd73d": {
     "model_module": "@jupyter-widgets/controls",
     "model_name": "ProgressStyleModel",
     "state": {
      "_model_module": "@jupyter-widgets/controls",
      "_model_module_version": "1.5.0",
      "_model_name": "ProgressStyleModel",
      "_view_count": null,
      "_view_module": "@jupyter-widgets/base",
      "_view_module_version": "1.2.0",
      "_view_name": "StyleView",
      "bar_color": null,
      "description_width": "initial"
     }
    },
    "d3068e33642346a698fd9772279f0a55": {
     "model_module": "@jupyter-widgets/controls",
     "model_name": "FloatProgressModel",
     "state": {
      "_dom_classes": [],
      "_model_module": "@jupyter-widgets/controls",
      "_model_module_version": "1.5.0",
      "_model_name": "FloatProgressModel",
      "_view_count": null,
      "_view_module": "@jupyter-widgets/controls",
      "_view_module_version": "1.5.0",
      "_view_name": "ProgressView",
      "bar_style": "success",
      "description": "100%",
      "description_tooltip": null,
      "layout": "IPY_MODEL_aeb3c006e81b40a78e3d4bad323af09e",
      "max": 1359,
      "min": 0,
      "orientation": "horizontal",
      "style": "IPY_MODEL_2743dd1b5bd34476bc37b056b110c547",
      "value": 1359
     }
    },
    "de90527c5752434ead6d9132f284e5ce": {
     "model_module": "@jupyter-widgets/controls",
     "model_name": "FloatProgressModel",
     "state": {
      "_dom_classes": [],
      "_model_module": "@jupyter-widgets/controls",
      "_model_module_version": "1.5.0",
      "_model_name": "FloatProgressModel",
      "_view_count": null,
      "_view_module": "@jupyter-widgets/controls",
      "_view_module_version": "1.5.0",
      "_view_name": "ProgressView",
      "bar_style": "success",
      "description": "100%",
      "description_tooltip": null,
      "layout": "IPY_MODEL_1b5102caac994643b82175ffc2fb36d3",
      "max": 1088,
      "min": 0,
      "orientation": "horizontal",
      "style": "IPY_MODEL_8523266a09fc4740aa8ad241dfebf73f",
      "value": 1088
     }
    },
    "df3d074378db49858c5d0bc7a5d635a9": {
     "model_module": "@jupyter-widgets/base",
     "model_name": "LayoutModel",
     "state": {
      "_model_module": "@jupyter-widgets/base",
      "_model_module_version": "1.2.0",
      "_model_name": "LayoutModel",
      "_view_count": null,
      "_view_module": "@jupyter-widgets/base",
      "_view_module_version": "1.2.0",
      "_view_name": "LayoutView",
      "align_content": null,
      "align_items": null,
      "align_self": null,
      "border": null,
      "bottom": null,
      "display": null,
      "flex": null,
      "flex_flow": null,
      "grid_area": null,
      "grid_auto_columns": null,
      "grid_auto_flow": null,
      "grid_auto_rows": null,
      "grid_column": null,
      "grid_gap": null,
      "grid_row": null,
      "grid_template_areas": null,
      "grid_template_columns": null,
      "grid_template_rows": null,
      "height": null,
      "justify_content": null,
      "justify_items": null,
      "left": null,
      "margin": null,
      "max_height": null,
      "max_width": null,
      "min_height": null,
      "min_width": null,
      "object_fit": null,
      "object_position": null,
      "order": null,
      "overflow": null,
      "overflow_x": null,
      "overflow_y": null,
      "padding": null,
      "right": null,
      "top": null,
      "visibility": null,
      "width": null
     }
    },
    "e0746eb1e91a450d8495a226ecf3d9a5": {
     "model_module": "@jupyter-widgets/base",
     "model_name": "LayoutModel",
     "state": {
      "_model_module": "@jupyter-widgets/base",
      "_model_module_version": "1.2.0",
      "_model_name": "LayoutModel",
      "_view_count": null,
      "_view_module": "@jupyter-widgets/base",
      "_view_module_version": "1.2.0",
      "_view_name": "LayoutView",
      "align_content": null,
      "align_items": null,
      "align_self": null,
      "border": null,
      "bottom": null,
      "display": null,
      "flex": null,
      "flex_flow": null,
      "grid_area": null,
      "grid_auto_columns": null,
      "grid_auto_flow": null,
      "grid_auto_rows": null,
      "grid_column": null,
      "grid_gap": null,
      "grid_row": null,
      "grid_template_areas": null,
      "grid_template_columns": null,
      "grid_template_rows": null,
      "height": null,
      "justify_content": null,
      "justify_items": null,
      "left": null,
      "margin": null,
      "max_height": null,
      "max_width": null,
      "min_height": null,
      "min_width": null,
      "object_fit": null,
      "object_position": null,
      "order": null,
      "overflow": null,
      "overflow_x": null,
      "overflow_y": null,
      "padding": null,
      "right": null,
      "top": null,
      "visibility": null,
      "width": null
     }
    },
    "e4e080797973409b8b053e6456f31707": {
     "model_module": "@jupyter-widgets/controls",
     "model_name": "FloatProgressModel",
     "state": {
      "_dom_classes": [],
      "_model_module": "@jupyter-widgets/controls",
      "_model_module_version": "1.5.0",
      "_model_name": "FloatProgressModel",
      "_view_count": null,
      "_view_module": "@jupyter-widgets/controls",
      "_view_module_version": "1.5.0",
      "_view_name": "ProgressView",
      "bar_style": "success",
      "description": "100%",
      "description_tooltip": null,
      "layout": "IPY_MODEL_8e6c5097c9bd45bb86bfa95d9daf28d0",
      "max": 217440,
      "min": 0,
      "orientation": "horizontal",
      "style": "IPY_MODEL_b2331458f72a405cab1713a0c515719b",
      "value": 217440
     }
    },
    "f7028c1a55fe47138c9db2c365c54e62": {
     "model_module": "@jupyter-widgets/controls",
     "model_name": "DescriptionStyleModel",
     "state": {
      "_model_module": "@jupyter-widgets/controls",
      "_model_module_version": "1.5.0",
      "_model_name": "DescriptionStyleModel",
      "_view_count": null,
      "_view_module": "@jupyter-widgets/base",
      "_view_module_version": "1.2.0",
      "_view_name": "StyleView",
      "description_width": ""
     }
    }
   }
  }
 },
 "nbformat": 4,
 "nbformat_minor": 1
}
